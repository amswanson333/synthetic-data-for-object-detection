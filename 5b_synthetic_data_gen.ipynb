{
 "cells": [
  {
   "cell_type": "markdown",
   "id": "702c4178",
   "metadata": {},
   "source": [
    "# ✂️ Synthetic Data Generation"
   ]
  },
  {
   "cell_type": "markdown",
   "id": "cdfbc62e",
   "metadata": {},
   "source": [
    "The second data set is generated using clipped images of drones (object) placed onto a real background image (canvas) in a cut-and-paste fashion."
   ]
  },
  {
   "cell_type": "markdown",
   "id": "ccf0ae9d",
   "metadata": {},
   "source": [
    "Number of images:\n",
    "- `Training = 20264`\n",
    "- `Validation = 4304`\n",
    "\n",
    "Test data will reuse the original data set for comparison."
   ]
  },
  {
   "cell_type": "code",
   "execution_count": 1,
   "id": "ad5aac4d",
   "metadata": {},
   "outputs": [],
   "source": [
    "from PIL import Image\n",
    "import numpy as np\n",
    "import pandas as pd\n",
    "import matplotlib.pyplot as plt\n",
    "import os\n",
    "import cv2\n",
    "\n",
    "from src import utils"
   ]
  },
  {
   "cell_type": "markdown",
   "id": "1de7d0ef",
   "metadata": {},
   "source": [
    "## 1. Canvas Images"
   ]
  },
  {
   "cell_type": "markdown",
   "id": "2b22bb67",
   "metadata": {},
   "source": [
    "Reusing the same canvas images for training and validation sets as previously split."
   ]
  },
  {
   "cell_type": "code",
   "execution_count": 2,
   "id": "2c87f6b4",
   "metadata": {},
   "outputs": [
    {
     "name": "stdout",
     "output_type": "stream",
     "text": [
      "61 training image canvases and 16 validation image canvases.\n"
     ]
    }
   ],
   "source": [
    "# Read the lists back in\n",
    "trn_canvases = pd.read_csv(os.path.join(utils.EXTERNAL_DATA_DIR, \"canvas\", \"trn_cache.csv\"))\n",
    "val_canvases = pd.read_csv(os.path.join(utils.EXTERNAL_DATA_DIR, \"canvas\", \"val_cache.csv\"))\n",
    "\n",
    "print(f\"{len(trn_canvases)} training image canvases and {len(val_canvases)} validation image canvases.\")"
   ]
  },
  {
   "cell_type": "markdown",
   "id": "895ce2ac",
   "metadata": {},
   "source": [
    "## 2. Objects"
   ]
  },
  {
   "cell_type": "markdown",
   "id": "5fb4ecb7",
   "metadata": {},
   "source": []
  },
  {
   "cell_type": "code",
   "execution_count": 3,
   "id": "70deb0fe",
   "metadata": {},
   "outputs": [],
   "source": [
    "# Get the list of 3D model files\n",
    "object_paths = utils.files.get_image_files(os.path.join(utils.EXTERNAL_DATA_DIR, \"drone_clipart\"))"
   ]
  },
  {
   "cell_type": "markdown",
   "id": "db4ea8ca",
   "metadata": {},
   "source": [
    "## 3. Data Generation"
   ]
  },
  {
   "cell_type": "markdown",
   "id": "a1f44e1a",
   "metadata": {},
   "source": []
  },
  {
   "cell_type": "markdown",
   "id": "ad0cb890",
   "metadata": {},
   "source": [
    "### a. Training Data"
   ]
  },
  {
   "cell_type": "markdown",
   "id": "d41522e3",
   "metadata": {},
   "source": []
  },
  {
   "cell_type": "code",
   "execution_count": null,
   "id": "8014bf91",
   "metadata": {},
   "outputs": [],
   "source": [
    "# Set the number of training data images to create\n",
    "training_total = 5066  # Actual = 5066"
   ]
  },
  {
   "cell_type": "code",
   "execution_count": 5,
   "id": "c7653423",
   "metadata": {},
   "outputs": [],
   "source": [
    "# Set the data directory\n",
    "train_data_dir = os.path.join(utils.INTERIM_DATA_DIR, \"clip_art_data\", \"train\")\n",
    "\n",
    "# Create the folders if they don't exist\n",
    "os.makedirs(train_data_dir, exist_ok=True)"
   ]
  },
  {
   "cell_type": "code",
   "execution_count": 8,
   "id": "3d012279",
   "metadata": {},
   "outputs": [
    {
     "name": "stdout",
     "output_type": "stream",
     "text": [
      "Creating training image 0 of 5\n"
     ]
    }
   ],
   "source": [
    "# Set a random number generator seed for reproducibility\n",
    "rng = np.random.default_rng(seed=555)\n",
    "\n",
    "# Loop to create training data equal to the total number specified\n",
    "for i in range(training_total):\n",
    "    \n",
    "    # Create a base file name for the final image and annotation file\n",
    "    base_filename = f\"clip_art_img_{i:05d}\"\n",
    "    \n",
    "    if i % 100 == 0:\n",
    "        print(f\"Creating training image {i} of {training_total}\")\n",
    "\n",
    "    # Randomly select a canvas image\n",
    "    canvas_path = rng.choice(trn_canvases)[0]\n",
    "    canvas = Image.open(canvas_path)\n",
    "    canvas_size = canvas.size\n",
    "\n",
    "    # Select a random number of models to place in the canvas\n",
    "    num_models = rng.integers(low=1, high=6)\n",
    "\n",
    "    # Loop for each model to be placed\n",
    "    for m in range(num_models):\n",
    "        # Randomly select a 3D model file\n",
    "        obj_path = rng.choice(object_paths)\n",
    "        # Load the object image\n",
    "        obj_img = Image.open(obj_path)\n",
    "            \n",
    "        # Set a seed for the model randomization\n",
    "        obj_seed = (i + 1) * 100 + (m + 1) * 10\n",
    "        \n",
    "        # Apply random number of transformations to the object\n",
    "        num_transforms = rng.integers(low=0, high=4)\n",
    "        # Loop for the number of transformations\n",
    "        for t in range(num_transforms):\n",
    "            obj_img = utils.synth.rng_transform(obj_img, seed = obj_seed + t)\n",
    "        \n",
    "        # Scale the object to a random size\n",
    "        # Scale is a factor of the canvas size\n",
    "        scale_factor = utils.synth.rng_scale(seed=obj_seed)\n",
    "        obj_img = utils.synth.scale_obj(obj_img, scale_factor, canvas_size)\n",
    "        # Width and height ratios for annotation\n",
    "        obj_width = obj_img.size[0] / canvas_size[0]\n",
    "        obj_height = obj_img.size[1] / canvas_size[1]\n",
    "\n",
    "        # Randomly position the object within the canvas\n",
    "        coordinates_topleft = utils.synth.rng_position(obj_img.size, canvas_size, seed=obj_seed)\n",
    "        # Calculate the center coordinates for annotation\n",
    "        x_center = (coordinates_topleft[0] + obj_img.size[0] / 2) / canvas_size[0]\n",
    "        y_center = (coordinates_topleft[1] + obj_img.size[1] / 2) / canvas_size[1]\n",
    "        \n",
    "        # Paste the object onto the canvas\n",
    "        canvas.paste(obj_img, coordinates_topleft)\n",
    "\n",
    "        # Add the annotation for the object to the annotation text file\n",
    "        ann = [0, x_center, y_center, obj_width, obj_height]  # Class is 0 since all objects are the same class\n",
    "        with open(os.path.join(train_data_dir, f\"{base_filename}.txt\"), \"a\") as ann_file:\n",
    "            ann_file.write(\" \".join([str(a) for a in ann]) + \"\\n\")\n",
    "            \n",
    "    # Save the final image\n",
    "    canvas.save(os.path.join(train_data_dir, f\"{base_filename}.png\"))"
   ]
  },
  {
   "cell_type": "markdown",
   "id": "a97de14c",
   "metadata": {},
   "source": [
    "### b. Validation Data"
   ]
  },
  {
   "cell_type": "markdown",
   "id": "5473fdad",
   "metadata": {},
   "source": []
  },
  {
   "cell_type": "code",
   "execution_count": null,
   "id": "f49f6513",
   "metadata": {},
   "outputs": [],
   "source": [
    "# Set the number of validation data images to create\n",
    "validation_total = 1076  # Actual = 1076"
   ]
  },
  {
   "cell_type": "code",
   "execution_count": null,
   "id": "5160ac33",
   "metadata": {},
   "outputs": [],
   "source": [
    "# Set the data directory\n",
    "val_data_dir = os.path.join(utils.INTERIM_DATA_DIR, \"clip_art_data\", \"val\")\n",
    "\n",
    "# Create the folders if they don't exist\n",
    "os.makedirs(val_data_dir, exist_ok=True)"
   ]
  },
  {
   "cell_type": "code",
   "execution_count": null,
   "id": "ffeb72a5",
   "metadata": {},
   "outputs": [],
   "source": []
  }
 ],
 "metadata": {
  "kernelspec": {
   "display_name": "sydrone",
   "language": "python",
   "name": "python3"
  },
  "language_info": {
   "codemirror_mode": {
    "name": "ipython",
    "version": 3
   },
   "file_extension": ".py",
   "mimetype": "text/x-python",
   "name": "python",
   "nbconvert_exporter": "python",
   "pygments_lexer": "ipython3",
   "version": "3.13.5"
  }
 },
 "nbformat": 4,
 "nbformat_minor": 5
}
