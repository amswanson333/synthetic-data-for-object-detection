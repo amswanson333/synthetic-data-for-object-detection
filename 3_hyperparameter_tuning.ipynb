{
 "cells": [
  {
   "cell_type": "markdown",
   "id": "1d55e997",
   "metadata": {},
   "source": [
    "# 🩻 Hyperparameter Tuning"
   ]
  },
  {
   "cell_type": "markdown",
   "id": "6e46712f",
   "metadata": {},
   "source": []
  },
  {
   "cell_type": "code",
   "execution_count": null,
   "id": "a2646f09",
   "metadata": {
    "vscode": {
     "languageId": "plaintext"
    }
   },
   "outputs": [],
   "source": []
  },
  {
   "cell_type": "markdown",
   "id": "f61f3dba",
   "metadata": {},
   "source": []
  },
  {
   "cell_type": "code",
   "execution_count": null,
   "id": "61a8f85e",
   "metadata": {
    "vscode": {
     "languageId": "plaintext"
    }
   },
   "outputs": [],
   "source": [
    "# YOLO Model YAML file\n",
    "\n",
    "yaml_filename = 'fakeplanes_session.yaml'\n",
    "\n",
    "yaml_content = f\"\"\"\n",
    "path: {base_wdir}/  # dataset root dir (leave empty for HUB)\n",
    "train: {train_folder}  # train images (relative to 'path')\n",
    "val:   {val_folder}    # val images (relative to 'path')\n",
    "test:  {test_folder}   # test images (optional)\n",
    "\n",
    "names:\n",
    "  0: drone\n",
    "\"\"\""
   ]
  }
 ],
 "metadata": {
  "language_info": {
   "name": "python"
  }
 },
 "nbformat": 4,
 "nbformat_minor": 5
}
