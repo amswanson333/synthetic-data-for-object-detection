{
 "cells": [
  {
   "cell_type": "markdown",
   "id": "47471307",
   "metadata": {},
   "source": [
    "# 🎨🖌️ Synthetic Data Generation"
   ]
  },
  {
   "cell_type": "markdown",
   "id": "3ec1b23e",
   "metadata": {},
   "source": [
    "The third dataset is generated using Google's Imagen v3. Canvases and objects are created separately and then combined so bounding boxes can be generated."
   ]
  },
  {
   "cell_type": "markdown",
   "id": "ab2b3cfd",
   "metadata": {},
   "source": [
    "Number of images:\n",
    "- `Training = 20264 / 4 = 5066`\n",
    "- `Validation = 4304 / 4 = 1076`\n",
    "\n",
    "Test data will reuse the original data set for comparison."
   ]
  },
  {
   "cell_type": "code",
   "execution_count": null,
   "id": "3db5b0e0",
   "metadata": {},
   "outputs": [],
   "source": [
    "from google import genai\n",
    "from PIL import Image\n",
    "import numpy as np\n",
    "import pandas as pd\n",
    "import matplotlib.pyplot as plt\n",
    "import os\n",
    "from dotenv import load_dotenv\n",
    "import cv2\n",
    "\n",
    "from src import utils"
   ]
  },
  {
   "cell_type": "markdown",
   "id": "683be026",
   "metadata": {},
   "source": [
    "## 1. Canvas Images"
   ]
  },
  {
   "cell_type": "markdown",
   "id": "84db2dd2",
   "metadata": {},
   "source": []
  },
  {
   "cell_type": "code",
   "execution_count": null,
   "id": "d86403a6",
   "metadata": {},
   "outputs": [],
   "source": [
    "# Load the Google API key from the .env file\n",
    "load_dotenv(\"src\\\\secrets.env\")\n",
    "GAPI_KEY = os.getenv(\"GAPI\")"
   ]
  },
  {
   "cell_type": "code",
   "execution_count": null,
   "id": "4c89f62d",
   "metadata": {},
   "outputs": [],
   "source": [
    "# List of terrain types\n",
    "terrain_types = [\n",
    "    \"a forest\",\n",
    "    \"a desert\",\n",
    "    \"a mountain\",\n",
    "    \"a beach\",\n",
    "    \"an urban\",\n",
    "    \"a countryside\",\n",
    "    \"a swamp\",\n",
    "    \"a tundra\",\n",
    "    \"a jungle\",\n",
    "    \"a savanna\",\n",
    "    \"an oceanside\"\n",
    "]"
   ]
  },
  {
   "cell_type": "code",
   "execution_count": null,
   "id": "e5fc3e9e",
   "metadata": {},
   "outputs": [],
   "source": [
    "# List of times of day\n",
    "time_of_day = [\n",
    "    \"morning\",\n",
    "    \"afternoon\",\n",
    "    \"evening\",\n",
    "    \"night\"\n",
    "]"
   ]
  },
  {
   "cell_type": "code",
   "execution_count": null,
   "id": "f3a67409",
   "metadata": {},
   "outputs": [],
   "source": [
    "# List of conditions\n",
    "conditions = [\n",
    "    \"sunny\",\n",
    "    \"cloudy\",\n",
    "    \"rainy\",\n",
    "    \"stormy\",\n",
    "    \"foggy\",\n",
    "    \"snowy\",\n",
    "    \"windy\",\n",
    "    \"clear\"\n",
    "]"
   ]
  },
  {
   "cell_type": "code",
   "execution_count": null,
   "id": "19436213",
   "metadata": {},
   "outputs": [],
   "source": [
    "# List of seasons\n",
    "seasons = [\n",
    "    \"spring\",\n",
    "    \"summer\",\n",
    "    \"autumn\",\n",
    "    \"winter\"\n",
    "]"
   ]
  },
  {
   "cell_type": "markdown",
   "id": "00772e72",
   "metadata": {},
   "source": [
    "### a. Training Data"
   ]
  },
  {
   "cell_type": "markdown",
   "id": "b6d2f471",
   "metadata": {},
   "source": []
  },
  {
   "cell_type": "code",
   "execution_count": null,
   "id": "bdbf0b9d",
   "metadata": {},
   "outputs": [],
   "source": [
    "# Set the number of training data images to create\n",
    "training_total = 5066  # Actual = 5066"
   ]
  },
  {
   "cell_type": "code",
   "execution_count": null,
   "id": "c6d0ad18",
   "metadata": {},
   "outputs": [],
   "source": [
    "# Set the data directory\n",
    "train_data_dir = os.path.join(utils.INTERIM_DATA_DIR, \"genai_data\", \"train\")\n",
    "\n",
    "# Create the folders if they don't exist\n",
    "os.makedirs(train_data_dir, exist_ok=True)"
   ]
  },
  {
   "cell_type": "markdown",
   "id": "8d79a7b7",
   "metadata": {},
   "source": [
    "### b. Validation Data"
   ]
  },
  {
   "cell_type": "markdown",
   "id": "5650a395",
   "metadata": {},
   "source": []
  },
  {
   "cell_type": "code",
   "execution_count": null,
   "id": "a8bdccc5",
   "metadata": {},
   "outputs": [],
   "source": [
    "# Set the number of validation data images to create\n",
    "validation_total = 1076  # Actual = 1076"
   ]
  },
  {
   "cell_type": "code",
   "execution_count": null,
   "id": "1d38ae46",
   "metadata": {},
   "outputs": [],
   "source": [
    "# Set the data directory\n",
    "val_data_dir = os.path.join(utils.INTERIM_DATA_DIR, \"genai_data\", \"val\")\n",
    "\n",
    "# Create the folders if they don't exist\n",
    "os.makedirs(val_data_dir, exist_ok=True)"
   ]
  }
 ],
 "metadata": {
  "kernelspec": {
   "display_name": "sydrone",
   "language": "python",
   "name": "python3"
  },
  "language_info": {
   "name": "python",
   "version": "3.13.5"
  }
 },
 "nbformat": 4,
 "nbformat_minor": 5
}
