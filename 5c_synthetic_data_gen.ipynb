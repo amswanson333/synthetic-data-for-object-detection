{
 "cells": [
  {
   "cell_type": "markdown",
   "id": "47471307",
   "metadata": {},
   "source": [
    "# 🎨🖌️ Synthetic Data Generation"
   ]
  },
  {
   "cell_type": "markdown",
   "id": "3ec1b23e",
   "metadata": {},
   "source": [
    "The third dataset is generated using Google's Imagen v3. Canvases and objects are created separately and then combined so bounding boxes can be generated."
   ]
  },
  {
   "cell_type": "markdown",
   "id": "ab2b3cfd",
   "metadata": {},
   "source": [
    "Number of images:\n",
    "- `Training = 20264 / 4 = 5066`\n",
    "- `Validation = 4304 / 4 = 1076`\n",
    "\n",
    "Test data will reuse the original data set for comparison."
   ]
  },
  {
   "cell_type": "code",
   "execution_count": null,
   "id": "3db5b0e0",
   "metadata": {},
   "outputs": [],
   "source": [
    "from google import genai\n",
    "from PIL import Image\n",
    "import numpy as np\n",
    "import pandas as pd\n",
    "import matplotlib.pyplot as plt\n",
    "import os\n",
    "from dotenv import load_dotenv\n",
    "import cv2\n",
    "\n",
    "from src import utils"
   ]
  }
 ],
 "metadata": {
  "kernelspec": {
   "display_name": "sydrone",
   "language": "python",
   "name": "python3"
  },
  "language_info": {
   "name": "python",
   "version": "3.13.5"
  }
 },
 "nbformat": 4,
 "nbformat_minor": 5
}
