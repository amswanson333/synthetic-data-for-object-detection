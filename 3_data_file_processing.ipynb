{
 "cells": [
  {
   "cell_type": "markdown",
   "id": "813a4bd4",
   "metadata": {},
   "source": [
    "# 🗃️ Data Processing"
   ]
  },
  {
   "cell_type": "markdown",
   "id": "4ed89ffb",
   "metadata": {},
   "source": []
  },
  {
   "cell_type": "code",
   "execution_count": null,
   "id": "18b46dd3",
   "metadata": {},
   "outputs": [],
   "source": [
    "import pandas as pd\n",
    "import os\n",
    "import shutil\n",
    "\n",
    "from src import utils"
   ]
  },
  {
   "cell_type": "markdown",
   "id": "385d7d99",
   "metadata": {},
   "source": [
    "## 1. Remove Blank Images"
   ]
  },
  {
   "cell_type": "markdown",
   "id": "976a06af",
   "metadata": {},
   "source": [
    "These blank images won't provide any meaningful benefit to the training or testing so they need to be removed."
   ]
  },
  {
   "cell_type": "code",
   "execution_count": 2,
   "id": "49a93fd5",
   "metadata": {},
   "outputs": [],
   "source": [
    "# Read in the csv list of all blank images\n",
    "black_images_df = pd.read_csv(os.path.join(utils.METADATA_DIR, 'dvb_black_images.csv'))"
   ]
  },
  {
   "cell_type": "code",
   "execution_count": 4,
   "id": "2a928b86",
   "metadata": {},
   "outputs": [],
   "source": [
    "# For each image file in the dataframe move it and its annotation file to a new folder\n",
    "blank_img_dir = \"data\\\\interim\\\\junk_data\\\\blank images and with their annotations\"\n",
    "\n",
    "for index, row in black_images_df.iterrows():\n",
    "    img_file = row['file_name']\n",
    "    ann_file = img_file.replace('.png', '.txt')\n",
    "    # Move the image file\n",
    "    os.rename(img_file, os.path.join(blank_img_dir, os.path.basename(img_file)))\n",
    "    # Move the annotation file\n",
    "    os.rename(ann_file, os.path.join(blank_img_dir, os.path.basename(ann_file)))"
   ]
  },
  {
   "cell_type": "markdown",
   "id": "0c510314",
   "metadata": {},
   "source": [
    "## 2. Fix Lagging Annotations"
   ]
  },
  {
   "cell_type": "markdown",
   "id": "e727567f",
   "metadata": {},
   "source": [
    "File `2019_10_16_C0003_3633_inspire` had some issues with the annotations that were discovered during the data exploration. The annotations were lagging behind the actual object. An additional 24 frames (approximately 1 second of video) were in the annotation file that are absent from the actual video file. Shifting the annotations by 24 frames should make the annotations line up correctly."
   ]
  },
  {
   "cell_type": "code",
   "execution_count": 9,
   "id": "bd984fb7",
   "metadata": {},
   "outputs": [],
   "source": [
    "# Get a list of the image files\n",
    "inspire_img_files = utils.files.get_image_files(os.path.join(utils.INTERIM_DATA_DIR, 'drone_vs_bird_data'))"
   ]
  },
  {
   "cell_type": "code",
   "execution_count": 10,
   "id": "15a34e97",
   "metadata": {},
   "outputs": [
    {
     "data": {
      "text/plain": [
       "106443"
      ]
     },
     "execution_count": 10,
     "metadata": {},
     "output_type": "execute_result"
    }
   ],
   "source": [
    "len(inspire_img_files)"
   ]
  },
  {
   "cell_type": "code",
   "execution_count": 11,
   "id": "1012c65c",
   "metadata": {},
   "outputs": [],
   "source": [
    "# Reduce the list of image files to just the files that contain 2019_10_16_C0003_3633_inspire\n",
    "inspire_img_files = [f for f in inspire_img_files if '2019_10_16_C0003_3633_inspire' in f]"
   ]
  },
  {
   "cell_type": "code",
   "execution_count": 13,
   "id": "1454927b",
   "metadata": {},
   "outputs": [
    {
     "data": {
      "text/plain": [
       "1402"
      ]
     },
     "execution_count": 13,
     "metadata": {},
     "output_type": "execute_result"
    }
   ],
   "source": [
    "num_imgs =len(inspire_img_files)\n",
    "num_imgs"
   ]
  },
  {
   "cell_type": "code",
   "execution_count": 5,
   "id": "1e5bb0ca",
   "metadata": {},
   "outputs": [],
   "source": [
    "# Get a list of the annotation files\n",
    "inspire_ann_files = utils.files.get_annotation_files(os.path.join(utils.INTERIM_DATA_DIR, 'drone_vs_bird_data'))"
   ]
  },
  {
   "cell_type": "code",
   "execution_count": 6,
   "id": "9f77e952",
   "metadata": {},
   "outputs": [
    {
     "data": {
      "text/plain": [
       "106444"
      ]
     },
     "execution_count": 6,
     "metadata": {},
     "output_type": "execute_result"
    }
   ],
   "source": [
    "len(inspire_ann_files)"
   ]
  },
  {
   "cell_type": "code",
   "execution_count": 7,
   "id": "d0618cb2",
   "metadata": {},
   "outputs": [],
   "source": [
    "# Reduce the list of annotation files to just the files that contain 2019_10_16_C0003_3633_inspire\n",
    "inspire_ann_files = [f for f in inspire_ann_files if '2019_10_16_C0003_3633_inspire' in f]"
   ]
  },
  {
   "cell_type": "code",
   "execution_count": 14,
   "id": "8738b3f7",
   "metadata": {},
   "outputs": [
    {
     "data": {
      "text/plain": [
       "1402"
      ]
     },
     "execution_count": 14,
     "metadata": {},
     "output_type": "execute_result"
    }
   ],
   "source": [
    "num_anns = len(inspire_ann_files)\n",
    "num_anns"
   ]
  },
  {
   "cell_type": "code",
   "execution_count": 15,
   "id": "34aca215",
   "metadata": {},
   "outputs": [
    {
     "data": {
      "text/plain": [
       "'data\\\\interim\\\\drone_vs_bird_data\\\\2019_10_16_C0003_3633_inspire_frame_0000.txt'"
      ]
     },
     "execution_count": 15,
     "metadata": {},
     "output_type": "execute_result"
    }
   ],
   "source": [
    "inspire_ann_files[0]"
   ]
  },
  {
   "cell_type": "code",
   "execution_count": null,
   "id": "46e734e8",
   "metadata": {},
   "outputs": [],
   "source": [
    "# Create a new list for the annotation files shifted by the difference in the number of images to annotations\n",
    "\n",
    "# Difference between annotations and images, note that this must be >= 0\n",
    "difference = num_anns - num_imgs\n",
    "# Blank list to store new annotation file names\n",
    "new_ann_files = []\n",
    "\n",
    "if difference > 0:\n",
    "    print(f\"Number of annotation files is greater than number of image files by {difference}. Adjusting annotation file names.\")\n",
    "    # Loop through original list of file names\n",
    "    for ann_file in inspire_ann_files:\n",
    "        # Remove the extension from the file name\n",
    "        file_name = os.path.splitext(ann_file)[0]\n",
    "        # Get the frame number and adjust it by the difference\n",
    "        frame = int(file_name[-4:]) # get the last 4 characters of the file\n",
    "        frame = frame - difference\n",
    "        frame = f\"{frame:0>4}\"\n",
    "        # Create the new file name\n",
    "        new_name = file_name[:-4] + frame + '.txt'\n",
    "        # Append the new file name to the list\n",
    "        new_ann_files.append(new_name)"
   ]
  },
  {
   "cell_type": "code",
   "execution_count": null,
   "id": "7e95742a",
   "metadata": {},
   "outputs": [],
   "source": [
    "# Rename the files from the original list to the new list\n",
    "for old_name, new_name in zip(inspire_ann_files, new_ann_files):\n",
    "    print(f\"Renaming {old_name} to {new_name}\")\n",
    "    os.rename(old_name, new_name)"
   ]
  },
  {
   "cell_type": "code",
   "execution_count": null,
   "id": "0e5428be",
   "metadata": {},
   "outputs": [],
   "source": [
    "# Move the renamed annotation files with a negative frame number to a new directory\n",
    "negative_frame_dir = \"data\\\\interim\\\\junk_data\\\\2019_10_16_C0003_3633_inspire excess annotations\"\n",
    "\n",
    "for ann_file in new_ann_files:\n",
    "    basename = os.path.basename(ann_file)\n",
    "    frame = int(basename[-8:-4])\n",
    "    if frame < 0:\n",
    "        print(f\"Moving {ann_file} to {negative_frame_dir}\")\n",
    "        shutil.move(ann_file, os.path.join(negative_frame_dir, basename))"
   ]
  },
  {
   "cell_type": "markdown",
   "id": "75ef5a1d",
   "metadata": {},
   "source": []
  },
  {
   "cell_type": "markdown",
   "id": "f8a4e266",
   "metadata": {},
   "source": []
  },
  {
   "cell_type": "code",
   "execution_count": null,
   "id": "9f822fe6",
   "metadata": {},
   "outputs": [],
   "source": []
  },
  {
   "cell_type": "code",
   "execution_count": null,
   "id": "d1f423f9",
   "metadata": {},
   "outputs": [],
   "source": [
    "test_files = [\n",
    "    '2019_09_02_GOPR5871_1058_solo',\n",
    "    'dji_matrice_210_off_focus',\n",
    "    'dji_mavick_hillside_off_focus',\n",
    "    'GOPR5843_002',\n",
    "    'GOPR5843_005',\n",
    "    'GOPR5847_003',\n",
    "    'GOPR5847_004',\n",
    "    'gopro_000',\n",
    "    'gopro_001',\n",
    "    'gopro_002',\n",
    "    'gopro_003',\n",
    "    'off_focus_parrot_birds',\n",
    "    'two_uavs_plus_airplane'\n",
    "]"
   ]
  },
  {
   "cell_type": "code",
   "execution_count": null,
   "id": "714df47a",
   "metadata": {},
   "outputs": [],
   "source": [
    "val_files = [\n",
    "    '00_09_30_to_00_10_09',\n",
    "    '00_10_09_to_00_10_40',\n",
    "    '2019_08_19_GOPR5869_1530_phantom',\n",
    "    '2019_08_19_GP015869_1520_inspire',\n",
    "    'dji_mavick_mountain_cruise',\n",
    "    'GOPR5844_002',\n",
    "    'GOPR5844_004',\n",
    "    'GOPR5846_002',\n",
    "    'GOPR5846_005',\n",
    "    'dji_mavick_distant_hillside',\n",
    "    'parrot_disco_zoomin_zoomout',\n",
    "    'distant_parrot_with_birds'\n",
    "]"
   ]
  },
  {
   "cell_type": "code",
   "execution_count": null,
   "id": "9363f942",
   "metadata": {},
   "outputs": [],
   "source": [
    "# Collect a list of all image files\n",
    "\n",
    "image_list = utils.image_data.get_image_files(os.path.join(utils.INTERIM_DATA_DIR, 'drone_vs_bird_data'))\n",
    "\n",
    "length_initial = len(image_list)\n",
    "\n",
    "print(f\"Total number of images: {length_initial}\")"
   ]
  },
  {
   "cell_type": "code",
   "execution_count": null,
   "id": "5b5edd41",
   "metadata": {},
   "outputs": [],
   "source": [
    "# Re-read the dataframe from the csv file\n",
    "black_images_df = pd.read_csv(os.path.join(utils.METADATA_DIR, 'dvb_black_images.csv'))"
   ]
  },
  {
   "cell_type": "code",
   "execution_count": null,
   "id": "9a79a64d",
   "metadata": {},
   "outputs": [],
   "source": [
    "# Remove all blank images this should be 17 less than the previous total\n",
    "\n",
    "image_list = [img for img in image_list if img not in black_images_df['file_name'].values]\n",
    "\n",
    "length_remove_blanks = len(image_list)\n",
    "\n",
    "print(f\"Total number of images after removing blank images: {length_remove_blanks}\")\n",
    "print(f\"Total removed: {length_initial - length_remove_blanks}\")\n",
    "print(f\"Total identified blank images: {len(black_images_df)}\")"
   ]
  },
  {
   "cell_type": "code",
   "execution_count": null,
   "id": "fd27e699",
   "metadata": {},
   "outputs": [],
   "source": [
    "# If the image contains the test file name move it from the list to a new list\n",
    "test_images = [img for img in image_list if utils.files.file_contains_name(img, test_files)]\n",
    "training_images = [img for img in image_list if img not in test_images]"
   ]
  },
  {
   "cell_type": "code",
   "execution_count": null,
   "id": "55a94e84",
   "metadata": {},
   "outputs": [],
   "source": [
    "# Do the same, splitting training into training and validation\n",
    "val_images = [img for img in training_images if utils.files.file_contains_name(img, val_files)]\n",
    "training_images = [img for img in training_images if img not in val_images]"
   ]
  },
  {
   "cell_type": "code",
   "execution_count": null,
   "id": "76d2b5d0",
   "metadata": {},
   "outputs": [],
   "source": [
    "# Check list sizes\n",
    "\n",
    "print(f\"Total number of test images: {len(test_images)}\")\n",
    "print(f\"Total number of validation images: {len(val_images)}\")\n",
    "print(f\"Total number of training images: {len(training_images)}\")"
   ]
  },
  {
   "cell_type": "code",
   "execution_count": null,
   "id": "d9c3aba0",
   "metadata": {},
   "outputs": [],
   "source": [
    "# Duplicate the lists for the annotation files\n",
    "\n",
    "test_annotations = test_images.copy()\n",
    "val_annotations = val_images.copy()\n",
    "training_annotations = training_images.copy()\n",
    "\n",
    "# Change file extensions for each line to .txt\n",
    "test_annotations = [os.path.splitext(ann)[0] + '.txt' for ann in test_annotations]\n",
    "val_annotations = [os.path.splitext(ann)[0] + '.txt' for ann in val_annotations]\n",
    "training_annotations = [os.path.splitext(ann)[0] + '.txt' for ann in training_annotations]"
   ]
  },
  {
   "cell_type": "code",
   "execution_count": null,
   "id": "fa7849eb",
   "metadata": {},
   "outputs": [],
   "source": [
    "# Set random seed for reproducibility\n",
    "rng = np.random.default_rng(42)\n",
    "\n",
    "# Get a random number in the range of the test set\n",
    "random_test_index = rng.integers(0, len(test_images))\n",
    "\n",
    "# Get a random number in the range of the validation set\n",
    "random_validation_index = rng.integers(0, len(val_images))\n",
    "\n",
    "# Get a random number in the range of the training set\n",
    "random_training_index = rng.integers(0, len(training_images))\n",
    "\n",
    "# Ensure that the test index gives matching image and annotations\n",
    "print(f\"Test image: {test_images[random_test_index]}\")\n",
    "print(f\"Test annotation: {test_annotations[random_test_index]}\")\n",
    "\n",
    "# Ensure that the validation index gives matching image and annotations\n",
    "print(f\"Validation image: {val_images[random_validation_index]}\")\n",
    "print(f\"Validation annotation: {val_annotations[random_validation_index]}\")\n",
    "\n",
    "# Ensure that the training index gives matching image and annotations\n",
    "print(f\"Training image: {training_images[random_training_index]}\")\n",
    "print(f\"Training annotation: {training_annotations[random_training_index]}\")\n"
   ]
  }
 ],
 "metadata": {
  "kernelspec": {
   "display_name": "sydrone",
   "language": "python",
   "name": "python3"
  },
  "language_info": {
   "codemirror_mode": {
    "name": "ipython",
    "version": 3
   },
   "file_extension": ".py",
   "mimetype": "text/x-python",
   "name": "python",
   "nbconvert_exporter": "python",
   "pygments_lexer": "ipython3",
   "version": "3.13.5"
  }
 },
 "nbformat": 4,
 "nbformat_minor": 5
}
