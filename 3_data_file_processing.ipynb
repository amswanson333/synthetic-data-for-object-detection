{
 "cells": [
  {
   "cell_type": "markdown",
   "id": "813a4bd4",
   "metadata": {},
   "source": [
    "# 🗃️ Data Processing"
   ]
  },
  {
   "cell_type": "markdown",
   "id": "4ed89ffb",
   "metadata": {},
   "source": []
  },
  {
   "cell_type": "code",
   "execution_count": null,
   "id": "18b46dd3",
   "metadata": {
    "vscode": {
     "languageId": "plaintext"
    }
   },
   "outputs": [],
   "source": []
  },
  {
   "cell_type": "markdown",
   "id": "385d7d99",
   "metadata": {},
   "source": []
  },
  {
   "cell_type": "code",
   "execution_count": null,
   "id": "d1f423f9",
   "metadata": {
    "vscode": {
     "languageId": "plaintext"
    }
   },
   "outputs": [],
   "source": [
    "test_files = [\n",
    "    '2019_09_02_GOPR5871_1058_solo',\n",
    "    'dji_matrice_210_off_focus',\n",
    "    'dji_mavick_hillside_off_focus',\n",
    "    'GOPR5843_002',\n",
    "    'GOPR5843_005',\n",
    "    'GOPR5847_003',\n",
    "    'GOPR5847_004',\n",
    "    'gopro_000',\n",
    "    'gopro_001',\n",
    "    'gopro_002',\n",
    "    'gopro_003',\n",
    "    'off_focus_parrot_birds',\n",
    "    'two_uavs_plus_airplane'\n",
    "]"
   ]
  },
  {
   "cell_type": "code",
   "execution_count": null,
   "id": "714df47a",
   "metadata": {
    "vscode": {
     "languageId": "plaintext"
    }
   },
   "outputs": [],
   "source": [
    "val_files = [\n",
    "    '00_09_30_to_00_10_09',\n",
    "    '00_10_09_to_00_10_40',\n",
    "    '2019_08_19_GOPR5869_1530_phantom',\n",
    "    '2019_08_19_GP015869_1520_inspire',\n",
    "    'dji_mavick_mountain_cruise',\n",
    "    'GOPR5844_002',\n",
    "    'GOPR5844_004',\n",
    "    'GOPR5846_002',\n",
    "    'GOPR5846_005',\n",
    "    'dji_mavick_distant_hillside',\n",
    "    'parrot_disco_zoomin_zoomout',\n",
    "    'distant_parrot_with_birds'\n",
    "]"
   ]
  },
  {
   "cell_type": "code",
   "execution_count": null,
   "id": "9363f942",
   "metadata": {
    "vscode": {
     "languageId": "plaintext"
    }
   },
   "outputs": [],
   "source": [
    "# Collect a list of all image files\n",
    "\n",
    "image_list = utils.image_data.get_image_files(os.path.join(utils.INTERIM_DATA_DIR, 'drone_vs_bird_data'))\n",
    "\n",
    "length_initial = len(image_list)\n",
    "\n",
    "print(f\"Total number of images: {length_initial}\")"
   ]
  },
  {
   "cell_type": "code",
   "execution_count": null,
   "id": "5b5edd41",
   "metadata": {
    "vscode": {
     "languageId": "plaintext"
    }
   },
   "outputs": [],
   "source": [
    "# Re-read the dataframe from the csv file\n",
    "black_images_df = pd.read_csv(os.path.join(utils.METADATA_DIR, 'dvb_black_images.csv'))"
   ]
  },
  {
   "cell_type": "code",
   "execution_count": null,
   "id": "9a79a64d",
   "metadata": {
    "vscode": {
     "languageId": "plaintext"
    }
   },
   "outputs": [],
   "source": [
    "# Remove all blank images this should be 17 less than the previous total\n",
    "\n",
    "image_list = [img for img in image_list if img not in black_images_df['file_name'].values]\n",
    "\n",
    "length_remove_blanks = len(image_list)\n",
    "\n",
    "print(f\"Total number of images after removing blank images: {length_remove_blanks}\")\n",
    "print(f\"Total removed: {length_initial - length_remove_blanks}\")\n",
    "print(f\"Total identified blank images: {len(black_images_df)}\")"
   ]
  },
  {
   "cell_type": "code",
   "execution_count": null,
   "id": "fd27e699",
   "metadata": {
    "vscode": {
     "languageId": "plaintext"
    }
   },
   "outputs": [],
   "source": [
    "# If the image contains the test file name move it from the list to a new list\n",
    "test_images = [img for img in image_list if utils.files.file_contains_name(img, test_files)]\n",
    "training_images = [img for img in image_list if img not in test_images]"
   ]
  },
  {
   "cell_type": "code",
   "execution_count": null,
   "id": "55a94e84",
   "metadata": {
    "vscode": {
     "languageId": "plaintext"
    }
   },
   "outputs": [],
   "source": [
    "# Do the same, splitting training into training and validation\n",
    "val_images = [img for img in training_images if utils.files.file_contains_name(img, val_files)]\n",
    "training_images = [img for img in training_images if img not in val_images]"
   ]
  },
  {
   "cell_type": "code",
   "execution_count": null,
   "id": "76d2b5d0",
   "metadata": {
    "vscode": {
     "languageId": "plaintext"
    }
   },
   "outputs": [],
   "source": [
    "# Check list sizes\n",
    "\n",
    "print(f\"Total number of test images: {len(test_images)}\")\n",
    "print(f\"Total number of validation images: {len(val_images)}\")\n",
    "print(f\"Total number of training images: {len(training_images)}\")"
   ]
  },
  {
   "cell_type": "code",
   "execution_count": null,
   "id": "d9c3aba0",
   "metadata": {
    "vscode": {
     "languageId": "plaintext"
    }
   },
   "outputs": [],
   "source": [
    "# Duplicate the lists for the annotation files\n",
    "\n",
    "test_annotations = test_images.copy()\n",
    "val_annotations = val_images.copy()\n",
    "training_annotations = training_images.copy()\n",
    "\n",
    "# Change file extensions for each line to .txt\n",
    "test_annotations = [os.path.splitext(ann)[0] + '.txt' for ann in test_annotations]\n",
    "val_annotations = [os.path.splitext(ann)[0] + '.txt' for ann in val_annotations]\n",
    "training_annotations = [os.path.splitext(ann)[0] + '.txt' for ann in training_annotations]"
   ]
  },
  {
   "cell_type": "code",
   "execution_count": null,
   "id": "fa7849eb",
   "metadata": {
    "vscode": {
     "languageId": "plaintext"
    }
   },
   "outputs": [],
   "source": [
    "# Set random seed for reproducibility\n",
    "rng = np.random.default_rng(42)\n",
    "\n",
    "# Get a random number in the range of the test set\n",
    "random_test_index = rng.integers(0, len(test_images))\n",
    "\n",
    "# Get a random number in the range of the validation set\n",
    "random_validation_index = rng.integers(0, len(val_images))\n",
    "\n",
    "# Get a random number in the range of the training set\n",
    "random_training_index = rng.integers(0, len(training_images))\n",
    "\n",
    "# Ensure that the test index gives matching image and annotations\n",
    "print(f\"Test image: {test_images[random_test_index]}\")\n",
    "print(f\"Test annotation: {test_annotations[random_test_index]}\")\n",
    "\n",
    "# Ensure that the validation index gives matching image and annotations\n",
    "print(f\"Validation image: {val_images[random_validation_index]}\")\n",
    "print(f\"Validation annotation: {val_annotations[random_validation_index]}\")\n",
    "\n",
    "# Ensure that the training index gives matching image and annotations\n",
    "print(f\"Training image: {training_images[random_training_index]}\")\n",
    "print(f\"Training annotation: {training_annotations[random_training_index]}\")\n"
   ]
  }
 ],
 "metadata": {
  "language_info": {
   "name": "python"
  }
 },
 "nbformat": 4,
 "nbformat_minor": 5
}
