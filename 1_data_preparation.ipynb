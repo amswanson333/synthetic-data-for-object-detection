{
 "cells": [
  {
   "cell_type": "markdown",
   "id": "b2ce1bd8",
   "metadata": {},
   "source": [
    "# 🗂️ Data Preparation"
   ]
  },
  {
   "cell_type": "markdown",
   "id": "623e3228",
   "metadata": {},
   "source": [
    "The data needs to be parsed in a way that the annotations are in the correct format and the videos are split into a series of images."
   ]
  },
  {
   "cell_type": "code",
   "execution_count": 1,
   "id": "ad5a9b1d",
   "metadata": {},
   "outputs": [],
   "source": [
    "import os\n",
    "\n",
    "from src import utils"
   ]
  },
  {
   "cell_type": "markdown",
   "id": "a1243563",
   "metadata": {},
   "source": [
    "# 1."
   ]
  },
  {
   "cell_type": "markdown",
   "id": "cb1d2203",
   "metadata": {},
   "source": [
    "Video and annotation data is saved to the `data\\raw` directory where it will remain unedited."
   ]
  },
  {
   "cell_type": "code",
   "execution_count": 2,
   "id": "63acad37",
   "metadata": {},
   "outputs": [
    {
     "data": {
      "text/plain": [
       "['00_01_52_to_00_01_58',\n",
       " '00_02_45_to_00_03_10_cut',\n",
       " '00_06_10_to_00_06_27',\n",
       " '00_09_30_to_00_10_09',\n",
       " '00_10_09_to_00_10_40',\n",
       " '2019_08_19_C0001_5319_phantom',\n",
       " '2019_08_19_GOPR5869_1530_phantom',\n",
       " '2019_08_19_GP015869_1520_inspire',\n",
       " '2019_09_02_C0002_2527_inspire',\n",
       " '2019_09_02_C0002_3700_mavic',\n",
       " '2019_09_02_GOPR5871_1058_solo',\n",
       " '2019_10_16_C0003_1700_matrice',\n",
       " '2019_10_16_C0003_3633_inspire',\n",
       " '2019_10_16_C0003_4613_mavic',\n",
       " '2019_10_16_C0003_5043_mavic',\n",
       " '2019_11_14_C0001_3922_matrice',\n",
       " 'custom_fixed_wing_1',\n",
       " 'custom_fixed_wing_2',\n",
       " 'distant_parrot_2',\n",
       " 'distant_parrot_with_birds',\n",
       " 'dji_matrice_210_hillside',\n",
       " 'dji_matrice_210_mountain',\n",
       " 'dji_matrice_210_off_focus',\n",
       " 'dji_matrice_210_sky',\n",
       " 'dji_mavick_close_buildings',\n",
       " 'dji_mavick_distant_hillside',\n",
       " 'dji_mavick_hillside_off_focus',\n",
       " 'dji_mavick_mountain',\n",
       " 'dji_mavick_mountain_cruise',\n",
       " 'dji_pantom_landing_custom_fixed_takeoff',\n",
       " 'dji_phantom_4_hillside_cross',\n",
       " 'dji_phantom_4_long_takeoff',\n",
       " 'dji_phantom_4_mountain_hover',\n",
       " 'dji_phantom_4_swarm_noon',\n",
       " 'dji_phantom_mountain_cross',\n",
       " 'fixed_wing_over_hill_1',\n",
       " 'fixed_wing_over_hill_2',\n",
       " 'GOPR5842_002',\n",
       " 'GOPR5842_005',\n",
       " 'GOPR5842_007',\n",
       " 'GOPR5843_002',\n",
       " 'GOPR5843_005',\n",
       " 'GOPR5844_002',\n",
       " 'GOPR5844_004',\n",
       " 'GOPR5845_001',\n",
       " 'GOPR5845_004',\n",
       " 'GOPR5846_002',\n",
       " 'GOPR5846_005',\n",
       " 'GOPR5847_003',\n",
       " 'GOPR5847_004',\n",
       " 'GOPR5848_002',\n",
       " 'GOPR5848_004',\n",
       " 'gopro_000',\n",
       " 'gopro_001',\n",
       " 'gopro_002',\n",
       " 'gopro_003',\n",
       " 'gopro_004',\n",
       " 'gopro_005',\n",
       " 'gopro_006',\n",
       " 'gopro_007',\n",
       " 'gopro_008',\n",
       " 'matrice_600_2',\n",
       " 'matrice_600_3',\n",
       " 'off_focus_parrot_birds',\n",
       " 'parot_disco_takeoff',\n",
       " 'parrot_clear_birds',\n",
       " 'parrot_clear_birds_med_range',\n",
       " 'parrot_disco_distant_cross',\n",
       " 'parrot_disco_distant_cross_3',\n",
       " 'parrot_disco_long_session',\n",
       " 'parrot_disco_midrange_cross',\n",
       " 'parrot_disco_zoomin_zoomout',\n",
       " 'swarm_dji_phantom',\n",
       " 'swarm_dji_phantom4_2',\n",
       " 'two_distant_phantom',\n",
       " 'two_parrot_disco_1',\n",
       " 'two_uavs_plus_airplane']"
      ]
     },
     "execution_count": 2,
     "metadata": {},
     "output_type": "execute_result"
    }
   ],
   "source": [
    "# Get a list of the files in the raw data directory\n",
    "\n",
    "drone_vs_bird_data = os.path.join(utils.RAW_DATA_DIR, 'drone_vs_bird_competition')\n",
    "\n",
    "raw_video_files = utils.files.get_video_files(drone_vs_bird_data)\n",
    "raw_video_files"
   ]
  },
  {
   "cell_type": "code",
   "execution_count": 4,
   "id": "7f0cf16c",
   "metadata": {},
   "outputs": [],
   "source": [
    "# There should be a total of 77 video files\n",
    "assert len(raw_video_files) == 77"
   ]
  },
  {
   "cell_type": "code",
   "execution_count": null,
   "id": "c9f9a4e8",
   "metadata": {},
   "outputs": [],
   "source": []
  }
 ],
 "metadata": {
  "kernelspec": {
   "display_name": "sydrone",
   "language": "python",
   "name": "python3"
  },
  "language_info": {
   "codemirror_mode": {
    "name": "ipython",
    "version": 3
   },
   "file_extension": ".py",
   "mimetype": "text/x-python",
   "name": "python",
   "nbconvert_exporter": "python",
   "pygments_lexer": "ipython3",
   "version": "3.13.5"
  }
 },
 "nbformat": 4,
 "nbformat_minor": 5
}
