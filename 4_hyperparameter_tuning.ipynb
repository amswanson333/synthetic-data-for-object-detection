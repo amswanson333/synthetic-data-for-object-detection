{
  "nbformat": 4,
  "nbformat_minor": 0,
  "metadata": {
    "colab": {
      "provenance": [],
      "gpuType": "A100"
    },
    "kernelspec": {
      "name": "python3",
      "display_name": "Python 3"
    },
    "language_info": {
      "name": "python"
    },
    "accelerator": "GPU"
  },
  "cells": [
    {
      "cell_type": "markdown",
      "source": [
        "# 🩻 Hyperparameter Tuning"
      ],
      "metadata": {
        "id": "mheauU29SbRY"
      }
    },
    {
      "cell_type": "markdown",
      "source": [
        "This notebook is built for use on google colab."
      ],
      "metadata": {
        "id": "b73r_HH0rbmh"
      }
    },
    {
      "cell_type": "markdown",
      "source": [
        "## 1. Install Packages"
      ],
      "metadata": {
        "id": "HaQOus7PrB3M"
      }
    },
    {
      "cell_type": "markdown",
      "source": [
        "Install the `ultralytics` package to access pre-trained YOLO models."
      ],
      "metadata": {
        "id": "3LThIMxfrr-e"
      }
    },
    {
      "cell_type": "code",
      "source": [
        "!pip install ultralytics"
      ],
      "metadata": {
        "colab": {
          "base_uri": "https://localhost:8080/"
        },
        "id": "vwm_fGrgSbtf",
        "outputId": "509ef93a-b53c-44f8-9618-543a0bfbc4fa"
      },
      "execution_count": null,
      "outputs": [
        {
          "output_type": "stream",
          "name": "stdout",
          "text": [
            "Collecting ultralytics\n",
            "  Downloading ultralytics-8.3.204-py3-none-any.whl.metadata (37 kB)\n",
            "Requirement already satisfied: numpy>=1.23.0 in /usr/local/lib/python3.12/dist-packages (from ultralytics) (2.0.2)\n",
            "Requirement already satisfied: matplotlib>=3.3.0 in /usr/local/lib/python3.12/dist-packages (from ultralytics) (3.10.0)\n",
            "Requirement already satisfied: opencv-python>=4.6.0 in /usr/local/lib/python3.12/dist-packages (from ultralytics) (4.12.0.88)\n",
            "Requirement already satisfied: pillow>=7.1.2 in /usr/local/lib/python3.12/dist-packages (from ultralytics) (11.3.0)\n",
            "Requirement already satisfied: pyyaml>=5.3.1 in /usr/local/lib/python3.12/dist-packages (from ultralytics) (6.0.2)\n",
            "Requirement already satisfied: requests>=2.23.0 in /usr/local/lib/python3.12/dist-packages (from ultralytics) (2.32.4)\n",
            "Requirement already satisfied: scipy>=1.4.1 in /usr/local/lib/python3.12/dist-packages (from ultralytics) (1.16.2)\n",
            "Requirement already satisfied: torch>=1.8.0 in /usr/local/lib/python3.12/dist-packages (from ultralytics) (2.8.0+cu126)\n",
            "Requirement already satisfied: torchvision>=0.9.0 in /usr/local/lib/python3.12/dist-packages (from ultralytics) (0.23.0+cu126)\n",
            "Requirement already satisfied: psutil in /usr/local/lib/python3.12/dist-packages (from ultralytics) (5.9.5)\n",
            "Requirement already satisfied: polars in /usr/local/lib/python3.12/dist-packages (from ultralytics) (1.25.2)\n",
            "Collecting ultralytics-thop>=2.0.0 (from ultralytics)\n",
            "  Downloading ultralytics_thop-2.0.17-py3-none-any.whl.metadata (14 kB)\n",
            "Requirement already satisfied: contourpy>=1.0.1 in /usr/local/lib/python3.12/dist-packages (from matplotlib>=3.3.0->ultralytics) (1.3.3)\n",
            "Requirement already satisfied: cycler>=0.10 in /usr/local/lib/python3.12/dist-packages (from matplotlib>=3.3.0->ultralytics) (0.12.1)\n",
            "Requirement already satisfied: fonttools>=4.22.0 in /usr/local/lib/python3.12/dist-packages (from matplotlib>=3.3.0->ultralytics) (4.60.0)\n",
            "Requirement already satisfied: kiwisolver>=1.3.1 in /usr/local/lib/python3.12/dist-packages (from matplotlib>=3.3.0->ultralytics) (1.4.9)\n",
            "Requirement already satisfied: packaging>=20.0 in /usr/local/lib/python3.12/dist-packages (from matplotlib>=3.3.0->ultralytics) (25.0)\n",
            "Requirement already satisfied: pyparsing>=2.3.1 in /usr/local/lib/python3.12/dist-packages (from matplotlib>=3.3.0->ultralytics) (3.2.4)\n",
            "Requirement already satisfied: python-dateutil>=2.7 in /usr/local/lib/python3.12/dist-packages (from matplotlib>=3.3.0->ultralytics) (2.9.0.post0)\n",
            "Requirement already satisfied: charset_normalizer<4,>=2 in /usr/local/lib/python3.12/dist-packages (from requests>=2.23.0->ultralytics) (3.4.3)\n",
            "Requirement already satisfied: idna<4,>=2.5 in /usr/local/lib/python3.12/dist-packages (from requests>=2.23.0->ultralytics) (3.10)\n",
            "Requirement already satisfied: urllib3<3,>=1.21.1 in /usr/local/lib/python3.12/dist-packages (from requests>=2.23.0->ultralytics) (2.5.0)\n",
            "Requirement already satisfied: certifi>=2017.4.17 in /usr/local/lib/python3.12/dist-packages (from requests>=2.23.0->ultralytics) (2025.8.3)\n",
            "Requirement already satisfied: filelock in /usr/local/lib/python3.12/dist-packages (from torch>=1.8.0->ultralytics) (3.19.1)\n",
            "Requirement already satisfied: typing-extensions>=4.10.0 in /usr/local/lib/python3.12/dist-packages (from torch>=1.8.0->ultralytics) (4.15.0)\n",
            "Requirement already satisfied: setuptools in /usr/local/lib/python3.12/dist-packages (from torch>=1.8.0->ultralytics) (75.2.0)\n",
            "Requirement already satisfied: sympy>=1.13.3 in /usr/local/lib/python3.12/dist-packages (from torch>=1.8.0->ultralytics) (1.13.3)\n",
            "Requirement already satisfied: networkx in /usr/local/lib/python3.12/dist-packages (from torch>=1.8.0->ultralytics) (3.5)\n",
            "Requirement already satisfied: jinja2 in /usr/local/lib/python3.12/dist-packages (from torch>=1.8.0->ultralytics) (3.1.6)\n",
            "Requirement already satisfied: fsspec in /usr/local/lib/python3.12/dist-packages (from torch>=1.8.0->ultralytics) (2025.3.0)\n",
            "Requirement already satisfied: nvidia-cuda-nvrtc-cu12==12.6.77 in /usr/local/lib/python3.12/dist-packages (from torch>=1.8.0->ultralytics) (12.6.77)\n",
            "Requirement already satisfied: nvidia-cuda-runtime-cu12==12.6.77 in /usr/local/lib/python3.12/dist-packages (from torch>=1.8.0->ultralytics) (12.6.77)\n",
            "Requirement already satisfied: nvidia-cuda-cupti-cu12==12.6.80 in /usr/local/lib/python3.12/dist-packages (from torch>=1.8.0->ultralytics) (12.6.80)\n",
            "Requirement already satisfied: nvidia-cudnn-cu12==9.10.2.21 in /usr/local/lib/python3.12/dist-packages (from torch>=1.8.0->ultralytics) (9.10.2.21)\n",
            "Requirement already satisfied: nvidia-cublas-cu12==12.6.4.1 in /usr/local/lib/python3.12/dist-packages (from torch>=1.8.0->ultralytics) (12.6.4.1)\n",
            "Requirement already satisfied: nvidia-cufft-cu12==11.3.0.4 in /usr/local/lib/python3.12/dist-packages (from torch>=1.8.0->ultralytics) (11.3.0.4)\n",
            "Requirement already satisfied: nvidia-curand-cu12==10.3.7.77 in /usr/local/lib/python3.12/dist-packages (from torch>=1.8.0->ultralytics) (10.3.7.77)\n",
            "Requirement already satisfied: nvidia-cusolver-cu12==11.7.1.2 in /usr/local/lib/python3.12/dist-packages (from torch>=1.8.0->ultralytics) (11.7.1.2)\n",
            "Requirement already satisfied: nvidia-cusparse-cu12==12.5.4.2 in /usr/local/lib/python3.12/dist-packages (from torch>=1.8.0->ultralytics) (12.5.4.2)\n",
            "Requirement already satisfied: nvidia-cusparselt-cu12==0.7.1 in /usr/local/lib/python3.12/dist-packages (from torch>=1.8.0->ultralytics) (0.7.1)\n",
            "Requirement already satisfied: nvidia-nccl-cu12==2.27.3 in /usr/local/lib/python3.12/dist-packages (from torch>=1.8.0->ultralytics) (2.27.3)\n",
            "Requirement already satisfied: nvidia-nvtx-cu12==12.6.77 in /usr/local/lib/python3.12/dist-packages (from torch>=1.8.0->ultralytics) (12.6.77)\n",
            "Requirement already satisfied: nvidia-nvjitlink-cu12==12.6.85 in /usr/local/lib/python3.12/dist-packages (from torch>=1.8.0->ultralytics) (12.6.85)\n",
            "Requirement already satisfied: nvidia-cufile-cu12==1.11.1.6 in /usr/local/lib/python3.12/dist-packages (from torch>=1.8.0->ultralytics) (1.11.1.6)\n",
            "Requirement already satisfied: triton==3.4.0 in /usr/local/lib/python3.12/dist-packages (from torch>=1.8.0->ultralytics) (3.4.0)\n",
            "Requirement already satisfied: six>=1.5 in /usr/local/lib/python3.12/dist-packages (from python-dateutil>=2.7->matplotlib>=3.3.0->ultralytics) (1.17.0)\n",
            "Requirement already satisfied: mpmath<1.4,>=1.1.0 in /usr/local/lib/python3.12/dist-packages (from sympy>=1.13.3->torch>=1.8.0->ultralytics) (1.3.0)\n",
            "Requirement already satisfied: MarkupSafe>=2.0 in /usr/local/lib/python3.12/dist-packages (from jinja2->torch>=1.8.0->ultralytics) (3.0.2)\n",
            "Downloading ultralytics-8.3.204-py3-none-any.whl (1.1 MB)\n",
            "\u001b[2K   \u001b[90m━━━━━━━━━━━━━━━━━━━━━━━━━━━━━━━━━━━━━━━━\u001b[0m \u001b[32m1.1/1.1 MB\u001b[0m \u001b[31m67.4 MB/s\u001b[0m eta \u001b[36m0:00:00\u001b[0m\n",
            "\u001b[?25hDownloading ultralytics_thop-2.0.17-py3-none-any.whl (28 kB)\n",
            "Installing collected packages: ultralytics-thop, ultralytics\n",
            "Successfully installed ultralytics-8.3.204 ultralytics-thop-2.0.17\n"
          ]
        }
      ]
    },
    {
      "cell_type": "markdown",
      "source": [
        "Install the `wandb` package for Weights and Biases website (https://wandb.ai/) integration."
      ],
      "metadata": {
        "id": "A7J6v1sSr0Dr"
      }
    },
    {
      "cell_type": "code",
      "source": [
        "!pip install wandb"
      ],
      "metadata": {
        "colab": {
          "base_uri": "https://localhost:8080/"
        },
        "id": "zzlY3KX4rJCG",
        "outputId": "4ca04756-fdd7-4c22-9afd-0fd7786e3203"
      },
      "execution_count": null,
      "outputs": [
        {
          "output_type": "stream",
          "name": "stdout",
          "text": [
            "Requirement already satisfied: wandb in /usr/local/lib/python3.12/dist-packages (0.21.4)\n",
            "Requirement already satisfied: click>=8.0.1 in /usr/local/lib/python3.12/dist-packages (from wandb) (8.2.1)\n",
            "Requirement already satisfied: gitpython!=3.1.29,>=1.0.0 in /usr/local/lib/python3.12/dist-packages (from wandb) (3.1.45)\n",
            "Requirement already satisfied: packaging in /usr/local/lib/python3.12/dist-packages (from wandb) (25.0)\n",
            "Requirement already satisfied: platformdirs in /usr/local/lib/python3.12/dist-packages (from wandb) (4.4.0)\n",
            "Requirement already satisfied: protobuf!=4.21.0,!=5.28.0,<7,>=3.19.0 in /usr/local/lib/python3.12/dist-packages (from wandb) (5.29.5)\n",
            "Requirement already satisfied: pydantic<3 in /usr/local/lib/python3.12/dist-packages (from wandb) (2.11.9)\n",
            "Requirement already satisfied: pyyaml in /usr/local/lib/python3.12/dist-packages (from wandb) (6.0.2)\n",
            "Requirement already satisfied: requests<3,>=2.0.0 in /usr/local/lib/python3.12/dist-packages (from wandb) (2.32.4)\n",
            "Requirement already satisfied: sentry-sdk>=2.0.0 in /usr/local/lib/python3.12/dist-packages (from wandb) (2.38.0)\n",
            "Requirement already satisfied: typing-extensions<5,>=4.8 in /usr/local/lib/python3.12/dist-packages (from wandb) (4.15.0)\n",
            "Requirement already satisfied: gitdb<5,>=4.0.1 in /usr/local/lib/python3.12/dist-packages (from gitpython!=3.1.29,>=1.0.0->wandb) (4.0.12)\n",
            "Requirement already satisfied: annotated-types>=0.6.0 in /usr/local/lib/python3.12/dist-packages (from pydantic<3->wandb) (0.7.0)\n",
            "Requirement already satisfied: pydantic-core==2.33.2 in /usr/local/lib/python3.12/dist-packages (from pydantic<3->wandb) (2.33.2)\n",
            "Requirement already satisfied: typing-inspection>=0.4.0 in /usr/local/lib/python3.12/dist-packages (from pydantic<3->wandb) (0.4.1)\n",
            "Requirement already satisfied: charset_normalizer<4,>=2 in /usr/local/lib/python3.12/dist-packages (from requests<3,>=2.0.0->wandb) (3.4.3)\n",
            "Requirement already satisfied: idna<4,>=2.5 in /usr/local/lib/python3.12/dist-packages (from requests<3,>=2.0.0->wandb) (3.10)\n",
            "Requirement already satisfied: urllib3<3,>=1.21.1 in /usr/local/lib/python3.12/dist-packages (from requests<3,>=2.0.0->wandb) (2.5.0)\n",
            "Requirement already satisfied: certifi>=2017.4.17 in /usr/local/lib/python3.12/dist-packages (from requests<3,>=2.0.0->wandb) (2025.8.3)\n",
            "Requirement already satisfied: smmap<6,>=3.0.1 in /usr/local/lib/python3.12/dist-packages (from gitdb<5,>=4.0.1->gitpython!=3.1.29,>=1.0.0->wandb) (5.0.2)\n"
          ]
        }
      ]
    },
    {
      "cell_type": "markdown",
      "source": [
        "## 2. Import Necessary Packages"
      ],
      "metadata": {
        "id": "i-HGQBaJSNrp"
      }
    },
    {
      "cell_type": "code",
      "source": [
        "from ultralytics import YOLO\n",
        "import wandb\n",
        "from wandb.integration.ultralytics import add_wandb_callback\n",
        "import torch\n",
        "\n",
        "from google.colab import drive\n",
        "from google.colab import userdata\n",
        "import zipfile\n",
        "import os"
      ],
      "metadata": {
        "colab": {
          "base_uri": "https://localhost:8080/"
        },
        "id": "omNzW8ETSNY4",
        "outputId": "de432ce5-109f-4261-b988-a9ee8efe987e"
      },
      "execution_count": null,
      "outputs": [
        {
          "output_type": "stream",
          "name": "stdout",
          "text": [
            "Creating new Ultralytics Settings v0.0.6 file ✅ \n",
            "View Ultralytics Settings with 'yolo settings' or at '/root/.config/Ultralytics/settings.json'\n",
            "Update Settings with 'yolo settings key=value', i.e. 'yolo settings runs_dir=path/to/dir'. For help see https://docs.ultralytics.com/quickstart/#ultralytics-settings.\n"
          ]
        },
        {
          "output_type": "stream",
          "name": "stderr",
          "text": [
            "\u001b[34m\u001b[1mwandb\u001b[0m: \u001b[33mWARNING\u001b[0m This integration is tested and supported for ultralytics v8.0.238 and below.\n",
            "\u001b[34m\u001b[1mwandb\u001b[0m: \u001b[33mWARNING\u001b[0m             Please report any issues to https://github.com/wandb/wandb/issues with the tag `yolov8`.\n"
          ]
        }
      ]
    },
    {
      "cell_type": "markdown",
      "source": [
        "## 3. Get Necessary Files"
      ],
      "metadata": {
        "id": "H2FWaEjZthss"
      }
    },
    {
      "cell_type": "markdown",
      "source": [
        "Loading the data from the google drive and unzipping."
      ],
      "metadata": {
        "id": "V0j6oFQ-Q5dE"
      }
    },
    {
      "cell_type": "code",
      "execution_count": null,
      "metadata": {
        "id": "VICKqo3GLUlP"
      },
      "outputs": [],
      "source": [
        "# Download the data from google drive\n",
        "file_name = \"/content/drive/MyDrive/Share Files/dvb_data_redux.zip\""
      ]
    },
    {
      "cell_type": "code",
      "metadata": {
        "colab": {
          "base_uri": "https://localhost:8080/"
        },
        "id": "403c9d46",
        "outputId": "015c6896-c480-4bf5-b3f0-0d22a9ef08cb"
      },
      "source": [
        "drive.mount('/content/drive')"
      ],
      "execution_count": null,
      "outputs": [
        {
          "output_type": "stream",
          "name": "stdout",
          "text": [
            "Drive already mounted at /content/drive; to attempt to forcibly remount, call drive.mount(\"/content/drive\", force_remount=True).\n"
          ]
        }
      ]
    },
    {
      "cell_type": "code",
      "metadata": {
        "id": "6579f434"
      },
      "source": [
        "# Extract zip file to the content/datasets directory\n",
        "try:\n",
        "    with zipfile.ZipFile(file_name, 'r') as zip_ref:\n",
        "        zip_ref.extractall('/content/datasets/')\n",
        "except FileNotFoundError:\n",
        "    print(f\"Error: The file {file_name} was not found.\")\n",
        "except zipfile.BadZipFile:\n",
        "    print(f\"Error: The file {file_name} is not a valid zip file.\")\n",
        "except Exception as e:\n",
        "    print(f\"An error occurred: {e}\")"
      ],
      "execution_count": null,
      "outputs": []
    },
    {
      "cell_type": "markdown",
      "source": [
        "Create the YOLO model YAML file."
      ],
      "metadata": {
        "id": "2zOuUJNTRAUe"
      }
    },
    {
      "cell_type": "code",
      "source": [
        "# YOLO Model YAML file\n",
        "yaml_filename = 'tuning.yaml'\n",
        "\n",
        "yaml_content = \"\"\"\n",
        "path: dvb_data_redux  # dataset root dir (leave empty for HUB)\n",
        "train: train  # train images (relative to 'path')\n",
        "val:   val    # val images (relative to 'path')\n",
        "test:  test   # test images (optional)\n",
        "\n",
        "names:\n",
        "  0: drone\n",
        "\"\"\""
      ],
      "metadata": {
        "id": "MUvX021HRA1a"
      },
      "execution_count": null,
      "outputs": []
    },
    {
      "cell_type": "code",
      "source": [
        "# Write the YAML config file\n",
        "model_path = \"/content/model\"\n",
        "\n",
        "# Create the file\n",
        "\n",
        "\n",
        "with open(os.path.join(model_path, yaml_filename), 'w') as f:\n",
        "    f.write(yaml_content)"
      ],
      "metadata": {
        "id": "eJWnLTs2RdwR"
      },
      "execution_count": null,
      "outputs": []
    },
    {
      "cell_type": "markdown",
      "source": [
        "## 4. Model Tuning"
      ],
      "metadata": {
        "id": "_XawGLtnRdHL"
      }
    },
    {
      "cell_type": "markdown",
      "source": [
        "Connect to wandb."
      ],
      "metadata": {
        "id": "gr2UOW9YwdgP"
      }
    },
    {
      "cell_type": "code",
      "source": [
        "KEY = userdata.get('WANDB_KEY')\n",
        "wandb.login(key=KEY)"
      ],
      "metadata": {
        "colab": {
          "base_uri": "https://localhost:8080/"
        },
        "id": "uleQYehJwcqG",
        "outputId": "fd4349ee-fd80-4261-8574-7f9eb420db9c"
      },
      "execution_count": null,
      "outputs": [
        {
          "output_type": "stream",
          "name": "stderr",
          "text": [
            "/usr/local/lib/python3.12/dist-packages/notebook/notebookapp.py:191: SyntaxWarning: invalid escape sequence '\\/'\n",
            "  | |_| | '_ \\/ _` / _` |  _/ -_)\n",
            "\u001b[34m\u001b[1mwandb\u001b[0m: \u001b[33mWARNING\u001b[0m If you're specifying your api key in code, ensure this code is not shared publicly.\n",
            "\u001b[34m\u001b[1mwandb\u001b[0m: \u001b[33mWARNING\u001b[0m Consider setting the WANDB_API_KEY environment variable, or running `wandb login` from the command line.\n",
            "\u001b[34m\u001b[1mwandb\u001b[0m: No netrc file found, creating one.\n",
            "\u001b[34m\u001b[1mwandb\u001b[0m: Appending key for api.wandb.ai to your netrc file: /root/.netrc\n",
            "\u001b[34m\u001b[1mwandb\u001b[0m: Currently logged in as: \u001b[33mamswanson333\u001b[0m (\u001b[33msynth-drone\u001b[0m) to \u001b[32mhttps://api.wandb.ai\u001b[0m. Use \u001b[1m`wandb login --relogin`\u001b[0m to force relogin\n"
          ]
        },
        {
          "output_type": "execute_result",
          "data": {
            "text/plain": [
              "True"
            ]
          },
          "metadata": {},
          "execution_count": 9
        }
      ]
    },
    {
      "cell_type": "markdown",
      "source": [
        "Load YOLO model."
      ],
      "metadata": {
        "id": "FpLsCilPxiX7"
      }
    },
    {
      "cell_type": "code",
      "source": [
        "# Load pre-trained YOLO 11 model\n",
        "model = YOLO('yolo11x.pt')"
      ],
      "metadata": {
        "colab": {
          "base_uri": "https://localhost:8080/"
        },
        "id": "STPi7aNPRyTW",
        "outputId": "3092a5fc-fad1-493b-b401-96eb668405b9"
      },
      "execution_count": null,
      "outputs": [
        {
          "output_type": "stream",
          "name": "stdout",
          "text": [
            "\u001b[KDownloading https://github.com/ultralytics/assets/releases/download/v8.3.0/yolo11x.pt to 'yolo11x.pt': 100% ━━━━━━━━━━━━ 109.3MB 256.2MB/s 0.4s\n"
          ]
        }
      ]
    },
    {
      "cell_type": "markdown",
      "source": [
        "Define the hyperparameter search space. Defaults available here: https://docs.ultralytics.com/guides/hyperparameter-tuning/#default-search-space-description"
      ],
      "metadata": {
        "id": "gZPtZTmZxpHD"
      }
    },
    {
      "cell_type": "code",
      "source": [
        "search_space = {\n",
        "    \"lr0\": (1e-5, 1e-3),\n",
        "    \"lrf\": (0.01, 1.0),\n",
        "    \"momentum\": (0.8, 0.98),\n",
        "    \"weight_decay\": (0.0, 1e-3),\n",
        "    \"hsv_h\": (0.0, 0.1),\n",
        "    \"hsv_s\": (0.0, 0.9),\n",
        "    \"hsv_v\": (0.0, 0.9),\n",
        "    \"degrees\": (0.0, 45.0),\n",
        "    \"translate\": (0.0, 0.25),\n",
        "    \"shear\": (0.0, 5.0),\n",
        "    \"perspective\": (0.0, 0.001),\n",
        "    \"fliplr\": (0.0, 0.5),\n",
        "    \"mosaic\": (0.0, 1.0),\n",
        "    \"mixup\": (0.0, 0.5)\n",
        "}"
      ],
      "metadata": {
        "id": "XflHft9YxsAR"
      },
      "execution_count": null,
      "outputs": []
    },
    {
      "cell_type": "markdown",
      "source": [
        "Initialize wandb project."
      ],
      "metadata": {
        "id": "nVw-ERkO1HLM"
      }
    },
    {
      "cell_type": "code",
      "source": [
        "wandb.init(project=\"yolo-tuning\")"
      ],
      "metadata": {
        "colab": {
          "base_uri": "https://localhost:8080/",
          "height": 142
        },
        "id": "FwQ7VtLc1MY6",
        "outputId": "47805287-1b13-418a-c328-4433d959964e"
      },
      "execution_count": null,
      "outputs": [
        {
          "output_type": "display_data",
          "data": {
            "text/plain": [
              "<IPython.core.display.HTML object>"
            ],
            "text/html": [
              "Waiting for wandb.init()..."
            ]
          },
          "metadata": {}
        },
        {
          "output_type": "display_data",
          "data": {
            "text/plain": [
              "<IPython.core.display.HTML object>"
            ],
            "text/html": [
              "Tracking run with wandb version 0.21.3"
            ]
          },
          "metadata": {}
        },
        {
          "output_type": "display_data",
          "data": {
            "text/plain": [
              "<IPython.core.display.HTML object>"
            ],
            "text/html": [
              "Run data is saved locally in <code>/content/wandb/run-20250922_053817-srwjqfi0</code>"
            ]
          },
          "metadata": {}
        },
        {
          "output_type": "display_data",
          "data": {
            "text/plain": [
              "<IPython.core.display.HTML object>"
            ],
            "text/html": [
              "Syncing run <strong><a href='https://wandb.ai/synth-drone/yolo-tuning/runs/srwjqfi0' target=\"_blank\">comic-silence-189</a></strong> to <a href='https://wandb.ai/synth-drone/yolo-tuning' target=\"_blank\">Weights & Biases</a> (<a href='https://wandb.me/developer-guide' target=\"_blank\">docs</a>)<br>"
            ]
          },
          "metadata": {}
        },
        {
          "output_type": "display_data",
          "data": {
            "text/plain": [
              "<IPython.core.display.HTML object>"
            ],
            "text/html": [
              " View project at <a href='https://wandb.ai/synth-drone/yolo-tuning' target=\"_blank\">https://wandb.ai/synth-drone/yolo-tuning</a>"
            ]
          },
          "metadata": {}
        },
        {
          "output_type": "display_data",
          "data": {
            "text/plain": [
              "<IPython.core.display.HTML object>"
            ],
            "text/html": [
              " View run at <a href='https://wandb.ai/synth-drone/yolo-tuning/runs/srwjqfi0' target=\"_blank\">https://wandb.ai/synth-drone/yolo-tuning/runs/srwjqfi0</a>"
            ]
          },
          "metadata": {}
        },
        {
          "output_type": "execute_result",
          "data": {
            "text/html": [
              "<button onClick=\"this.nextSibling.style.display='block';this.style.display='none';\">Display W&B run</button><iframe src='https://wandb.ai/synth-drone/yolo-tuning/runs/srwjqfi0?jupyter=true' style='border:none;width:100%;height:420px;display:none;'></iframe>"
            ],
            "text/plain": [
              "<wandb.sdk.wandb_run.Run at 0x7901ac2dbf80>"
            ]
          },
          "metadata": {},
          "execution_count": 12
        }
      ]
    },
    {
      "cell_type": "markdown",
      "source": [
        "Tune the model."
      ],
      "metadata": {
        "id": "PojhQ2ou3FTL"
      }
    },
    {
      "cell_type": "code",
      "source": [
        "# Verify CUDA support is enabled\n",
        "if torch.cuda.is_available():\n",
        "    print(\"CUDA is enabled. Training on GPU.\")\n",
        "    print(\"GPU Device:\", torch.cuda.get_device_name(0))\n",
        "else:\n",
        "    print(\"CUDA is not available. Training on CPU.\")"
      ],
      "metadata": {
        "colab": {
          "base_uri": "https://localhost:8080/"
        },
        "id": "_S5aMU013dkl",
        "outputId": "9c8830a2-1706-4d49-cd0f-035d90a0a47e"
      },
      "execution_count": null,
      "outputs": [
        {
          "output_type": "stream",
          "name": "stdout",
          "text": [
            "CUDA is enabled. Training on GPU.\n",
            "GPU Device: NVIDIA A100-SXM4-80GB\n"
          ]
        }
      ]
    },
    {
      "cell_type": "code",
      "source": [
        "model.tune(\n",
        "    data=\"/content/model/tuning.yaml\",\n",
        "    batch=0.85,\n",
        "    epochs=20,\n",
        "    patience=5,\n",
        "    iterations=32,\n",
        "    optimizer=\"AdamW\",\n",
        "    space=search_space\n",
        ")"
      ],
      "metadata": {
        "colab": {
          "base_uri": "https://localhost:8080/"
        },
        "id": "dsnEDdif3Eov",
        "outputId": "2e6bbee6-3616-408b-f958-a757f5563157"
      },
      "execution_count": null,
      "outputs": [
        {
          "output_type": "stream",
          "name": "stdout",
          "text": [
            "\u001b[34m\u001b[1mTuner: \u001b[0mInitialized Tuner instance with 'tune_dir=/content/runs/detect/tune'\n",
            "\u001b[34m\u001b[1mTuner: \u001b[0m💡 Learn about tuning at https://docs.ultralytics.com/guides/hyperparameter-tuning\n",
            "\u001b[34m\u001b[1mTuner: \u001b[0mStarting iteration 1/32 with hyperparameters: {'lr0': 0.001, 'lrf': 0.01, 'momentum': 0.937, 'weight_decay': 0.0005, 'hsv_h': 0.015, 'hsv_s': 0.7, 'hsv_v': 0.4, 'degrees': 0.0, 'translate': 0.1, 'shear': 0.0, 'perspective': 0.0, 'fliplr': 0.5, 'mosaic': 1.0, 'mixup': 0.0}\n",
            "Saved /content/runs/detect/tune/tune_scatter_plots.png\n",
            "Saved /content/runs/detect/tune/tune_fitness.png\n",
            "\n",
            "\u001b[34m\u001b[1mTuner: \u001b[0m1/32 iterations complete ✅ (5620.84s)\n",
            "\u001b[34m\u001b[1mTuner: \u001b[0mResults saved to \u001b[1m/content/runs/detect/tune\u001b[0m\n",
            "\u001b[34m\u001b[1mTuner: \u001b[0mBest fitness=0.32952 observed at iteration 1\n",
            "\u001b[34m\u001b[1mTuner: \u001b[0mBest fitness metrics are {'metrics/precision(B)': 0.86004, 'metrics/recall(B)': 0.63039, 'metrics/mAP50(B)': 0.69539, 'metrics/mAP50-95(B)': 0.32952, 'val/box_loss': 1.78477, 'val/cls_loss': 1.45, 'val/dfl_loss': 1.12768, 'fitness': 0.32952}\n",
            "\u001b[34m\u001b[1mTuner: \u001b[0mBest fitness model is /content/runs/detect/train\n",
            "Printing '\u001b[1m\u001b[30m/content/runs/detect/tune/best_hyperparameters.yaml\u001b[0m'\n",
            "\n",
            "lr0: 0.001\n",
            "lrf: 0.01\n",
            "momentum: 0.937\n",
            "weight_decay: 0.0005\n",
            "hsv_h: 0.015\n",
            "hsv_s: 0.7\n",
            "hsv_v: 0.4\n",
            "degrees: 0.0\n",
            "translate: 0.1\n",
            "shear: 0.0\n",
            "perspective: 0.0\n",
            "fliplr: 0.5\n",
            "mosaic: 1.0\n",
            "mixup: 0.0\n",
            "\n",
            "\u001b[34m\u001b[1mTuner: \u001b[0mStarting iteration 2/32 with hyperparameters: {'lr0': 0.001, 'lrf': 0.01069, 'momentum': 0.937, 'weight_decay': 0.00069, 'hsv_h': 0.0182, 'hsv_s': 0.7, 'hsv_v': 0.42625, 'degrees': 0.0, 'translate': 0.1, 'shear': 0.0, 'perspective': 0.0, 'fliplr': 0.39952, 'mosaic': 1.0, 'mixup': 0.0}\n",
            "Saved /content/runs/detect/tune/tune_scatter_plots.png\n",
            "Saved /content/runs/detect/tune/tune_fitness.png\n",
            "\n",
            "\u001b[34m\u001b[1mTuner: \u001b[0m2/32 iterations complete ✅ (11103.14s)\n",
            "\u001b[34m\u001b[1mTuner: \u001b[0mResults saved to \u001b[1m/content/runs/detect/tune\u001b[0m\n",
            "\u001b[34m\u001b[1mTuner: \u001b[0mBest fitness=0.32952 observed at iteration 1\n",
            "\u001b[34m\u001b[1mTuner: \u001b[0mBest fitness metrics are {'metrics/precision(B)': 0.86004, 'metrics/recall(B)': 0.63039, 'metrics/mAP50(B)': 0.69539, 'metrics/mAP50-95(B)': 0.32952, 'val/box_loss': 1.78477, 'val/cls_loss': 1.45, 'val/dfl_loss': 1.12768, 'fitness': 0.32952}\n",
            "\u001b[34m\u001b[1mTuner: \u001b[0mBest fitness model is /content/runs/detect/train\n",
            "Printing '\u001b[1m\u001b[30m/content/runs/detect/tune/best_hyperparameters.yaml\u001b[0m'\n",
            "\n",
            "lr0: 0.001\n",
            "lrf: 0.01\n",
            "momentum: 0.937\n",
            "weight_decay: 0.0005\n",
            "hsv_h: 0.015\n",
            "hsv_s: 0.7\n",
            "hsv_v: 0.4\n",
            "degrees: 0.0\n",
            "translate: 0.1\n",
            "shear: 0.0\n",
            "perspective: 0.0\n",
            "fliplr: 0.5\n",
            "mosaic: 1.0\n",
            "mixup: 0.0\n",
            "\n",
            "\u001b[34m\u001b[1mTuner: \u001b[0mStarting iteration 3/32 with hyperparameters: {'lr0': 0.001, 'lrf': 0.01, 'momentum': 0.98, 'weight_decay': 0.0005, 'hsv_h': 0.015, 'hsv_s': 0.77304, 'hsv_v': 0.4, 'degrees': 0.0, 'translate': 0.08872, 'shear': 0.0, 'perspective': 0.0, 'fliplr': 0.5, 'mosaic': 1.0, 'mixup': 0.0}\n",
            "Saved /content/runs/detect/tune/tune_scatter_plots.png\n",
            "Saved /content/runs/detect/tune/tune_fitness.png\n",
            "\n",
            "\u001b[34m\u001b[1mTuner: \u001b[0m3/32 iterations complete ✅ (16596.18s)\n",
            "\u001b[34m\u001b[1mTuner: \u001b[0mResults saved to \u001b[1m/content/runs/detect/tune\u001b[0m\n",
            "\u001b[34m\u001b[1mTuner: \u001b[0mBest fitness=0.32952 observed at iteration 1\n",
            "\u001b[34m\u001b[1mTuner: \u001b[0mBest fitness metrics are {'metrics/precision(B)': 0.86004, 'metrics/recall(B)': 0.63039, 'metrics/mAP50(B)': 0.69539, 'metrics/mAP50-95(B)': 0.32952, 'val/box_loss': 1.78477, 'val/cls_loss': 1.45, 'val/dfl_loss': 1.12768, 'fitness': 0.32952}\n",
            "\u001b[34m\u001b[1mTuner: \u001b[0mBest fitness model is /content/runs/detect/train\n",
            "Printing '\u001b[1m\u001b[30m/content/runs/detect/tune/best_hyperparameters.yaml\u001b[0m'\n",
            "\n",
            "lr0: 0.001\n",
            "lrf: 0.01\n",
            "momentum: 0.937\n",
            "weight_decay: 0.0005\n",
            "hsv_h: 0.015\n",
            "hsv_s: 0.7\n",
            "hsv_v: 0.4\n",
            "degrees: 0.0\n",
            "translate: 0.1\n",
            "shear: 0.0\n",
            "perspective: 0.0\n",
            "fliplr: 0.5\n",
            "mosaic: 1.0\n",
            "mixup: 0.0\n",
            "\n",
            "\u001b[34m\u001b[1mTuner: \u001b[0mStarting iteration 4/32 with hyperparameters: {'lr0': 0.001, 'lrf': 0.01, 'momentum': 0.937, 'weight_decay': 0.001, 'hsv_h': 0.01446, 'hsv_s': 0.7, 'hsv_v': 0.40532, 'degrees': 0.0, 'translate': 0.1, 'shear': 0.0, 'perspective': 0.0, 'fliplr': 0.37871, 'mosaic': 0.7278, 'mixup': 0.0}\n",
            "Saved /content/runs/detect/tune/tune_scatter_plots.png\n",
            "Saved /content/runs/detect/tune/tune_fitness.png\n",
            "\n",
            "\u001b[34m\u001b[1mTuner: \u001b[0m4/32 iterations complete ✅ (22085.68s)\n",
            "\u001b[34m\u001b[1mTuner: \u001b[0mResults saved to \u001b[1m/content/runs/detect/tune\u001b[0m\n",
            "\u001b[34m\u001b[1mTuner: \u001b[0mBest fitness=0.32952 observed at iteration 1\n",
            "\u001b[34m\u001b[1mTuner: \u001b[0mBest fitness metrics are {'metrics/precision(B)': 0.86004, 'metrics/recall(B)': 0.63039, 'metrics/mAP50(B)': 0.69539, 'metrics/mAP50-95(B)': 0.32952, 'val/box_loss': 1.78477, 'val/cls_loss': 1.45, 'val/dfl_loss': 1.12768, 'fitness': 0.32952}\n",
            "\u001b[34m\u001b[1mTuner: \u001b[0mBest fitness model is /content/runs/detect/train\n",
            "Printing '\u001b[1m\u001b[30m/content/runs/detect/tune/best_hyperparameters.yaml\u001b[0m'\n",
            "\n",
            "lr0: 0.001\n",
            "lrf: 0.01\n",
            "momentum: 0.937\n",
            "weight_decay: 0.0005\n",
            "hsv_h: 0.015\n",
            "hsv_s: 0.7\n",
            "hsv_v: 0.4\n",
            "degrees: 0.0\n",
            "translate: 0.1\n",
            "shear: 0.0\n",
            "perspective: 0.0\n",
            "fliplr: 0.5\n",
            "mosaic: 1.0\n",
            "mixup: 0.0\n",
            "\n",
            "\u001b[34m\u001b[1mTuner: \u001b[0mStarting iteration 5/32 with hyperparameters: {'lr0': 0.001, 'lrf': 0.01, 'momentum': 0.98, 'weight_decay': 0.0005, 'hsv_h': 0.0158, 'hsv_s': 0.89752, 'hsv_v': 0.3967, 'degrees': 0.0, 'translate': 0.07168, 'shear': 0.0, 'perspective': 0.0, 'fliplr': 0.40553, 'mosaic': 0.95349, 'mixup': 0.0}\n",
            "Saved /content/runs/detect/tune/tune_scatter_plots.png\n",
            "Saved /content/runs/detect/tune/tune_fitness.png\n",
            "\n",
            "\u001b[34m\u001b[1mTuner: \u001b[0m5/32 iterations complete ✅ (27569.09s)\n",
            "\u001b[34m\u001b[1mTuner: \u001b[0mResults saved to \u001b[1m/content/runs/detect/tune\u001b[0m\n",
            "\u001b[34m\u001b[1mTuner: \u001b[0mBest fitness=0.33095 observed at iteration 5\n",
            "\u001b[34m\u001b[1mTuner: \u001b[0mBest fitness metrics are {'metrics/precision(B)': 0.84413, 'metrics/recall(B)': 0.60206, 'metrics/mAP50(B)': 0.68702, 'metrics/mAP50-95(B)': 0.33095, 'val/box_loss': 1.84377, 'val/cls_loss': 1.46273, 'val/dfl_loss': 1.12061, 'fitness': 0.33095}\n",
            "\u001b[34m\u001b[1mTuner: \u001b[0mBest fitness model is /content/runs/detect/train\n",
            "Printing '\u001b[1m\u001b[30m/content/runs/detect/tune/best_hyperparameters.yaml\u001b[0m'\n",
            "\n",
            "lr0: 0.001\n",
            "lrf: 0.01\n",
            "momentum: 0.98\n",
            "weight_decay: 0.0005\n",
            "hsv_h: 0.0158\n",
            "hsv_s: 0.89752\n",
            "hsv_v: 0.3967\n",
            "degrees: 0.0\n",
            "translate: 0.07168\n",
            "shear: 0.0\n",
            "perspective: 0.0\n",
            "fliplr: 0.40553\n",
            "mosaic: 0.95349\n",
            "mixup: 0.0\n",
            "\n",
            "\u001b[34m\u001b[1mTuner: \u001b[0mStarting iteration 6/32 with hyperparameters: {'lr0': 0.001, 'lrf': 0.01005, 'momentum': 0.95294, 'weight_decay': 0.00096, 'hsv_h': 0.01561, 'hsv_s': 0.6664, 'hsv_v': 0.41859, 'degrees': 0.0, 'translate': 0.08299, 'shear': 0.0, 'perspective': 0.0, 'fliplr': 0.43933, 'mosaic': 1.0, 'mixup': 0.0}\n",
            "Saved /content/runs/detect/tune/tune_scatter_plots.png\n",
            "Saved /content/runs/detect/tune/tune_fitness.png\n",
            "\n",
            "\u001b[34m\u001b[1mTuner: \u001b[0m6/32 iterations complete ✅ (33036.31s)\n",
            "\u001b[34m\u001b[1mTuner: \u001b[0mResults saved to \u001b[1m/content/runs/detect/tune\u001b[0m\n",
            "\u001b[34m\u001b[1mTuner: \u001b[0mBest fitness=0.33095 observed at iteration 5\n",
            "\u001b[34m\u001b[1mTuner: \u001b[0mBest fitness metrics are {'metrics/precision(B)': 0.84413, 'metrics/recall(B)': 0.60206, 'metrics/mAP50(B)': 0.68702, 'metrics/mAP50-95(B)': 0.33095, 'val/box_loss': 1.84377, 'val/cls_loss': 1.46273, 'val/dfl_loss': 1.12061, 'fitness': 0.33095}\n",
            "\u001b[34m\u001b[1mTuner: \u001b[0mBest fitness model is /content/runs/detect/train\n",
            "Printing '\u001b[1m\u001b[30m/content/runs/detect/tune/best_hyperparameters.yaml\u001b[0m'\n",
            "\n",
            "lr0: 0.001\n",
            "lrf: 0.01\n",
            "momentum: 0.98\n",
            "weight_decay: 0.0005\n",
            "hsv_h: 0.0158\n",
            "hsv_s: 0.89752\n",
            "hsv_v: 0.3967\n",
            "degrees: 0.0\n",
            "translate: 0.07168\n",
            "shear: 0.0\n",
            "perspective: 0.0\n",
            "fliplr: 0.40553\n",
            "mosaic: 0.95349\n",
            "mixup: 0.0\n",
            "\n",
            "\u001b[34m\u001b[1mTuner: \u001b[0mStarting iteration 7/32 with hyperparameters: {'lr0': 0.001, 'lrf': 0.01, 'momentum': 0.95922, 'weight_decay': 0.0005, 'hsv_h': 0.01573, 'hsv_s': 0.74994, 'hsv_v': 0.43172, 'degrees': 0.0, 'translate': 0.09212, 'shear': 0.0, 'perspective': 0.0, 'fliplr': 0.5, 'mosaic': 0.95294, 'mixup': 0.0}\n",
            "Saved /content/runs/detect/tune/tune_scatter_plots.png\n",
            "Saved /content/runs/detect/tune/tune_fitness.png\n",
            "\n",
            "\u001b[34m\u001b[1mTuner: \u001b[0m7/32 iterations complete ✅ (38234.70s)\n",
            "\u001b[34m\u001b[1mTuner: \u001b[0mResults saved to \u001b[1m/content/runs/detect/tune\u001b[0m\n",
            "\u001b[34m\u001b[1mTuner: \u001b[0mBest fitness=0.33095 observed at iteration 5\n",
            "\u001b[34m\u001b[1mTuner: \u001b[0mBest fitness metrics are {'metrics/precision(B)': 0.84413, 'metrics/recall(B)': 0.60206, 'metrics/mAP50(B)': 0.68702, 'metrics/mAP50-95(B)': 0.33095, 'val/box_loss': 1.84377, 'val/cls_loss': 1.46273, 'val/dfl_loss': 1.12061, 'fitness': 0.33095}\n",
            "\u001b[34m\u001b[1mTuner: \u001b[0mBest fitness model is /content/runs/detect/train\n",
            "Printing '\u001b[1m\u001b[30m/content/runs/detect/tune/best_hyperparameters.yaml\u001b[0m'\n",
            "\n",
            "lr0: 0.001\n",
            "lrf: 0.01\n",
            "momentum: 0.98\n",
            "weight_decay: 0.0005\n",
            "hsv_h: 0.0158\n",
            "hsv_s: 0.89752\n",
            "hsv_v: 0.3967\n",
            "degrees: 0.0\n",
            "translate: 0.07168\n",
            "shear: 0.0\n",
            "perspective: 0.0\n",
            "fliplr: 0.40553\n",
            "mosaic: 0.95349\n",
            "mixup: 0.0\n",
            "\n",
            "\u001b[34m\u001b[1mTuner: \u001b[0mStarting iteration 8/32 with hyperparameters: {'lr0': 0.001, 'lrf': 0.01017, 'momentum': 0.98, 'weight_decay': 0.00068, 'hsv_h': 0.01488, 'hsv_s': 0.81329, 'hsv_v': 0.41617, 'degrees': 0.0, 'translate': 0.05795, 'shear': 0.0, 'perspective': 0.0, 'fliplr': 0.48217, 'mosaic': 0.97586, 'mixup': 0.0}\n",
            "Saved /content/runs/detect/tune/tune_scatter_plots.png\n",
            "Saved /content/runs/detect/tune/tune_fitness.png\n",
            "\n",
            "\u001b[34m\u001b[1mTuner: \u001b[0m8/32 iterations complete ✅ (42378.71s)\n",
            "\u001b[34m\u001b[1mTuner: \u001b[0mResults saved to \u001b[1m/content/runs/detect/tune\u001b[0m\n",
            "\u001b[34m\u001b[1mTuner: \u001b[0mBest fitness=0.33095 observed at iteration 5\n",
            "\u001b[34m\u001b[1mTuner: \u001b[0mBest fitness metrics are {'metrics/precision(B)': 0.84413, 'metrics/recall(B)': 0.60206, 'metrics/mAP50(B)': 0.68702, 'metrics/mAP50-95(B)': 0.33095, 'val/box_loss': 1.84377, 'val/cls_loss': 1.46273, 'val/dfl_loss': 1.12061, 'fitness': 0.33095}\n",
            "\u001b[34m\u001b[1mTuner: \u001b[0mBest fitness model is /content/runs/detect/train\n",
            "Printing '\u001b[1m\u001b[30m/content/runs/detect/tune/best_hyperparameters.yaml\u001b[0m'\n",
            "\n",
            "lr0: 0.001\n",
            "lrf: 0.01\n",
            "momentum: 0.98\n",
            "weight_decay: 0.0005\n",
            "hsv_h: 0.0158\n",
            "hsv_s: 0.89752\n",
            "hsv_v: 0.3967\n",
            "degrees: 0.0\n",
            "translate: 0.07168\n",
            "shear: 0.0\n",
            "perspective: 0.0\n",
            "fliplr: 0.40553\n",
            "mosaic: 0.95349\n",
            "mixup: 0.0\n",
            "\n",
            "\u001b[34m\u001b[1mTuner: \u001b[0mStarting iteration 9/32 with hyperparameters: {'lr0': 0.00096, 'lrf': 0.01207, 'momentum': 0.95196, 'weight_decay': 0.00062, 'hsv_h': 0.01743, 'hsv_s': 0.70873, 'hsv_v': 0.38984, 'degrees': 0.0, 'translate': 0.09022, 'shear': 0.0, 'perspective': 0.0, 'fliplr': 0.45008, 'mosaic': 0.99634, 'mixup': 0.0}\n",
            "Saved /content/runs/detect/tune/tune_scatter_plots.png\n",
            "Saved /content/runs/detect/tune/tune_fitness.png\n",
            "\n",
            "\u001b[34m\u001b[1mTuner: \u001b[0m9/32 iterations complete ✅ (47848.63s)\n",
            "\u001b[34m\u001b[1mTuner: \u001b[0mResults saved to \u001b[1m/content/runs/detect/tune\u001b[0m\n",
            "\u001b[34m\u001b[1mTuner: \u001b[0mBest fitness=0.33095 observed at iteration 5\n",
            "\u001b[34m\u001b[1mTuner: \u001b[0mBest fitness metrics are {'metrics/precision(B)': 0.84413, 'metrics/recall(B)': 0.60206, 'metrics/mAP50(B)': 0.68702, 'metrics/mAP50-95(B)': 0.33095, 'val/box_loss': 1.84377, 'val/cls_loss': 1.46273, 'val/dfl_loss': 1.12061, 'fitness': 0.33095}\n",
            "\u001b[34m\u001b[1mTuner: \u001b[0mBest fitness model is /content/runs/detect/train\n",
            "Printing '\u001b[1m\u001b[30m/content/runs/detect/tune/best_hyperparameters.yaml\u001b[0m'\n",
            "\n",
            "lr0: 0.001\n",
            "lrf: 0.01\n",
            "momentum: 0.98\n",
            "weight_decay: 0.0005\n",
            "hsv_h: 0.0158\n",
            "hsv_s: 0.89752\n",
            "hsv_v: 0.3967\n",
            "degrees: 0.0\n",
            "translate: 0.07168\n",
            "shear: 0.0\n",
            "perspective: 0.0\n",
            "fliplr: 0.40553\n",
            "mosaic: 0.95349\n",
            "mixup: 0.0\n",
            "\n",
            "\u001b[34m\u001b[1mTuner: \u001b[0mStarting iteration 10/32 with hyperparameters: {'lr0': 0.001, 'lrf': 0.01237, 'momentum': 0.98, 'weight_decay': 0.00044, 'hsv_h': 0.01023, 'hsv_s': 0.88183, 'hsv_v': 0.45968, 'degrees': 0.0, 'translate': 0.06517, 'shear': 0.0, 'perspective': 0.0, 'fliplr': 0.34338, 'mosaic': 0.65152, 'mixup': 0.0}\n",
            "Saved /content/runs/detect/tune/tune_scatter_plots.png\n",
            "Saved /content/runs/detect/tune/tune_fitness.png\n",
            "\n",
            "\u001b[34m\u001b[1mTuner: \u001b[0m10/32 iterations complete ✅ (53320.39s)\n",
            "\u001b[34m\u001b[1mTuner: \u001b[0mResults saved to \u001b[1m/content/runs/detect/tune\u001b[0m\n",
            "\u001b[34m\u001b[1mTuner: \u001b[0mBest fitness=0.33095 observed at iteration 5\n",
            "\u001b[34m\u001b[1mTuner: \u001b[0mBest fitness metrics are {'metrics/precision(B)': 0.84413, 'metrics/recall(B)': 0.60206, 'metrics/mAP50(B)': 0.68702, 'metrics/mAP50-95(B)': 0.33095, 'val/box_loss': 1.84377, 'val/cls_loss': 1.46273, 'val/dfl_loss': 1.12061, 'fitness': 0.33095}\n",
            "\u001b[34m\u001b[1mTuner: \u001b[0mBest fitness model is /content/runs/detect/train\n",
            "Printing '\u001b[1m\u001b[30m/content/runs/detect/tune/best_hyperparameters.yaml\u001b[0m'\n",
            "\n",
            "lr0: 0.001\n",
            "lrf: 0.01\n",
            "momentum: 0.98\n",
            "weight_decay: 0.0005\n",
            "hsv_h: 0.0158\n",
            "hsv_s: 0.89752\n",
            "hsv_v: 0.3967\n",
            "degrees: 0.0\n",
            "translate: 0.07168\n",
            "shear: 0.0\n",
            "perspective: 0.0\n",
            "fliplr: 0.40553\n",
            "mosaic: 0.95349\n",
            "mixup: 0.0\n",
            "\n",
            "\u001b[34m\u001b[1mTuner: \u001b[0mStarting iteration 11/32 with hyperparameters: {'lr0': 0.00099, 'lrf': 0.01081, 'momentum': 0.85521, 'weight_decay': 0.00052, 'hsv_h': 0.01634, 'hsv_s': 0.7638, 'hsv_v': 0.38363, 'degrees': 0.0, 'translate': 0.07243, 'shear': 0.0, 'perspective': 0.0, 'fliplr': 0.5, 'mosaic': 0.95755, 'mixup': 0.0}\n",
            "Saved /content/runs/detect/tune/tune_scatter_plots.png\n",
            "Saved /content/runs/detect/tune/tune_fitness.png\n",
            "\n",
            "\u001b[34m\u001b[1mTuner: \u001b[0m11/32 iterations complete ✅ (58779.39s)\n",
            "\u001b[34m\u001b[1mTuner: \u001b[0mResults saved to \u001b[1m/content/runs/detect/tune\u001b[0m\n",
            "\u001b[34m\u001b[1mTuner: \u001b[0mBest fitness=0.33435 observed at iteration 11\n",
            "\u001b[34m\u001b[1mTuner: \u001b[0mBest fitness metrics are {'metrics/precision(B)': 0.85447, 'metrics/recall(B)': 0.64269, 'metrics/mAP50(B)': 0.69604, 'metrics/mAP50-95(B)': 0.33435, 'val/box_loss': 1.84004, 'val/cls_loss': 1.46779, 'val/dfl_loss': 1.13315, 'fitness': 0.33435}\n",
            "\u001b[34m\u001b[1mTuner: \u001b[0mBest fitness model is /content/runs/detect/train\n",
            "Printing '\u001b[1m\u001b[30m/content/runs/detect/tune/best_hyperparameters.yaml\u001b[0m'\n",
            "\n",
            "lr0: 0.00099\n",
            "lrf: 0.01081\n",
            "momentum: 0.85521\n",
            "weight_decay: 0.00052\n",
            "hsv_h: 0.01634\n",
            "hsv_s: 0.7638\n",
            "hsv_v: 0.38363\n",
            "degrees: 0.0\n",
            "translate: 0.07243\n",
            "shear: 0.0\n",
            "perspective: 0.0\n",
            "fliplr: 0.5\n",
            "mosaic: 0.95755\n",
            "mixup: 0.0\n",
            "\n",
            "\u001b[34m\u001b[1mTuner: \u001b[0mStarting iteration 12/32 with hyperparameters: {'lr0': 0.001, 'lrf': 0.01061, 'momentum': 0.92591, 'weight_decay': 0.00044, 'hsv_h': 0.01511, 'hsv_s': 0.9, 'hsv_v': 0.39859, 'degrees': 0.0, 'translate': 0.07726, 'shear': 0.0, 'perspective': 0.0, 'fliplr': 0.5, 'mosaic': 0.9985, 'mixup': 0.0}\n",
            "Saved /content/runs/detect/tune/tune_scatter_plots.png\n",
            "Saved /content/runs/detect/tune/tune_fitness.png\n",
            "\n",
            "\u001b[34m\u001b[1mTuner: \u001b[0m12/32 iterations complete ✅ (64238.91s)\n",
            "\u001b[34m\u001b[1mTuner: \u001b[0mResults saved to \u001b[1m/content/runs/detect/tune\u001b[0m\n",
            "\u001b[34m\u001b[1mTuner: \u001b[0mBest fitness=0.33435 observed at iteration 11\n",
            "\u001b[34m\u001b[1mTuner: \u001b[0mBest fitness metrics are {'metrics/precision(B)': 0.85447, 'metrics/recall(B)': 0.64269, 'metrics/mAP50(B)': 0.69604, 'metrics/mAP50-95(B)': 0.33435, 'val/box_loss': 1.84004, 'val/cls_loss': 1.46779, 'val/dfl_loss': 1.13315, 'fitness': 0.33435}\n",
            "\u001b[34m\u001b[1mTuner: \u001b[0mBest fitness model is /content/runs/detect/train\n",
            "Printing '\u001b[1m\u001b[30m/content/runs/detect/tune/best_hyperparameters.yaml\u001b[0m'\n",
            "\n",
            "lr0: 0.00099\n",
            "lrf: 0.01081\n",
            "momentum: 0.85521\n",
            "weight_decay: 0.00052\n",
            "hsv_h: 0.01634\n",
            "hsv_s: 0.7638\n",
            "hsv_v: 0.38363\n",
            "degrees: 0.0\n",
            "translate: 0.07243\n",
            "shear: 0.0\n",
            "perspective: 0.0\n",
            "fliplr: 0.5\n",
            "mosaic: 0.95755\n",
            "mixup: 0.0\n",
            "\n",
            "\u001b[34m\u001b[1mTuner: \u001b[0mStarting iteration 13/32 with hyperparameters: {'lr0': 0.00087, 'lrf': 0.01138, 'momentum': 0.89122, 'weight_decay': 0.00073, 'hsv_h': 0.01232, 'hsv_s': 0.73483, 'hsv_v': 0.43352, 'degrees': 0.0, 'translate': 0.08899, 'shear': 0.0, 'perspective': 0.0, 'fliplr': 0.33805, 'mosaic': 0.96193, 'mixup': 0.0}\n",
            "Saved /content/runs/detect/tune/tune_scatter_plots.png\n",
            "Saved /content/runs/detect/tune/tune_fitness.png\n",
            "\n",
            "\u001b[34m\u001b[1mTuner: \u001b[0m13/32 iterations complete ✅ (68903.73s)\n",
            "\u001b[34m\u001b[1mTuner: \u001b[0mResults saved to \u001b[1m/content/runs/detect/tune\u001b[0m\n",
            "\u001b[34m\u001b[1mTuner: \u001b[0mBest fitness=0.33435 observed at iteration 11\n",
            "\u001b[34m\u001b[1mTuner: \u001b[0mBest fitness metrics are {'metrics/precision(B)': 0.85447, 'metrics/recall(B)': 0.64269, 'metrics/mAP50(B)': 0.69604, 'metrics/mAP50-95(B)': 0.33435, 'val/box_loss': 1.84004, 'val/cls_loss': 1.46779, 'val/dfl_loss': 1.13315, 'fitness': 0.33435}\n",
            "\u001b[34m\u001b[1mTuner: \u001b[0mBest fitness model is /content/runs/detect/train\n",
            "Printing '\u001b[1m\u001b[30m/content/runs/detect/tune/best_hyperparameters.yaml\u001b[0m'\n",
            "\n",
            "lr0: 0.00099\n",
            "lrf: 0.01081\n",
            "momentum: 0.85521\n",
            "weight_decay: 0.00052\n",
            "hsv_h: 0.01634\n",
            "hsv_s: 0.7638\n",
            "hsv_v: 0.38363\n",
            "degrees: 0.0\n",
            "translate: 0.07243\n",
            "shear: 0.0\n",
            "perspective: 0.0\n",
            "fliplr: 0.5\n",
            "mosaic: 0.95755\n",
            "mixup: 0.0\n",
            "\n",
            "\u001b[34m\u001b[1mTuner: \u001b[0mStarting iteration 14/32 with hyperparameters: {'lr0': 0.00099, 'lrf': 0.01153, 'momentum': 0.86081, 'weight_decay': 0.00062, 'hsv_h': 0.01498, 'hsv_s': 0.85956, 'hsv_v': 0.38364, 'degrees': 0.0, 'translate': 0.08822, 'shear': 0.0, 'perspective': 0.0, 'fliplr': 0.4172, 'mosaic': 0.99781, 'mixup': 0.0}\n"
          ]
        }
      ]
    },
    {
      "cell_type": "markdown",
      "source": [
        "## 5. Model Training"
      ],
      "metadata": {
        "id": "ppaa_lrFtwyL"
      }
    },
    {
      "cell_type": "markdown",
      "source": [
        "Define the optimal parameters from the tuning."
      ],
      "metadata": {
        "id": "ZNf4DODA3AeJ"
      }
    },
    {
      "cell_type": "code",
      "source": [
        "config = {\n",
        "    \"lr0\": 0.00099,\n",
        "    \"lrf\": 0.01081,\n",
        "    \"momentum\": 0.85521,\n",
        "    \"weight_decay\": 0.00052,\n",
        "    \"hsv_h\": 0.01634,\n",
        "    \"hsv_s\": 0.7638,\n",
        "    \"hsv_v\": 0.38363,\n",
        "    \"translate\": 0.07243,\n",
        "    \"fliplr\": 0.5,\n",
        "    \"mosaic\": 0.95755\n",
        "}"
      ],
      "metadata": {
        "id": "8QcKMgrtR_GF"
      },
      "execution_count": null,
      "outputs": []
    },
    {
      "cell_type": "markdown",
      "source": [
        "Train the model."
      ],
      "metadata": {
        "id": "6slroevr3LPv"
      }
    },
    {
      "cell_type": "code",
      "source": [
        "results = model.train(\n",
        "    data='/content/model/tuning.yaml',\n",
        "    batch=0.85,\n",
        "    epochs=200,\n",
        "    patience=20,\n",
        "    optimizer=\"AdamW\",\n",
        "    device=0,\n",
        "    **config\n",
        ")"
      ],
      "metadata": {
        "colab": {
          "base_uri": "https://localhost:8080/"
        },
        "id": "QFry3e7jSCPc",
        "outputId": "f6459f7b-a634-4f09-a3f9-010f77c70b1e"
      },
      "execution_count": null,
      "outputs": [
        {
          "output_type": "stream",
          "name": "stdout",
          "text": [
            "Ultralytics 8.3.204 🚀 Python-3.12.11 torch-2.8.0+cu126 CUDA:0 (NVIDIA A100-SXM4-40GB, 40507MiB)\n",
            "\u001b[34m\u001b[1mengine/trainer: \u001b[0magnostic_nms=False, amp=True, augment=False, auto_augment=randaugment, batch=0.85, bgr=0.0, box=7.5, cache=False, cfg=None, classes=None, close_mosaic=10, cls=0.5, compile=False, conf=None, copy_paste=0.0, copy_paste_mode=flip, cos_lr=False, cutmix=0.0, data=/content/model/tuning.yaml, degrees=0.0, deterministic=True, device=0, dfl=1.5, dnn=False, dropout=0.0, dynamic=False, embed=None, epochs=200, erasing=0.4, exist_ok=False, fliplr=0.5, flipud=0.0, format=torchscript, fraction=1.0, freeze=None, half=False, hsv_h=0.01634, hsv_s=0.7638, hsv_v=0.38363, imgsz=640, int8=False, iou=0.7, keras=False, kobj=1.0, line_width=None, lr0=0.00099, lrf=0.01081, mask_ratio=4, max_det=300, mixup=0.0, mode=train, model=yolo11x.pt, momentum=0.85521, mosaic=0.95755, multi_scale=False, name=train, nbs=64, nms=False, opset=None, optimize=False, optimizer=AdamW, overlap_mask=True, patience=20, perspective=0.0, plots=True, pose=12.0, pretrained=True, profile=False, project=None, rect=False, resume=False, retina_masks=False, save=True, save_conf=False, save_crop=False, save_dir=/content/runs/detect/train, save_frames=False, save_json=False, save_period=-1, save_txt=False, scale=0.5, seed=0, shear=0.0, show=False, show_boxes=True, show_conf=True, show_labels=True, simplify=True, single_cls=False, source=None, split=val, stream_buffer=False, task=detect, time=None, tracker=botsort.yaml, translate=0.07243, val=True, verbose=True, vid_stride=1, visualize=False, warmup_bias_lr=0.1, warmup_epochs=3.0, warmup_momentum=0.8, weight_decay=0.00052, workers=8, workspace=None\n",
            "\u001b[KDownloading https://ultralytics.com/assets/Arial.ttf to '/root/.config/Ultralytics/Arial.ttf': 100% ━━━━━━━━━━━━ 755.1KB 120.4MB/s 0.0s\n",
            "Overriding model.yaml nc=80 with nc=1\n",
            "\n",
            "                   from  n    params  module                                       arguments                     \n",
            "  0                  -1  1      2784  ultralytics.nn.modules.conv.Conv             [3, 96, 3, 2]                 \n",
            "  1                  -1  1    166272  ultralytics.nn.modules.conv.Conv             [96, 192, 3, 2]               \n",
            "  2                  -1  2    389760  ultralytics.nn.modules.block.C3k2            [192, 384, 2, True, 0.25]     \n",
            "  3                  -1  1   1327872  ultralytics.nn.modules.conv.Conv             [384, 384, 3, 2]              \n",
            "  4                  -1  2   1553664  ultralytics.nn.modules.block.C3k2            [384, 768, 2, True, 0.25]     \n",
            "  5                  -1  1   5309952  ultralytics.nn.modules.conv.Conv             [768, 768, 3, 2]              \n",
            "  6                  -1  2   5022720  ultralytics.nn.modules.block.C3k2            [768, 768, 2, True]           \n",
            "  7                  -1  1   5309952  ultralytics.nn.modules.conv.Conv             [768, 768, 3, 2]              \n",
            "  8                  -1  2   5022720  ultralytics.nn.modules.block.C3k2            [768, 768, 2, True]           \n",
            "  9                  -1  1   1476864  ultralytics.nn.modules.block.SPPF            [768, 768, 5]                 \n",
            " 10                  -1  2   3264768  ultralytics.nn.modules.block.C2PSA           [768, 768, 2]                 \n",
            " 11                  -1  1         0  torch.nn.modules.upsampling.Upsample         [None, 2, 'nearest']          \n",
            " 12             [-1, 6]  1         0  ultralytics.nn.modules.conv.Concat           [1]                           \n",
            " 13                  -1  2   5612544  ultralytics.nn.modules.block.C3k2            [1536, 768, 2, True]          \n",
            " 14                  -1  1         0  torch.nn.modules.upsampling.Upsample         [None, 2, 'nearest']          \n",
            " 15             [-1, 4]  1         0  ultralytics.nn.modules.conv.Concat           [1]                           \n",
            " 16                  -1  2   1700352  ultralytics.nn.modules.block.C3k2            [1536, 384, 2, True]          \n",
            " 17                  -1  1   1327872  ultralytics.nn.modules.conv.Conv             [384, 384, 3, 2]              \n",
            " 18            [-1, 13]  1         0  ultralytics.nn.modules.conv.Concat           [1]                           \n",
            " 19                  -1  2   5317632  ultralytics.nn.modules.block.C3k2            [1152, 768, 2, True]          \n",
            " 20                  -1  1   5309952  ultralytics.nn.modules.conv.Conv             [768, 768, 3, 2]              \n",
            " 21            [-1, 10]  1         0  ultralytics.nn.modules.conv.Concat           [1]                           \n",
            " 22                  -1  2   5612544  ultralytics.nn.modules.block.C3k2            [1536, 768, 2, True]          \n",
            " 23        [16, 19, 22]  1   3146707  ultralytics.nn.modules.head.Detect           [1, [384, 768, 768]]          \n",
            "YOLO11x summary: 357 layers, 56,874,931 parameters, 56,874,915 gradients, 195.4 GFLOPs\n",
            "\n",
            "Transferred 1009/1015 items from pretrained weights\n",
            "Freezing layer 'model.23.dfl.conv.weight'\n",
            "\u001b[34m\u001b[1mAMP: \u001b[0mrunning Automatic Mixed Precision (AMP) checks...\n",
            "\u001b[KDownloading https://github.com/ultralytics/assets/releases/download/v8.3.0/yolo11n.pt to 'yolo11n.pt': 100% ━━━━━━━━━━━━ 5.4MB 316.4MB/s 0.0s\n",
            "\u001b[34m\u001b[1mAMP: \u001b[0mchecks passed ✅\n",
            "\u001b[34m\u001b[1mtrain: \u001b[0mFast image access ✅ (ping: 0.0±0.0 ms, read: 2902.6±1808.6 MB/s, size: 1352.8 KB)\n",
            "\u001b[K\u001b[34m\u001b[1mtrain: \u001b[0mScanning /content/datasets/dvb_data_redux/train... 20264 images, 12512 backgrounds, 0 corrupt: 100% ━━━━━━━━━━━━ 20264/20264 157.8it/s 2:08\n",
            "\u001b[34m\u001b[1mtrain: \u001b[0mNew cache created: /content/datasets/dvb_data_redux/train.cache\n",
            "\u001b[34m\u001b[1malbumentations: \u001b[0mBlur(p=0.01, blur_limit=(3, 7)), MedianBlur(p=0.01, blur_limit=(3, 7)), ToGray(p=0.01, method='weighted_average', num_output_channels=3), CLAHE(p=0.01, clip_limit=(1.0, 4.0), tile_grid_size=(8, 8))\n",
            "\u001b[34m\u001b[1mAutoBatch: \u001b[0mComputing optimal batch size for imgsz=640 at 85.0% CUDA memory utilization.\n",
            "\u001b[34m\u001b[1mAutoBatch: \u001b[0mCUDA:0 (NVIDIA A100-SXM4-40GB) 39.56G total, 0.49G reserved, 0.47G allocated, 38.59G free\n",
            "      Params      GFLOPs  GPU_mem (GB)  forward (ms) backward (ms)                   input                  output\n",
            "    56874931       195.4         3.477         112.4          5792        (1, 3, 640, 640)                    list\n",
            "    56874931       390.9         4.756         60.87          5563        (2, 3, 640, 640)                    list\n",
            "    56874931       781.8         7.164         71.46          5480        (4, 3, 640, 640)                    list\n",
            "    56874931        1564        11.855         77.55          6226        (8, 3, 640, 640)                    list\n",
            "    56874931        3127        19.973         91.74          5816       (16, 3, 640, 640)                    list\n",
            "    56874931        6254        36.237           166          6285       (32, 3, 640, 640)                    list\n",
            "CUDA out of memory. Tried to allocate 1.17 GiB. GPU 0 has a total capacity of 39.56 GiB of which 348.88 MiB is free. Process 39989 has 39.21 GiB memory in use. Of the allocated memory 38.00 GiB is allocated by PyTorch, and 654.07 MiB is reserved by PyTorch but unallocated. If reserved but unallocated memory is large try setting PYTORCH_CUDA_ALLOC_CONF=expandable_segments:True to avoid fragmentation.  See documentation for Memory Management  (https://pytorch.org/docs/stable/notes/cuda.html#environment-variables)\n",
            "\u001b[34m\u001b[1mAutoBatch: \u001b[0mUsing batch-size 28 for CUDA:0 33.27G/39.56G (84%) ✅\n",
            "\u001b[34m\u001b[1mtrain: \u001b[0mFast image access ✅ (ping: 0.0±0.0 ms, read: 3431.2±648.7 MB/s, size: 777.1 KB)\n",
            "\u001b[K\u001b[34m\u001b[1mtrain: \u001b[0mScanning /content/datasets/dvb_data_redux/train.cache... 20264 images, 12512 backgrounds, 0 corrupt: 100% ━━━━━━━━━━━━ 20264/20264 31.7Mit/s 0.0s\n",
            "\u001b[34m\u001b[1malbumentations: \u001b[0mBlur(p=0.01, blur_limit=(3, 7)), MedianBlur(p=0.01, blur_limit=(3, 7)), ToGray(p=0.01, method='weighted_average', num_output_channels=3), CLAHE(p=0.01, clip_limit=(1.0, 4.0), tile_grid_size=(8, 8))\n",
            "\u001b[34m\u001b[1mval: \u001b[0mFast image access ✅ (ping: 0.0±0.0 ms, read: 2079.4±1779.6 MB/s, size: 585.5 KB)\n",
            "\u001b[K\u001b[34m\u001b[1mval: \u001b[0mScanning /content/datasets/dvb_data_redux/val... 4304 images, 2751 backgrounds, 0 corrupt: 100% ━━━━━━━━━━━━ 4304/4304 281.8it/s 15.3s\n",
            "\u001b[34m\u001b[1mval: \u001b[0mNew cache created: /content/datasets/dvb_data_redux/val.cache\n",
            "Plotting labels to /content/runs/detect/train/labels.jpg... \n",
            "\u001b[34m\u001b[1moptimizer:\u001b[0m AdamW(lr=0.00099, momentum=0.85521) with parameter groups 167 weight(decay=0.0), 174 weight(decay=0.00045499999999999995), 173 bias(decay=0.0)\n",
            "Image sizes 640 train, 640 val\n",
            "Using 8 dataloader workers\n",
            "Logging results to \u001b[1m/content/runs/detect/train\u001b[0m\n",
            "Starting training for 200 epochs...\n",
            "\n",
            "      Epoch    GPU_mem   box_loss   cls_loss   dfl_loss  Instances       Size\n",
            "\u001b[K      1/200      27.1G      2.043      1.958      1.301         10        640: 100% ━━━━━━━━━━━━ 724/724 2.2it/s 5:28\n",
            "\u001b[K                 Class     Images  Instances      Box(P          R      mAP50  mAP50-95): 100% ━━━━━━━━━━━━ 77/77 3.6it/s 21.1s\n",
            "                   all       4304       1553      0.419      0.204      0.213     0.0936\n",
            "\n",
            "      Epoch    GPU_mem   box_loss   cls_loss   dfl_loss  Instances       Size\n",
            "\u001b[K      2/200      27.5G      1.993      1.378      1.286         14        640: 100% ━━━━━━━━━━━━ 724/724 2.5it/s 4:55\n",
            "\u001b[K                 Class     Images  Instances      Box(P          R      mAP50  mAP50-95): 100% ━━━━━━━━━━━━ 77/77 4.7it/s 16.5s\n",
            "                   all       4304       1553      0.559       0.18      0.176     0.0657\n",
            "\n",
            "      Epoch    GPU_mem   box_loss   cls_loss   dfl_loss  Instances       Size\n",
            "\u001b[K      3/200      27.7G      1.968      1.333      1.277          8        640: 100% ━━━━━━━━━━━━ 724/724 2.5it/s 4:52\n",
            "\u001b[K                 Class     Images  Instances      Box(P          R      mAP50  mAP50-95): 100% ━━━━━━━━━━━━ 77/77 5.0it/s 15.3s\n",
            "                   all       4304       1553      0.242     0.0947     0.0676     0.0275\n",
            "\n",
            "      Epoch    GPU_mem   box_loss   cls_loss   dfl_loss  Instances       Size\n",
            "\u001b[K      4/200      27.7G      1.847      1.197      1.215          9        640: 100% ━━━━━━━━━━━━ 724/724 2.5it/s 4:51\n",
            "\u001b[K                 Class     Images  Instances      Box(P          R      mAP50  mAP50-95): 100% ━━━━━━━━━━━━ 77/77 4.6it/s 16.6s\n",
            "                   all       4304       1553      0.665      0.384      0.407      0.148\n",
            "\n",
            "      Epoch    GPU_mem   box_loss   cls_loss   dfl_loss  Instances       Size\n",
            "\u001b[K      5/200      27.7G      1.783      1.127      1.199         17        640: 100% ━━━━━━━━━━━━ 724/724 2.5it/s 4:51\n",
            "\u001b[K                 Class     Images  Instances      Box(P          R      mAP50  mAP50-95): 100% ━━━━━━━━━━━━ 77/77 4.9it/s 15.6s\n",
            "                   all       4304       1553      0.547      0.328      0.336      0.134\n",
            "\n",
            "      Epoch    GPU_mem   box_loss   cls_loss   dfl_loss  Instances       Size\n",
            "\u001b[K      6/200      27.7G      1.713      1.064      1.186         11        640: 100% ━━━━━━━━━━━━ 724/724 2.5it/s 4:51\n",
            "\u001b[K                 Class     Images  Instances      Box(P          R      mAP50  mAP50-95): 100% ━━━━━━━━━━━━ 77/77 4.8it/s 16.1s\n",
            "                   all       4304       1553      0.711      0.476      0.538      0.222\n",
            "\n",
            "      Epoch    GPU_mem   box_loss   cls_loss   dfl_loss  Instances       Size\n",
            "\u001b[K      7/200      27.7G      1.665      1.006      1.166         13        640: 100% ━━━━━━━━━━━━ 724/724 2.5it/s 4:51\n",
            "\u001b[K                 Class     Images  Instances      Box(P          R      mAP50  mAP50-95): 100% ━━━━━━━━━━━━ 77/77 4.8it/s 16.1s\n",
            "                   all       4304       1553       0.81      0.359      0.378      0.176\n",
            "\n",
            "      Epoch    GPU_mem   box_loss   cls_loss   dfl_loss  Instances       Size\n",
            "\u001b[K      8/200      27.7G      1.624     0.9656      1.136          9        640: 100% ━━━━━━━━━━━━ 724/724 2.5it/s 4:52\n",
            "\u001b[K                 Class     Images  Instances      Box(P          R      mAP50  mAP50-95): 100% ━━━━━━━━━━━━ 77/77 4.7it/s 16.3s\n",
            "                   all       4304       1553      0.761      0.519      0.555      0.224\n",
            "\n",
            "      Epoch    GPU_mem   box_loss   cls_loss   dfl_loss  Instances       Size\n",
            "\u001b[K      9/200      27.7G      1.624      0.952      1.143         12        640: 100% ━━━━━━━━━━━━ 724/724 2.5it/s 4:52\n",
            "\u001b[K                 Class     Images  Instances      Box(P          R      mAP50  mAP50-95): 100% ━━━━━━━━━━━━ 77/77 4.8it/s 15.9s\n",
            "                   all       4304       1553      0.706      0.466      0.499      0.201\n",
            "\n",
            "      Epoch    GPU_mem   box_loss   cls_loss   dfl_loss  Instances       Size\n",
            "\u001b[K     10/200      27.7G      1.578     0.9263      1.117         13        640: 100% ━━━━━━━━━━━━ 724/724 2.5it/s 4:51\n",
            "\u001b[K                 Class     Images  Instances      Box(P          R      mAP50  mAP50-95): 100% ━━━━━━━━━━━━ 77/77 4.9it/s 15.6s\n",
            "                   all       4304       1553      0.781       0.52      0.593       0.27\n",
            "\n",
            "      Epoch    GPU_mem   box_loss   cls_loss   dfl_loss  Instances       Size\n",
            "\u001b[K     11/200      27.7G      1.562     0.8956      1.116         17        640: 100% ━━━━━━━━━━━━ 724/724 2.5it/s 4:51\n",
            "\u001b[K                 Class     Images  Instances      Box(P          R      mAP50  mAP50-95): 100% ━━━━━━━━━━━━ 77/77 4.8it/s 15.9s\n",
            "                   all       4304       1553      0.802      0.525      0.584      0.249\n",
            "\n",
            "      Epoch    GPU_mem   box_loss   cls_loss   dfl_loss  Instances       Size\n",
            "\u001b[K     12/200      27.7G      1.527     0.8677      1.099         10        640: 100% ━━━━━━━━━━━━ 724/724 2.5it/s 4:51\n",
            "\u001b[K                 Class     Images  Instances      Box(P          R      mAP50  mAP50-95): 100% ━━━━━━━━━━━━ 77/77 4.7it/s 16.5s\n",
            "                   all       4304       1553       0.76      0.546      0.611      0.264\n",
            "\n",
            "      Epoch    GPU_mem   box_loss   cls_loss   dfl_loss  Instances       Size\n",
            "\u001b[K     13/200      27.7G      1.522     0.8561      1.089         15        640: 100% ━━━━━━━━━━━━ 724/724 2.5it/s 4:52\n",
            "\u001b[K                 Class     Images  Instances      Box(P          R      mAP50  mAP50-95): 100% ━━━━━━━━━━━━ 77/77 4.7it/s 16.3s\n",
            "                   all       4304       1553      0.735      0.557      0.613      0.274\n",
            "\n",
            "      Epoch    GPU_mem   box_loss   cls_loss   dfl_loss  Instances       Size\n",
            "\u001b[K     14/200      27.7G      1.496     0.8368      1.087         11        640: 100% ━━━━━━━━━━━━ 724/724 2.5it/s 4:52\n",
            "\u001b[K                 Class     Images  Instances      Box(P          R      mAP50  mAP50-95): 100% ━━━━━━━━━━━━ 77/77 5.0it/s 15.5s\n",
            "                   all       4304       1553      0.831        0.6      0.667      0.309\n",
            "\n",
            "      Epoch    GPU_mem   box_loss   cls_loss   dfl_loss  Instances       Size\n",
            "\u001b[K     15/200      27.7G      1.495     0.8272       1.09         11        640: 100% ━━━━━━━━━━━━ 724/724 2.5it/s 4:52\n",
            "\u001b[K                 Class     Images  Instances      Box(P          R      mAP50  mAP50-95): 100% ━━━━━━━━━━━━ 77/77 4.8it/s 16.1s\n",
            "                   all       4304       1553      0.793      0.604      0.666      0.303\n",
            "\n",
            "      Epoch    GPU_mem   box_loss   cls_loss   dfl_loss  Instances       Size\n",
            "\u001b[K     16/200      27.7G      1.482      0.828      1.084         16        640: 100% ━━━━━━━━━━━━ 724/724 2.5it/s 4:52\n",
            "\u001b[K                 Class     Images  Instances      Box(P          R      mAP50  mAP50-95): 100% ━━━━━━━━━━━━ 77/77 4.8it/s 16.1s\n",
            "                   all       4304       1553      0.816      0.576      0.635      0.292\n",
            "\n",
            "      Epoch    GPU_mem   box_loss   cls_loss   dfl_loss  Instances       Size\n",
            "\u001b[K     17/200      27.7G      1.467      0.809      1.084         11        640: 100% ━━━━━━━━━━━━ 724/724 2.5it/s 4:51\n",
            "\u001b[K                 Class     Images  Instances      Box(P          R      mAP50  mAP50-95): 100% ━━━━━━━━━━━━ 77/77 4.9it/s 15.6s\n",
            "                   all       4304       1553      0.859      0.616      0.668      0.311\n",
            "\n",
            "      Epoch    GPU_mem   box_loss   cls_loss   dfl_loss  Instances       Size\n",
            "\u001b[K     18/200      27.7G      1.432     0.7736      1.072          9        640: 100% ━━━━━━━━━━━━ 724/724 2.5it/s 4:51\n",
            "\u001b[K                 Class     Images  Instances      Box(P          R      mAP50  mAP50-95): 100% ━━━━━━━━━━━━ 77/77 4.9it/s 15.7s\n",
            "                   all       4304       1553      0.838      0.615       0.68      0.315\n",
            "\n",
            "      Epoch    GPU_mem   box_loss   cls_loss   dfl_loss  Instances       Size\n",
            "\u001b[K     19/200      27.7G      1.431     0.7737      1.068          7        640: 100% ━━━━━━━━━━━━ 724/724 2.5it/s 4:51\n",
            "\u001b[K                 Class     Images  Instances      Box(P          R      mAP50  mAP50-95): 100% ━━━━━━━━━━━━ 77/77 4.9it/s 15.6s\n",
            "                   all       4304       1553      0.799      0.603      0.671      0.313\n",
            "\n",
            "      Epoch    GPU_mem   box_loss   cls_loss   dfl_loss  Instances       Size\n",
            "\u001b[K     20/200      27.7G      1.413     0.7698      1.058         10        640: 100% ━━━━━━━━━━━━ 724/724 2.5it/s 4:51\n",
            "\u001b[K                 Class     Images  Instances      Box(P          R      mAP50  mAP50-95): 100% ━━━━━━━━━━━━ 77/77 4.8it/s 15.9s\n",
            "                   all       4304       1553       0.86      0.615      0.677      0.326\n",
            "\n",
            "      Epoch    GPU_mem   box_loss   cls_loss   dfl_loss  Instances       Size\n",
            "\u001b[K     21/200      27.7G      1.405     0.7571      1.061         17        640: 100% ━━━━━━━━━━━━ 724/724 2.5it/s 4:51\n",
            "\u001b[K                 Class     Images  Instances      Box(P          R      mAP50  mAP50-95): 100% ━━━━━━━━━━━━ 77/77 4.7it/s 16.3s\n",
            "                   all       4304       1553      0.855      0.625      0.679      0.317\n",
            "\n",
            "      Epoch    GPU_mem   box_loss   cls_loss   dfl_loss  Instances       Size\n",
            "\u001b[K     22/200      27.7G        1.4     0.7435      1.054         12        640: 100% ━━━━━━━━━━━━ 724/724 2.5it/s 4:51\n",
            "\u001b[K                 Class     Images  Instances      Box(P          R      mAP50  mAP50-95): 100% ━━━━━━━━━━━━ 77/77 4.9it/s 15.8s\n",
            "                   all       4304       1553      0.864      0.606       0.68      0.315\n",
            "\n",
            "      Epoch    GPU_mem   box_loss   cls_loss   dfl_loss  Instances       Size\n",
            "\u001b[K     23/200      27.7G      1.397     0.7489       1.05          8        640: 100% ━━━━━━━━━━━━ 724/724 2.5it/s 4:51\n",
            "\u001b[K                 Class     Images  Instances      Box(P          R      mAP50  mAP50-95): 100% ━━━━━━━━━━━━ 77/77 4.8it/s 16.0s\n",
            "                   all       4304       1553      0.857       0.63      0.685      0.316\n",
            "\n",
            "      Epoch    GPU_mem   box_loss   cls_loss   dfl_loss  Instances       Size\n",
            "\u001b[K     24/200      27.7G      1.361     0.7191      1.045         13        640: 100% ━━━━━━━━━━━━ 724/724 2.5it/s 4:51\n",
            "\u001b[K                 Class     Images  Instances      Box(P          R      mAP50  mAP50-95): 100% ━━━━━━━━━━━━ 77/77 4.9it/s 15.8s\n",
            "                   all       4304       1553      0.862      0.617      0.689      0.321\n",
            "\n",
            "      Epoch    GPU_mem   box_loss   cls_loss   dfl_loss  Instances       Size\n",
            "\u001b[K     25/200      27.7G      1.378      0.724       1.05         13        640: 100% ━━━━━━━━━━━━ 724/724 2.5it/s 4:51\n",
            "\u001b[K                 Class     Images  Instances      Box(P          R      mAP50  mAP50-95): 100% ━━━━━━━━━━━━ 77/77 4.9it/s 15.8s\n",
            "                   all       4304       1553      0.852      0.622      0.687      0.331\n",
            "\n",
            "      Epoch    GPU_mem   box_loss   cls_loss   dfl_loss  Instances       Size\n",
            "\u001b[K     26/200      27.7G       1.36     0.7132      1.046         23        640: 100% ━━━━━━━━━━━━ 724/724 2.5it/s 4:51\n",
            "\u001b[K                 Class     Images  Instances      Box(P          R      mAP50  mAP50-95): 100% ━━━━━━━━━━━━ 77/77 4.8it/s 16.2s\n",
            "                   all       4304       1553      0.841      0.624      0.686      0.325\n",
            "\n",
            "      Epoch    GPU_mem   box_loss   cls_loss   dfl_loss  Instances       Size\n",
            "\u001b[K     27/200      27.7G      1.344     0.7155      1.039         10        640: 100% ━━━━━━━━━━━━ 724/724 2.5it/s 4:51\n",
            "\u001b[K                 Class     Images  Instances      Box(P          R      mAP50  mAP50-95): 100% ━━━━━━━━━━━━ 77/77 4.9it/s 15.9s\n",
            "                   all       4304       1553      0.847      0.637      0.692       0.33\n",
            "\n",
            "      Epoch    GPU_mem   box_loss   cls_loss   dfl_loss  Instances       Size\n",
            "\u001b[K     28/200      27.7G      1.339      0.712      1.036         12        640: 100% ━━━━━━━━━━━━ 724/724 2.5it/s 4:51\n",
            "\u001b[K                 Class     Images  Instances      Box(P          R      mAP50  mAP50-95): 100% ━━━━━━━━━━━━ 77/77 4.8it/s 16.0s\n",
            "                   all       4304       1553      0.844      0.631      0.692      0.334\n",
            "\n",
            "      Epoch    GPU_mem   box_loss   cls_loss   dfl_loss  Instances       Size\n",
            "\u001b[K     29/200      27.7G      1.321     0.6983      1.027         15        640: 100% ━━━━━━━━━━━━ 724/724 2.5it/s 4:51\n",
            "\u001b[K                 Class     Images  Instances      Box(P          R      mAP50  mAP50-95): 100% ━━━━━━━━━━━━ 77/77 4.9it/s 15.9s\n",
            "                   all       4304       1553      0.845      0.625      0.687      0.324\n",
            "\n",
            "      Epoch    GPU_mem   box_loss   cls_loss   dfl_loss  Instances       Size\n",
            "\u001b[K     30/200      27.7G      1.325     0.6881      1.032         16        640: 100% ━━━━━━━━━━━━ 724/724 2.5it/s 4:51\n",
            "\u001b[K                 Class     Images  Instances      Box(P          R      mAP50  mAP50-95): 100% ━━━━━━━━━━━━ 77/77 4.9it/s 15.7s\n",
            "                   all       4304       1553      0.891      0.623      0.703      0.332\n",
            "\n",
            "      Epoch    GPU_mem   box_loss   cls_loss   dfl_loss  Instances       Size\n",
            "\u001b[K     31/200      27.7G      1.333     0.7036      1.032         15        640: 100% ━━━━━━━━━━━━ 724/724 2.5it/s 4:51\n",
            "\u001b[K                 Class     Images  Instances      Box(P          R      mAP50  mAP50-95): 100% ━━━━━━━━━━━━ 77/77 4.9it/s 15.8s\n",
            "                   all       4304       1553      0.848      0.641      0.698      0.331\n",
            "\n",
            "      Epoch    GPU_mem   box_loss   cls_loss   dfl_loss  Instances       Size\n",
            "\u001b[K     32/200      27.7G      1.318     0.6742      1.032         14        640: 100% ━━━━━━━━━━━━ 724/724 2.5it/s 4:51\n",
            "\u001b[K                 Class     Images  Instances      Box(P          R      mAP50  mAP50-95): 100% ━━━━━━━━━━━━ 77/77 4.9it/s 15.8s\n",
            "                   all       4304       1553      0.832       0.65      0.701      0.333\n",
            "\n",
            "      Epoch    GPU_mem   box_loss   cls_loss   dfl_loss  Instances       Size\n",
            "\u001b[K     33/200      27.7G      1.313     0.6872      1.023         22        640: 100% ━━━━━━━━━━━━ 724/724 2.5it/s 4:51\n",
            "\u001b[K                 Class     Images  Instances      Box(P          R      mAP50  mAP50-95): 100% ━━━━━━━━━━━━ 77/77 4.8it/s 16.0s\n",
            "                   all       4304       1553       0.84      0.655      0.707      0.335\n",
            "\n",
            "      Epoch    GPU_mem   box_loss   cls_loss   dfl_loss  Instances       Size\n",
            "\u001b[K     34/200      27.7G      1.307     0.6725      1.021          9        640: 100% ━━━━━━━━━━━━ 724/724 2.5it/s 4:51\n",
            "\u001b[K                 Class     Images  Instances      Box(P          R      mAP50  mAP50-95): 100% ━━━━━━━━━━━━ 77/77 4.9it/s 15.9s\n",
            "                   all       4304       1553      0.865      0.626      0.702      0.333\n",
            "\n",
            "      Epoch    GPU_mem   box_loss   cls_loss   dfl_loss  Instances       Size\n",
            "\u001b[K     35/200      27.7G      1.301     0.6666      1.023         11        640: 100% ━━━━━━━━━━━━ 724/724 2.5it/s 4:51\n",
            "\u001b[K                 Class     Images  Instances      Box(P          R      mAP50  mAP50-95): 100% ━━━━━━━━━━━━ 77/77 4.9it/s 15.8s\n",
            "                   all       4304       1553      0.845      0.641      0.702      0.337\n",
            "\n",
            "      Epoch    GPU_mem   box_loss   cls_loss   dfl_loss  Instances       Size\n",
            "\u001b[K     36/200      27.7G       1.27     0.6504      1.008         15        640: 100% ━━━━━━━━━━━━ 724/724 2.5it/s 4:51\n",
            "\u001b[K                 Class     Images  Instances      Box(P          R      mAP50  mAP50-95): 100% ━━━━━━━━━━━━ 77/77 4.9it/s 15.8s\n",
            "                   all       4304       1553       0.83      0.646        0.7      0.337\n",
            "\n",
            "      Epoch    GPU_mem   box_loss   cls_loss   dfl_loss  Instances       Size\n",
            "\u001b[K     37/200      27.7G      1.273     0.6502      1.015         10        640: 100% ━━━━━━━━━━━━ 724/724 2.5it/s 4:51\n",
            "\u001b[K                 Class     Images  Instances      Box(P          R      mAP50  mAP50-95): 100% ━━━━━━━━━━━━ 77/77 4.9it/s 15.9s\n",
            "                   all       4304       1553      0.832      0.645      0.695      0.335\n",
            "\n",
            "      Epoch    GPU_mem   box_loss   cls_loss   dfl_loss  Instances       Size\n",
            "\u001b[K     38/200      27.7G      1.281     0.6604      1.013         13        640: 100% ━━━━━━━━━━━━ 724/724 2.5it/s 4:51\n",
            "\u001b[K                 Class     Images  Instances      Box(P          R      mAP50  mAP50-95): 100% ━━━━━━━━━━━━ 77/77 4.9it/s 15.7s\n",
            "                   all       4304       1553      0.833      0.639      0.693      0.336\n",
            "\n",
            "      Epoch    GPU_mem   box_loss   cls_loss   dfl_loss  Instances       Size\n",
            "\u001b[K     39/200      27.7G      1.261     0.6349      1.005         12        640: 100% ━━━━━━━━━━━━ 724/724 2.5it/s 4:51\n",
            "\u001b[K                 Class     Images  Instances      Box(P          R      mAP50  mAP50-95): 100% ━━━━━━━━━━━━ 77/77 4.8it/s 15.9s\n",
            "                   all       4304       1553      0.836      0.637      0.696      0.338\n",
            "\n",
            "      Epoch    GPU_mem   box_loss   cls_loss   dfl_loss  Instances       Size\n",
            "\u001b[K     40/200      27.7G      1.264     0.6494      1.003          9        640: 100% ━━━━━━━━━━━━ 724/724 2.5it/s 4:51\n",
            "\u001b[K                 Class     Images  Instances      Box(P          R      mAP50  mAP50-95): 100% ━━━━━━━━━━━━ 77/77 4.8it/s 16.0s\n",
            "                   all       4304       1553      0.842      0.637      0.696      0.338\n",
            "\n",
            "      Epoch    GPU_mem   box_loss   cls_loss   dfl_loss  Instances       Size\n",
            "\u001b[K     41/200      27.7G      1.251     0.6326      1.008         13        640: 100% ━━━━━━━━━━━━ 724/724 2.5it/s 4:51\n",
            "\u001b[K                 Class     Images  Instances      Box(P          R      mAP50  mAP50-95): 100% ━━━━━━━━━━━━ 77/77 4.9it/s 15.7s\n",
            "                   all       4304       1553       0.84       0.64      0.694      0.336\n",
            "\n",
            "      Epoch    GPU_mem   box_loss   cls_loss   dfl_loss  Instances       Size\n",
            "\u001b[K     42/200      27.7G      1.238     0.6341      1.003          9        640: 100% ━━━━━━━━━━━━ 724/724 2.5it/s 4:51\n",
            "\u001b[K                 Class     Images  Instances      Box(P          R      mAP50  mAP50-95): 100% ━━━━━━━━━━━━ 77/77 4.9it/s 15.7s\n",
            "                   all       4304       1553      0.842      0.638      0.695      0.337\n",
            "\n",
            "      Epoch    GPU_mem   box_loss   cls_loss   dfl_loss  Instances       Size\n",
            "\u001b[K     43/200      27.7G      1.243     0.6242      1.005         13        640: 100% ━━━━━━━━━━━━ 724/724 2.5it/s 4:51\n",
            "\u001b[K                 Class     Images  Instances      Box(P          R      mAP50  mAP50-95): 100% ━━━━━━━━━━━━ 77/77 4.9it/s 15.8s\n",
            "                   all       4304       1553      0.855      0.636      0.697      0.341\n",
            "\n",
            "      Epoch    GPU_mem   box_loss   cls_loss   dfl_loss  Instances       Size\n",
            "\u001b[K     44/200      27.7G       1.23     0.6184      1.003          9        640: 100% ━━━━━━━━━━━━ 724/724 2.5it/s 4:51\n",
            "\u001b[K                 Class     Images  Instances      Box(P          R      mAP50  mAP50-95): 100% ━━━━━━━━━━━━ 77/77 4.9it/s 15.9s\n",
            "                   all       4304       1553      0.867      0.631      0.701      0.342\n",
            "\n",
            "      Epoch    GPU_mem   box_loss   cls_loss   dfl_loss  Instances       Size\n",
            "\u001b[K     45/200      27.7G      1.235      0.621     0.9952          7        640: 100% ━━━━━━━━━━━━ 724/724 2.5it/s 4:51\n",
            "\u001b[K                 Class     Images  Instances      Box(P          R      mAP50  mAP50-95): 100% ━━━━━━━━━━━━ 77/77 4.9it/s 15.8s\n",
            "                   all       4304       1553       0.87      0.635      0.701      0.342\n",
            "\n",
            "      Epoch    GPU_mem   box_loss   cls_loss   dfl_loss  Instances       Size\n",
            "\u001b[K     46/200      27.7G      1.217     0.6141     0.9914         11        640: 100% ━━━━━━━━━━━━ 724/724 2.5it/s 4:51\n",
            "\u001b[K                 Class     Images  Instances      Box(P          R      mAP50  mAP50-95): 100% ━━━━━━━━━━━━ 77/77 4.9it/s 15.9s\n",
            "                   all       4304       1553      0.878      0.638      0.705      0.342\n",
            "\n",
            "      Epoch    GPU_mem   box_loss   cls_loss   dfl_loss  Instances       Size\n",
            "\u001b[K     47/200      27.7G      1.224     0.6269     0.9923         12        640: 100% ━━━━━━━━━━━━ 724/724 2.5it/s 4:51\n",
            "\u001b[K                 Class     Images  Instances      Box(P          R      mAP50  mAP50-95): 100% ━━━━━━━━━━━━ 77/77 4.9it/s 15.8s\n",
            "                   all       4304       1553      0.888      0.638      0.705      0.342\n",
            "\n",
            "      Epoch    GPU_mem   box_loss   cls_loss   dfl_loss  Instances       Size\n",
            "\u001b[K     48/200      27.7G      1.207     0.6057     0.9905         14        640: 100% ━━━━━━━━━━━━ 724/724 2.5it/s 4:51\n",
            "\u001b[K                 Class     Images  Instances      Box(P          R      mAP50  mAP50-95): 100% ━━━━━━━━━━━━ 77/77 4.9it/s 15.7s\n",
            "                   all       4304       1553      0.884      0.641      0.706      0.342\n",
            "\n",
            "      Epoch    GPU_mem   box_loss   cls_loss   dfl_loss  Instances       Size\n",
            "\u001b[K     49/200      27.7G      1.194     0.6049     0.9885         11        640: 100% ━━━━━━━━━━━━ 724/724 2.5it/s 4:51\n",
            "\u001b[K                 Class     Images  Instances      Box(P          R      mAP50  mAP50-95): 100% ━━━━━━━━━━━━ 77/77 4.9it/s 15.8s\n",
            "                   all       4304       1553      0.886      0.642      0.708      0.344\n",
            "\n",
            "      Epoch    GPU_mem   box_loss   cls_loss   dfl_loss  Instances       Size\n",
            "\u001b[K     50/200      27.7G      1.182     0.5943     0.9808          5        640: 100% ━━━━━━━━━━━━ 724/724 2.5it/s 4:51\n",
            "\u001b[K                 Class     Images  Instances      Box(P          R      mAP50  mAP50-95): 100% ━━━━━━━━━━━━ 77/77 4.9it/s 15.9s\n",
            "                   all       4304       1553      0.889      0.641      0.707      0.344\n",
            "\n",
            "      Epoch    GPU_mem   box_loss   cls_loss   dfl_loss  Instances       Size\n",
            "\u001b[K     51/200      27.7G      1.186     0.6049     0.9792          9        640: 100% ━━━━━━━━━━━━ 724/724 2.5it/s 4:51\n",
            "\u001b[K                 Class     Images  Instances      Box(P          R      mAP50  mAP50-95): 100% ━━━━━━━━━━━━ 77/77 4.9it/s 15.7s\n",
            "                   all       4304       1553      0.887      0.642      0.707      0.345\n",
            "\n",
            "      Epoch    GPU_mem   box_loss   cls_loss   dfl_loss  Instances       Size\n",
            "\u001b[K     52/200      27.7G      1.192     0.5947     0.9865          7        640: 100% ━━━━━━━━━━━━ 724/724 2.5it/s 4:51\n",
            "\u001b[K                 Class     Images  Instances      Box(P          R      mAP50  mAP50-95): 100% ━━━━━━━━━━━━ 77/77 4.9it/s 15.6s\n",
            "                   all       4304       1553       0.89      0.644      0.707      0.345\n",
            "\n",
            "      Epoch    GPU_mem   box_loss   cls_loss   dfl_loss  Instances       Size\n",
            "\u001b[K     53/200      27.7G      1.184     0.5906     0.9822         12        640: 100% ━━━━━━━━━━━━ 724/724 2.5it/s 4:51\n",
            "\u001b[K                 Class     Images  Instances      Box(P          R      mAP50  mAP50-95): 100% ━━━━━━━━━━━━ 77/77 4.9it/s 15.8s\n",
            "                   all       4304       1553      0.891      0.639      0.707      0.344\n",
            "\n",
            "      Epoch    GPU_mem   box_loss   cls_loss   dfl_loss  Instances       Size\n",
            "\u001b[K     54/200      27.7G      1.189     0.5913     0.9782         10        640: 100% ━━━━━━━━━━━━ 724/724 2.5it/s 4:51\n",
            "\u001b[K                 Class     Images  Instances      Box(P          R      mAP50  mAP50-95): 100% ━━━━━━━━━━━━ 77/77 4.9it/s 15.7s\n",
            "                   all       4304       1553      0.893      0.639      0.707      0.344\n",
            "\n",
            "      Epoch    GPU_mem   box_loss   cls_loss   dfl_loss  Instances       Size\n",
            "\u001b[K     55/200      27.7G      1.167     0.5763     0.9744         12        640: 100% ━━━━━━━━━━━━ 724/724 2.5it/s 4:51\n",
            "\u001b[K                 Class     Images  Instances      Box(P          R      mAP50  mAP50-95): 100% ━━━━━━━━━━━━ 77/77 4.9it/s 15.6s\n",
            "                   all       4304       1553      0.893      0.638      0.707      0.345\n",
            "\n",
            "      Epoch    GPU_mem   box_loss   cls_loss   dfl_loss  Instances       Size\n",
            "\u001b[K     56/200      27.7G      1.168     0.5869     0.9756         12        640: 100% ━━━━━━━━━━━━ 724/724 2.5it/s 4:51\n",
            "\u001b[K                 Class     Images  Instances      Box(P          R      mAP50  mAP50-95): 100% ━━━━━━━━━━━━ 77/77 4.9it/s 15.7s\n",
            "                   all       4304       1553      0.895      0.637      0.708      0.346\n",
            "\n",
            "      Epoch    GPU_mem   box_loss   cls_loss   dfl_loss  Instances       Size\n",
            "\u001b[K     57/200      27.7G      1.163     0.5836     0.9769         15        640: 100% ━━━━━━━━━━━━ 724/724 2.5it/s 4:51\n",
            "\u001b[K                 Class     Images  Instances      Box(P          R      mAP50  mAP50-95): 100% ━━━━━━━━━━━━ 77/77 4.9it/s 15.6s\n",
            "                   all       4304       1553      0.896      0.639      0.709      0.346\n",
            "\n",
            "      Epoch    GPU_mem   box_loss   cls_loss   dfl_loss  Instances       Size\n",
            "\u001b[K     58/200      27.7G      1.157      0.576     0.9804         11        640: 100% ━━━━━━━━━━━━ 724/724 2.5it/s 4:51\n",
            "\u001b[K                 Class     Images  Instances      Box(P          R      mAP50  mAP50-95): 100% ━━━━━━━━━━━━ 77/77 4.9it/s 15.6s\n",
            "                   all       4304       1553      0.897      0.638       0.71      0.346\n",
            "\n",
            "      Epoch    GPU_mem   box_loss   cls_loss   dfl_loss  Instances       Size\n",
            "\u001b[K     59/200      27.7G       1.14     0.5667     0.9708          8        640: 100% ━━━━━━━━━━━━ 724/724 2.5it/s 4:51\n",
            "\u001b[K                 Class     Images  Instances      Box(P          R      mAP50  mAP50-95): 100% ━━━━━━━━━━━━ 77/77 5.0it/s 15.4s\n",
            "                   all       4304       1553      0.897      0.636      0.708      0.347\n",
            "\n",
            "      Epoch    GPU_mem   box_loss   cls_loss   dfl_loss  Instances       Size\n",
            "\u001b[K     60/200      27.7G       1.14     0.5735     0.9711         12        640: 100% ━━━━━━━━━━━━ 724/724 2.5it/s 4:51\n",
            "\u001b[K                 Class     Images  Instances      Box(P          R      mAP50  mAP50-95): 100% ━━━━━━━━━━━━ 77/77 5.0it/s 15.4s\n",
            "                   all       4304       1553      0.895      0.634      0.708      0.348\n",
            "\n",
            "      Epoch    GPU_mem   box_loss   cls_loss   dfl_loss  Instances       Size\n",
            "\u001b[K     61/200      27.7G      1.139     0.5671     0.9691         11        640: 100% ━━━━━━━━━━━━ 724/724 2.5it/s 4:51\n",
            "\u001b[K                 Class     Images  Instances      Box(P          R      mAP50  mAP50-95): 100% ━━━━━━━━━━━━ 77/77 5.0it/s 15.5s\n",
            "                   all       4304       1553      0.894      0.634      0.708      0.349\n",
            "\n",
            "      Epoch    GPU_mem   box_loss   cls_loss   dfl_loss  Instances       Size\n",
            "\u001b[K     62/200      27.7G      1.133     0.5641     0.9751          6        640: 100% ━━━━━━━━━━━━ 724/724 2.5it/s 4:51\n",
            "\u001b[K                 Class     Images  Instances      Box(P          R      mAP50  mAP50-95): 100% ━━━━━━━━━━━━ 77/77 5.0it/s 15.5s\n",
            "                   all       4304       1553      0.895      0.632      0.708      0.349\n",
            "\n",
            "      Epoch    GPU_mem   box_loss   cls_loss   dfl_loss  Instances       Size\n",
            "\u001b[K     63/200      27.7G      1.141     0.5596      0.972          9        640: 100% ━━━━━━━━━━━━ 724/724 2.5it/s 4:51\n",
            "\u001b[K                 Class     Images  Instances      Box(P          R      mAP50  mAP50-95): 100% ━━━━━━━━━━━━ 77/77 5.0it/s 15.3s\n",
            "                   all       4304       1553      0.892      0.631      0.707       0.35\n",
            "\n",
            "      Epoch    GPU_mem   box_loss   cls_loss   dfl_loss  Instances       Size\n",
            "\u001b[K     64/200      27.7G      1.127      0.565     0.9684         11        640: 100% ━━━━━━━━━━━━ 724/724 2.5it/s 4:51\n",
            "\u001b[K                 Class     Images  Instances      Box(P          R      mAP50  mAP50-95): 100% ━━━━━━━━━━━━ 77/77 5.0it/s 15.3s\n",
            "                   all       4304       1553      0.895      0.628      0.708       0.35\n",
            "\n",
            "      Epoch    GPU_mem   box_loss   cls_loss   dfl_loss  Instances       Size\n",
            "\u001b[K     65/200      27.7G      1.129     0.5578     0.9619         11        640: 100% ━━━━━━━━━━━━ 724/724 2.5it/s 4:51\n",
            "\u001b[K                 Class     Images  Instances      Box(P          R      mAP50  mAP50-95): 100% ━━━━━━━━━━━━ 77/77 5.1it/s 15.2s\n",
            "                   all       4304       1553      0.899      0.627      0.709      0.351\n",
            "\n",
            "      Epoch    GPU_mem   box_loss   cls_loss   dfl_loss  Instances       Size\n",
            "\u001b[K     66/200      27.7G      1.111     0.5522     0.9574         12        640: 100% ━━━━━━━━━━━━ 724/724 2.5it/s 4:51\n",
            "\u001b[K                 Class     Images  Instances      Box(P          R      mAP50  mAP50-95): 100% ━━━━━━━━━━━━ 77/77 5.1it/s 15.2s\n",
            "                   all       4304       1553      0.898      0.627       0.71      0.353\n",
            "\n",
            "      Epoch    GPU_mem   box_loss   cls_loss   dfl_loss  Instances       Size\n",
            "\u001b[K     67/200      27.7G      1.113     0.5492     0.9611          9        640: 100% ━━━━━━━━━━━━ 724/724 2.5it/s 4:51\n",
            "\u001b[K                 Class     Images  Instances      Box(P          R      mAP50  mAP50-95): 100% ━━━━━━━━━━━━ 77/77 5.1it/s 15.1s\n",
            "                   all       4304       1553      0.897      0.626      0.711      0.354\n",
            "\n",
            "      Epoch    GPU_mem   box_loss   cls_loss   dfl_loss  Instances       Size\n",
            "\u001b[K     68/200      27.7G      1.102     0.5497     0.9553         10        640: 100% ━━━━━━━━━━━━ 724/724 2.5it/s 4:51\n",
            "\u001b[K                 Class     Images  Instances      Box(P          R      mAP50  mAP50-95): 100% ━━━━━━━━━━━━ 77/77 5.1it/s 15.1s\n",
            "                   all       4304       1553      0.902      0.622      0.711      0.356\n",
            "\n",
            "      Epoch    GPU_mem   box_loss   cls_loss   dfl_loss  Instances       Size\n",
            "\u001b[K     69/200      27.7G      1.118     0.5565     0.9673         12        640: 100% ━━━━━━━━━━━━ 724/724 2.5it/s 4:51\n",
            "\u001b[K                 Class     Images  Instances      Box(P          R      mAP50  mAP50-95): 100% ━━━━━━━━━━━━ 77/77 5.2it/s 14.9s\n",
            "                   all       4304       1553      0.899      0.622      0.712      0.358\n",
            "\n",
            "      Epoch    GPU_mem   box_loss   cls_loss   dfl_loss  Instances       Size\n",
            "\u001b[K     70/200      27.7G      1.104     0.5399     0.9524         11        640: 100% ━━━━━━━━━━━━ 724/724 2.5it/s 4:51\n",
            "\u001b[K                 Class     Images  Instances      Box(P          R      mAP50  mAP50-95): 100% ━━━━━━━━━━━━ 77/77 5.1it/s 15.0s\n",
            "                   all       4304       1553      0.903      0.621      0.714      0.359\n",
            "\n",
            "      Epoch    GPU_mem   box_loss   cls_loss   dfl_loss  Instances       Size\n",
            "\u001b[K     71/200      27.7G      1.117     0.5537     0.9623         11        640: 100% ━━━━━━━━━━━━ 724/724 2.5it/s 4:51\n",
            "\u001b[K                 Class     Images  Instances      Box(P          R      mAP50  mAP50-95): 100% ━━━━━━━━━━━━ 77/77 5.2it/s 14.9s\n",
            "                   all       4304       1553      0.909      0.617      0.715       0.36\n",
            "\n",
            "      Epoch    GPU_mem   box_loss   cls_loss   dfl_loss  Instances       Size\n",
            "\u001b[K     72/200      27.7G      1.091     0.5399     0.9487         14        640: 100% ━━━━━━━━━━━━ 724/724 2.5it/s 4:51\n",
            "\u001b[K                 Class     Images  Instances      Box(P          R      mAP50  mAP50-95): 100% ━━━━━━━━━━━━ 77/77 5.2it/s 14.9s\n",
            "                   all       4304       1553      0.914      0.617      0.717      0.361\n",
            "\n",
            "      Epoch    GPU_mem   box_loss   cls_loss   dfl_loss  Instances       Size\n",
            "\u001b[K     73/200      27.7G      1.103     0.5412     0.9596         14        640: 100% ━━━━━━━━━━━━ 724/724 2.5it/s 4:51\n",
            "\u001b[K                 Class     Images  Instances      Box(P          R      mAP50  mAP50-95): 100% ━━━━━━━━━━━━ 77/77 5.2it/s 14.8s\n",
            "                   all       4304       1553      0.919      0.614      0.718      0.363\n",
            "\n",
            "      Epoch    GPU_mem   box_loss   cls_loss   dfl_loss  Instances       Size\n",
            "\u001b[K     74/200      27.7G      1.086     0.5332     0.9511         12        640: 100% ━━━━━━━━━━━━ 724/724 2.5it/s 4:51\n",
            "\u001b[K                 Class     Images  Instances      Box(P          R      mAP50  mAP50-95): 100% ━━━━━━━━━━━━ 77/77 5.3it/s 14.6s\n",
            "                   all       4304       1553      0.921      0.611      0.719      0.365\n",
            "\n",
            "      Epoch    GPU_mem   box_loss   cls_loss   dfl_loss  Instances       Size\n",
            "\u001b[K     75/200      27.7G      1.086     0.5362     0.9539         18        640: 100% ━━━━━━━━━━━━ 724/724 2.5it/s 4:51\n",
            "\u001b[K                 Class     Images  Instances      Box(P          R      mAP50  mAP50-95): 100% ━━━━━━━━━━━━ 77/77 5.2it/s 14.7s\n",
            "                   all       4304       1553      0.925      0.605       0.72      0.367\n",
            "\n",
            "      Epoch    GPU_mem   box_loss   cls_loss   dfl_loss  Instances       Size\n",
            "\u001b[K     76/200      27.7G      1.081     0.5329     0.9517         13        640: 100% ━━━━━━━━━━━━ 724/724 2.5it/s 4:51\n",
            "\u001b[K                 Class     Images  Instances      Box(P          R      mAP50  mAP50-95): 100% ━━━━━━━━━━━━ 77/77 5.3it/s 14.6s\n",
            "                   all       4304       1553      0.932      0.601      0.724       0.37\n",
            "\n",
            "      Epoch    GPU_mem   box_loss   cls_loss   dfl_loss  Instances       Size\n",
            "\u001b[K     77/200      27.7G      1.071     0.5397     0.9474         17        640: 100% ━━━━━━━━━━━━ 724/724 2.5it/s 4:51\n",
            "\u001b[K                 Class     Images  Instances      Box(P          R      mAP50  mAP50-95): 100% ━━━━━━━━━━━━ 77/77 5.3it/s 14.5s\n",
            "                   all       4304       1553      0.933      0.595      0.726      0.373\n",
            "\n",
            "      Epoch    GPU_mem   box_loss   cls_loss   dfl_loss  Instances       Size\n",
            "\u001b[K     78/200      27.7G      1.087     0.5356     0.9498         14        640: 100% ━━━━━━━━━━━━ 724/724 2.5it/s 4:51\n",
            "\u001b[K                 Class     Images  Instances      Box(P          R      mAP50  mAP50-95): 100% ━━━━━━━━━━━━ 77/77 5.3it/s 14.5s\n",
            "                   all       4304       1553      0.937      0.589      0.728      0.376\n",
            "\n",
            "      Epoch    GPU_mem   box_loss   cls_loss   dfl_loss  Instances       Size\n",
            "\u001b[K     79/200      27.7G       1.07     0.5299     0.9447         22        640: 100% ━━━━━━━━━━━━ 724/724 2.5it/s 4:51\n",
            "\u001b[K                 Class     Images  Instances      Box(P          R      mAP50  mAP50-95): 100% ━━━━━━━━━━━━ 77/77 5.3it/s 14.6s\n",
            "                   all       4304       1553      0.948      0.583       0.73      0.378\n",
            "\n",
            "      Epoch    GPU_mem   box_loss   cls_loss   dfl_loss  Instances       Size\n",
            "\u001b[K     80/200      27.7G      1.061      0.522     0.9532         12        640: 100% ━━━━━━━━━━━━ 724/724 2.5it/s 4:51\n",
            "\u001b[K                 Class     Images  Instances      Box(P          R      mAP50  mAP50-95): 100% ━━━━━━━━━━━━ 77/77 5.3it/s 14.4s\n",
            "                   all       4304       1553      0.954      0.574      0.734      0.382\n",
            "\n",
            "      Epoch    GPU_mem   box_loss   cls_loss   dfl_loss  Instances       Size\n",
            "\u001b[K     81/200      27.7G      1.058     0.5229     0.9401         20        640: 100% ━━━━━━━━━━━━ 724/724 2.5it/s 4:51\n",
            "\u001b[K                 Class     Images  Instances      Box(P          R      mAP50  mAP50-95): 100% ━━━━━━━━━━━━ 77/77 5.4it/s 14.3s\n",
            "                   all       4304       1553      0.959      0.563      0.738      0.386\n",
            "\n",
            "      Epoch    GPU_mem   box_loss   cls_loss   dfl_loss  Instances       Size\n",
            "\u001b[K     82/200      27.7G      1.054     0.5212     0.9385         10        640: 100% ━━━━━━━━━━━━ 724/724 2.5it/s 4:51\n",
            "\u001b[K                 Class     Images  Instances      Box(P          R      mAP50  mAP50-95): 100% ━━━━━━━━━━━━ 77/77 5.4it/s 14.3s\n",
            "                   all       4304       1553       0.96      0.551       0.74       0.39\n",
            "\n",
            "      Epoch    GPU_mem   box_loss   cls_loss   dfl_loss  Instances       Size\n",
            "\u001b[K     83/200      27.7G      1.039     0.5055     0.9343         10        640: 100% ━━━━━━━━━━━━ 724/724 2.5it/s 4:51\n",
            "\u001b[K                 Class     Images  Instances      Box(P          R      mAP50  mAP50-95): 100% ━━━━━━━━━━━━ 77/77 5.4it/s 14.3s\n",
            "                   all       4304       1553      0.963      0.542      0.744      0.394\n",
            "\n",
            "      Epoch    GPU_mem   box_loss   cls_loss   dfl_loss  Instances       Size\n",
            "\u001b[K     84/200      27.7G      1.043     0.5127     0.9374         11        640: 100% ━━━━━━━━━━━━ 724/724 2.5it/s 4:51\n",
            "\u001b[K                 Class     Images  Instances      Box(P          R      mAP50  mAP50-95): 100% ━━━━━━━━━━━━ 77/77 5.4it/s 14.4s\n",
            "                   all       4304       1553      0.965      0.538       0.75      0.398\n",
            "\n",
            "      Epoch    GPU_mem   box_loss   cls_loss   dfl_loss  Instances       Size\n",
            "\u001b[K     85/200      27.7G      1.041     0.5119     0.9361          7        640: 100% ━━━━━━━━━━━━ 724/724 2.5it/s 4:51\n",
            "\u001b[K                 Class     Images  Instances      Box(P          R      mAP50  mAP50-95): 100% ━━━━━━━━━━━━ 77/77 5.4it/s 14.2s\n",
            "                   all       4304       1553      0.952      0.569      0.753      0.402\n",
            "\n",
            "      Epoch    GPU_mem   box_loss   cls_loss   dfl_loss  Instances       Size\n",
            "\u001b[K     86/200      27.7G      1.039     0.5137     0.9397          8        640: 100% ━━━━━━━━━━━━ 724/724 2.5it/s 4:51\n",
            "\u001b[K                 Class     Images  Instances      Box(P          R      mAP50  mAP50-95): 100% ━━━━━━━━━━━━ 77/77 5.5it/s 14.1s\n",
            "                   all       4304       1553      0.717      0.647      0.757      0.407\n",
            "\n",
            "      Epoch    GPU_mem   box_loss   cls_loss   dfl_loss  Instances       Size\n",
            "\u001b[K     87/200      27.7G      1.032       0.51     0.9376         12        640: 100% ━━━━━━━━━━━━ 724/724 2.5it/s 4:51\n",
            "\u001b[K                 Class     Images  Instances      Box(P          R      mAP50  mAP50-95): 100% ━━━━━━━━━━━━ 77/77 5.5it/s 14.1s\n",
            "                   all       4304       1553      0.764      0.639      0.762      0.412\n",
            "\n",
            "      Epoch    GPU_mem   box_loss   cls_loss   dfl_loss  Instances       Size\n",
            "\u001b[K     88/200      27.7G      1.028     0.5064     0.9314         11        640: 100% ━━━━━━━━━━━━ 724/724 2.5it/s 4:51\n",
            "\u001b[K                 Class     Images  Instances      Box(P          R      mAP50  mAP50-95): 100% ━━━━━━━━━━━━ 77/77 5.4it/s 14.2s\n",
            "                   all       4304       1553      0.806       0.63      0.765      0.418\n",
            "\n",
            "      Epoch    GPU_mem   box_loss   cls_loss   dfl_loss  Instances       Size\n",
            "\u001b[K     89/200      27.7G       1.03     0.5098     0.9287         11        640: 100% ━━━━━━━━━━━━ 724/724 2.5it/s 4:51\n",
            "\u001b[K                 Class     Images  Instances      Box(P          R      mAP50  mAP50-95): 100% ━━━━━━━━━━━━ 77/77 5.5it/s 14.1s\n",
            "                   all       4304       1553      0.839      0.618      0.766      0.422\n",
            "\n",
            "      Epoch    GPU_mem   box_loss   cls_loss   dfl_loss  Instances       Size\n",
            "\u001b[K     90/200      27.7G      1.032     0.5046     0.9332         14        640: 100% ━━━━━━━━━━━━ 724/724 2.5it/s 4:51\n",
            "\u001b[K                 Class     Images  Instances      Box(P          R      mAP50  mAP50-95): 100% ━━━━━━━━━━━━ 77/77 5.5it/s 14.0s\n",
            "                   all       4304       1553      0.873      0.609      0.769      0.425\n",
            "\n",
            "      Epoch    GPU_mem   box_loss   cls_loss   dfl_loss  Instances       Size\n",
            "\u001b[K     91/200      27.7G      1.028     0.5062      0.937         11        640: 100% ━━━━━━━━━━━━ 724/724 2.5it/s 4:51\n",
            "\u001b[K                 Class     Images  Instances      Box(P          R      mAP50  mAP50-95): 100% ━━━━━━━━━━━━ 77/77 5.5it/s 14.0s\n",
            "                   all       4304       1553      0.897      0.603      0.771      0.429\n",
            "\n",
            "      Epoch    GPU_mem   box_loss   cls_loss   dfl_loss  Instances       Size\n",
            "\u001b[K     92/200      27.7G      1.009     0.4972     0.9252         14        640: 100% ━━━━━━━━━━━━ 724/724 2.5it/s 4:51\n",
            "\u001b[K                 Class     Images  Instances      Box(P          R      mAP50  mAP50-95): 100% ━━━━━━━━━━━━ 77/77 5.5it/s 14.0s\n",
            "                   all       4304       1553       0.92      0.591      0.769       0.43\n",
            "\n",
            "      Epoch    GPU_mem   box_loss   cls_loss   dfl_loss  Instances       Size\n",
            "\u001b[K     93/200      27.7G      1.023     0.4998     0.9321         14        640: 100% ━━━━━━━━━━━━ 724/724 2.5it/s 4:51\n",
            "\u001b[K                 Class     Images  Instances      Box(P          R      mAP50  mAP50-95): 100% ━━━━━━━━━━━━ 77/77 5.5it/s 13.9s\n",
            "                   all       4304       1553      0.928      0.581      0.766      0.429\n",
            "\n",
            "      Epoch    GPU_mem   box_loss   cls_loss   dfl_loss  Instances       Size\n",
            "\u001b[K     94/200      27.7G      1.012     0.4954     0.9254         10        640: 100% ━━━━━━━━━━━━ 724/724 2.5it/s 4:51\n",
            "\u001b[K                 Class     Images  Instances      Box(P          R      mAP50  mAP50-95): 100% ━━━━━━━━━━━━ 77/77 5.5it/s 14.0s\n",
            "                   all       4304       1553      0.938      0.565      0.761      0.428\n",
            "\n",
            "      Epoch    GPU_mem   box_loss   cls_loss   dfl_loss  Instances       Size\n",
            "\u001b[K     95/200      27.7G      1.016     0.4976       0.93         11        640: 100% ━━━━━━━━━━━━ 724/724 2.5it/s 4:52\n",
            "\u001b[K                 Class     Images  Instances      Box(P          R      mAP50  mAP50-95): 100% ━━━━━━━━━━━━ 77/77 5.5it/s 14.1s\n",
            "                   all       4304       1553      0.945      0.554      0.757      0.428\n",
            "\n",
            "      Epoch    GPU_mem   box_loss   cls_loss   dfl_loss  Instances       Size\n",
            "\u001b[K     96/200      27.7G      1.011     0.4912     0.9297          9        640: 100% ━━━━━━━━━━━━ 724/724 2.5it/s 4:51\n",
            "\u001b[K                 Class     Images  Instances      Box(P          R      mAP50  mAP50-95): 100% ━━━━━━━━━━━━ 77/77 5.6it/s 13.8s\n",
            "                   all       4304       1553      0.951      0.549      0.756      0.429\n",
            "\n",
            "      Epoch    GPU_mem   box_loss   cls_loss   dfl_loss  Instances       Size\n",
            "\u001b[K     97/200      27.7G     0.9859     0.4829      0.917          4        640: 100% ━━━━━━━━━━━━ 724/724 2.5it/s 4:51\n",
            "\u001b[K                 Class     Images  Instances      Box(P          R      mAP50  mAP50-95): 100% ━━━━━━━━━━━━ 77/77 5.6it/s 13.7s\n",
            "                   all       4304       1553      0.952      0.541      0.753      0.427\n",
            "\n",
            "      Epoch    GPU_mem   box_loss   cls_loss   dfl_loss  Instances       Size\n",
            "\u001b[K     98/200      27.7G     0.9943     0.4872     0.9252         14        640: 100% ━━━━━━━━━━━━ 724/724 2.5it/s 4:51\n",
            "\u001b[K                 Class     Images  Instances      Box(P          R      mAP50  mAP50-95): 100% ━━━━━━━━━━━━ 77/77 5.6it/s 13.8s\n",
            "                   all       4304       1553      0.955      0.533      0.749      0.427\n",
            "\n",
            "      Epoch    GPU_mem   box_loss   cls_loss   dfl_loss  Instances       Size\n",
            "\u001b[K     99/200      27.7G     0.9923     0.4876     0.9227         16        640: 100% ━━━━━━━━━━━━ 724/724 2.5it/s 4:51\n",
            "\u001b[K                 Class     Images  Instances      Box(P          R      mAP50  mAP50-95): 100% ━━━━━━━━━━━━ 77/77 5.6it/s 13.8s\n",
            "                   all       4304       1553      0.956      0.518      0.743      0.427\n",
            "\n",
            "      Epoch    GPU_mem   box_loss   cls_loss   dfl_loss  Instances       Size\n",
            "\u001b[K    100/200      27.7G     0.9898     0.4862     0.9227         18        640: 100% ━━━━━━━━━━━━ 724/724 2.5it/s 4:51\n",
            "\u001b[K                 Class     Images  Instances      Box(P          R      mAP50  mAP50-95): 100% ━━━━━━━━━━━━ 77/77 5.6it/s 13.8s\n",
            "                   all       4304       1553      0.962      0.509      0.739      0.427\n",
            "\n",
            "      Epoch    GPU_mem   box_loss   cls_loss   dfl_loss  Instances       Size\n",
            "\u001b[K    101/200      27.7G     0.9887     0.4776     0.9238         14        640: 100% ━━━━━━━━━━━━ 724/724 2.5it/s 4:51\n",
            "\u001b[K                 Class     Images  Instances      Box(P          R      mAP50  mAP50-95): 100% ━━━━━━━━━━━━ 77/77 5.6it/s 13.7s\n",
            "                   all       4304       1553      0.961      0.492      0.731      0.424\n",
            "\n",
            "      Epoch    GPU_mem   box_loss   cls_loss   dfl_loss  Instances       Size\n",
            "\u001b[K    102/200      27.7G     0.9832     0.4838     0.9161          8        640: 100% ━━━━━━━━━━━━ 724/724 2.5it/s 4:51\n",
            "\u001b[K                 Class     Images  Instances      Box(P          R      mAP50  mAP50-95): 100% ━━━━━━━━━━━━ 77/77 5.5it/s 13.9s\n",
            "                   all       4304       1553      0.965      0.478      0.725      0.423\n",
            "\n",
            "      Epoch    GPU_mem   box_loss   cls_loss   dfl_loss  Instances       Size\n",
            "\u001b[K    103/200      27.7G     0.9856     0.4847     0.9226         10        640: 100% ━━━━━━━━━━━━ 724/724 2.5it/s 4:51\n",
            "\u001b[K                 Class     Images  Instances      Box(P          R      mAP50  mAP50-95): 100% ━━━━━━━━━━━━ 77/77 5.6it/s 13.8s\n",
            "                   all       4304       1553      0.964      0.466      0.719      0.422\n",
            "\n",
            "      Epoch    GPU_mem   box_loss   cls_loss   dfl_loss  Instances       Size\n",
            "\u001b[K    104/200      27.7G     0.9745     0.4788     0.9211         10        640: 100% ━━━━━━━━━━━━ 724/724 2.5it/s 4:51\n",
            "\u001b[K                 Class     Images  Instances      Box(P          R      mAP50  mAP50-95): 100% ━━━━━━━━━━━━ 77/77 5.6it/s 13.6s\n",
            "                   all       4304       1553      0.964      0.451      0.712      0.421\n",
            "\n",
            "      Epoch    GPU_mem   box_loss   cls_loss   dfl_loss  Instances       Size\n",
            "\u001b[K    105/200      27.7G     0.9724     0.4788      0.921          8        640: 100% ━━━━━━━━━━━━ 724/724 2.5it/s 4:51\n",
            "\u001b[K                 Class     Images  Instances      Box(P          R      mAP50  mAP50-95): 100% ━━━━━━━━━━━━ 77/77 5.6it/s 13.7s\n",
            "                   all       4304       1553      0.969      0.441      0.709      0.421\n",
            "\n",
            "      Epoch    GPU_mem   box_loss   cls_loss   dfl_loss  Instances       Size\n",
            "\u001b[K    106/200      27.7G     0.9851     0.4832     0.9198         10        640: 100% ━━━━━━━━━━━━ 724/724 2.5it/s 4:51\n",
            "\u001b[K                 Class     Images  Instances      Box(P          R      mAP50  mAP50-95): 100% ━━━━━━━━━━━━ 77/77 5.6it/s 13.7s\n",
            "                   all       4304       1553      0.974      0.431      0.705       0.42\n",
            "\n",
            "      Epoch    GPU_mem   box_loss   cls_loss   dfl_loss  Instances       Size\n",
            "\u001b[K    107/200      27.7G     0.9726     0.4665      0.911         13        640: 100% ━━━━━━━━━━━━ 724/724 2.5it/s 4:51\n",
            "\u001b[K                 Class     Images  Instances      Box(P          R      mAP50  mAP50-95): 100% ━━━━━━━━━━━━ 77/77 5.7it/s 13.6s\n",
            "                   all       4304       1553      0.976      0.424      0.702      0.418\n",
            "\n",
            "      Epoch    GPU_mem   box_loss   cls_loss   dfl_loss  Instances       Size\n",
            "\u001b[K    108/200      27.7G     0.9684     0.4733     0.9183         15        640: 100% ━━━━━━━━━━━━ 724/724 2.5it/s 4:51\n",
            "\u001b[K                 Class     Images  Instances      Box(P          R      mAP50  mAP50-95): 100% ━━━━━━━━━━━━ 77/77 5.6it/s 13.6s\n",
            "                   all       4304       1553      0.976      0.419        0.7      0.417\n",
            "\n",
            "      Epoch    GPU_mem   box_loss   cls_loss   dfl_loss  Instances       Size\n",
            "\u001b[K    109/200      27.7G     0.9584     0.4745     0.9144         14        640: 100% ━━━━━━━━━━━━ 724/724 2.5it/s 4:51\n",
            "\u001b[K                 Class     Images  Instances      Box(P          R      mAP50  mAP50-95): 100% ━━━━━━━━━━━━ 77/77 5.6it/s 13.7s\n",
            "                   all       4304       1553      0.977      0.408      0.695      0.415\n",
            "\n",
            "      Epoch    GPU_mem   box_loss   cls_loss   dfl_loss  Instances       Size\n",
            "\u001b[K    110/200      27.7G     0.9537     0.4673     0.9125         14        640: 100% ━━━━━━━━━━━━ 724/724 2.5it/s 4:51\n",
            "\u001b[K                 Class     Images  Instances      Box(P          R      mAP50  mAP50-95): 100% ━━━━━━━━━━━━ 77/77 5.7it/s 13.6s\n",
            "                   all       4304       1553      0.978      0.397       0.69      0.413\n",
            "\n",
            "      Epoch    GPU_mem   box_loss   cls_loss   dfl_loss  Instances       Size\n",
            "\u001b[K    111/200      27.7G     0.9526     0.4655      0.913         15        640: 100% ━━━━━━━━━━━━ 724/724 2.5it/s 4:51\n",
            "\u001b[K                 Class     Images  Instances      Box(P          R      mAP50  mAP50-95): 100% ━━━━━━━━━━━━ 77/77 5.7it/s 13.6s\n",
            "                   all       4304       1553       0.98      0.386      0.685      0.412\n",
            "\n",
            "      Epoch    GPU_mem   box_loss   cls_loss   dfl_loss  Instances       Size\n",
            "\u001b[K    112/200      27.7G     0.9578     0.4722     0.9212          7        640: 100% ━━━━━━━━━━━━ 724/724 2.5it/s 4:51\n",
            "\u001b[K                 Class     Images  Instances      Box(P          R      mAP50  mAP50-95): 100% ━━━━━━━━━━━━ 77/77 5.7it/s 13.5s\n",
            "                   all       4304       1553       0.98      0.371      0.677       0.41\n",
            "\u001b[34m\u001b[1mEarlyStopping: \u001b[0mTraining stopped early as no improvement observed in last 20 epochs. Best results observed at epoch 92, best model saved as best.pt.\n",
            "To update EarlyStopping(patience=20) pass a new patience value, i.e. `patience=300` or use `patience=0` to disable EarlyStopping.\n",
            "\n",
            "112 epochs completed in 9.603 hours.\n",
            "Optimizer stripped from /content/runs/detect/train/weights/last.pt, 114.4MB\n",
            "Optimizer stripped from /content/runs/detect/train/weights/best.pt, 114.4MB\n",
            "\n",
            "Validating /content/runs/detect/train/weights/best.pt...\n",
            "Ultralytics 8.3.204 🚀 Python-3.12.11 torch-2.8.0+cu126 CUDA:0 (NVIDIA A100-SXM4-40GB, 40507MiB)\n",
            "YOLO11x summary (fused): 190 layers, 56,828,179 parameters, 0 gradients, 194.4 GFLOPs\n",
            "\u001b[K                 Class     Images  Instances      Box(P          R      mAP50  mAP50-95): 100% ━━━━━━━━━━━━ 77/77 5.6it/s 13.7s\n",
            "                   all       4304       1553       0.92      0.591      0.769       0.43\n",
            "Speed: 0.1ms preprocess, 2.0ms inference, 0.0ms loss, 0.3ms postprocess per image\n",
            "Results saved to \u001b[1m/content/runs/detect/train\u001b[0m\n"
          ]
        }
      ]
    }
  ]
}