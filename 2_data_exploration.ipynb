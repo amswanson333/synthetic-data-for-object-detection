{
 "cells": [
  {
   "cell_type": "markdown",
   "id": "aaf19abe",
   "metadata": {},
   "source": [
    "# 🔎 Data Exploration"
   ]
  },
  {
   "cell_type": "markdown",
   "id": "4a99b7c4",
   "metadata": {},
   "source": [
    "To have a good understanding of the underlying dataset, and set up for train/validation/test splits some data exploration is necessary."
   ]
  },
  {
   "cell_type": "code",
   "execution_count": 12,
   "id": "19e44760",
   "metadata": {},
   "outputs": [],
   "source": [
    "import os\n",
    "import pandas as pd\n",
    "import numpy as np\n",
    "import shutil\n",
    "\n",
    "from src import utils"
   ]
  },
  {
   "cell_type": "markdown",
   "id": "cb948037",
   "metadata": {},
   "source": [
    "## 1. Data Overview"
   ]
  },
  {
   "cell_type": "markdown",
   "id": "595fa005",
   "metadata": {},
   "source": []
  },
  {
   "cell_type": "code",
   "execution_count": 2,
   "id": "3b09e148",
   "metadata": {},
   "outputs": [],
   "source": [
    "# Get an overview of the videos from the original annotation files\n",
    "\n",
    "file_names, empty_frames, frames = utils.label_data.frame_overview(os.path.join(utils.RAW_DATA_DIR, 'drone_vs_bird_competition'))\n",
    "\n",
    "empty_frames = np.array(empty_frames)\n",
    "frames = np.array(frames)\n",
    "empty_ratio = np.divide(empty_frames, frames)\n",
    "\n",
    "# Combine the data into a DataFrame\n",
    "overview_df = pd.DataFrame({\n",
    "    'file_name': file_names,\n",
    "    'empty_frames': empty_frames,\n",
    "    'total_frames': frames,\n",
    "    'empty_ratio': empty_ratio\n",
    "})\n",
    "\n",
    "# Save the dataframe to the metadata folder\n",
    "overview_df.to_csv(os.path.join(utils.METADATA_DIR, 'dvb_video_overview.csv'), index=False)"
   ]
  },
  {
   "cell_type": "code",
   "execution_count": 2,
   "id": "e19d4fc2",
   "metadata": {},
   "outputs": [],
   "source": [
    "# Re-read the csv to a dataframe (so the previous step can be skipped in the future)\n",
    "overview_df = pd.read_csv(os.path.join(utils.METADATA_DIR, 'dvb_video_overview.csv'))"
   ]
  },
  {
   "cell_type": "code",
   "execution_count": 3,
   "id": "0a9bf85c",
   "metadata": {},
   "outputs": [
    {
     "data": {
      "application/vnd.microsoft.datawrangler.viewer.v0+json": {
       "columns": [
        {
         "name": "index",
         "rawType": "int64",
         "type": "integer"
        },
        {
         "name": "file_name",
         "rawType": "object",
         "type": "string"
        },
        {
         "name": "empty_frames",
         "rawType": "int64",
         "type": "integer"
        },
        {
         "name": "total_frames",
         "rawType": "int64",
         "type": "integer"
        },
        {
         "name": "empty_ratio",
         "rawType": "float64",
         "type": "float"
        }
       ],
       "ref": "194be999-8ef0-42d6-b281-39db867e6531",
       "rows": [
        [
         "0",
         "00_01_52_to_00_01_58.txt",
         "53",
         "175",
         "0.3028571428571429"
        ],
        [
         "1",
         "00_02_45_to_00_03_10_cut.txt",
         "1",
         "400",
         "0.0025"
        ],
        [
         "2",
         "00_06_10_to_00_06_27.txt",
         "272",
         "499",
         "0.5450901803607214"
        ],
        [
         "3",
         "00_09_30_to_00_10_09.txt",
         "80",
         "1165",
         "0.0686695278969957"
        ],
        [
         "4",
         "00_10_09_to_00_10_40.txt",
         "31",
         "925",
         "0.0335135135135135"
        ]
       ],
       "shape": {
        "columns": 4,
        "rows": 5
       }
      },
      "text/html": [
       "<div>\n",
       "<style scoped>\n",
       "    .dataframe tbody tr th:only-of-type {\n",
       "        vertical-align: middle;\n",
       "    }\n",
       "\n",
       "    .dataframe tbody tr th {\n",
       "        vertical-align: top;\n",
       "    }\n",
       "\n",
       "    .dataframe thead th {\n",
       "        text-align: right;\n",
       "    }\n",
       "</style>\n",
       "<table border=\"1\" class=\"dataframe\">\n",
       "  <thead>\n",
       "    <tr style=\"text-align: right;\">\n",
       "      <th></th>\n",
       "      <th>file_name</th>\n",
       "      <th>empty_frames</th>\n",
       "      <th>total_frames</th>\n",
       "      <th>empty_ratio</th>\n",
       "    </tr>\n",
       "  </thead>\n",
       "  <tbody>\n",
       "    <tr>\n",
       "      <th>0</th>\n",
       "      <td>00_01_52_to_00_01_58.txt</td>\n",
       "      <td>53</td>\n",
       "      <td>175</td>\n",
       "      <td>0.302857</td>\n",
       "    </tr>\n",
       "    <tr>\n",
       "      <th>1</th>\n",
       "      <td>00_02_45_to_00_03_10_cut.txt</td>\n",
       "      <td>1</td>\n",
       "      <td>400</td>\n",
       "      <td>0.002500</td>\n",
       "    </tr>\n",
       "    <tr>\n",
       "      <th>2</th>\n",
       "      <td>00_06_10_to_00_06_27.txt</td>\n",
       "      <td>272</td>\n",
       "      <td>499</td>\n",
       "      <td>0.545090</td>\n",
       "    </tr>\n",
       "    <tr>\n",
       "      <th>3</th>\n",
       "      <td>00_09_30_to_00_10_09.txt</td>\n",
       "      <td>80</td>\n",
       "      <td>1165</td>\n",
       "      <td>0.068670</td>\n",
       "    </tr>\n",
       "    <tr>\n",
       "      <th>4</th>\n",
       "      <td>00_10_09_to_00_10_40.txt</td>\n",
       "      <td>31</td>\n",
       "      <td>925</td>\n",
       "      <td>0.033514</td>\n",
       "    </tr>\n",
       "  </tbody>\n",
       "</table>\n",
       "</div>"
      ],
      "text/plain": [
       "                      file_name  empty_frames  total_frames  empty_ratio\n",
       "0      00_01_52_to_00_01_58.txt            53           175     0.302857\n",
       "1  00_02_45_to_00_03_10_cut.txt             1           400     0.002500\n",
       "2      00_06_10_to_00_06_27.txt           272           499     0.545090\n",
       "3      00_09_30_to_00_10_09.txt            80          1165     0.068670\n",
       "4      00_10_09_to_00_10_40.txt            31           925     0.033514"
      ]
     },
     "execution_count": 3,
     "metadata": {},
     "output_type": "execute_result"
    }
   ],
   "source": [
    "# Display the overview dataframe\n",
    "overview_df.head()"
   ]
  },
  {
   "cell_type": "code",
   "execution_count": 4,
   "id": "5dc920f1",
   "metadata": {},
   "outputs": [
    {
     "data": {
      "application/vnd.microsoft.datawrangler.viewer.v0+json": {
       "columns": [
        {
         "name": "index",
         "rawType": "object",
         "type": "string"
        },
        {
         "name": "empty_frames",
         "rawType": "float64",
         "type": "float"
        },
        {
         "name": "total_frames",
         "rawType": "float64",
         "type": "float"
        },
        {
         "name": "empty_ratio",
         "rawType": "float64",
         "type": "float"
        }
       ],
       "ref": "f96e980a-7303-4eb9-9e8d-e9d0b60b2771",
       "rows": [
        [
         "count",
         "77.0",
         "77.0",
         "77.0"
        ],
        [
         "mean",
         "118.0",
         "1382.922077922078",
         "0.08601181384048182"
        ],
        [
         "std",
         "203.84578794558865",
         "1062.0661438197983",
         "0.12298492868618617"
        ],
        [
         "min",
         "0.0",
         "175.0",
         "0.0"
        ],
        [
         "25%",
         "3.0",
         "526.0",
         "0.0035063113604488"
        ],
        [
         "50%",
         "40.0",
         "925.0",
         "0.0466982852973367"
        ],
        [
         "75%",
         "132.0",
         "1576.0",
         "0.1014975041597337"
        ],
        [
         "max",
         "1103.0",
         "4612.0",
         "0.7353333333333333"
        ]
       ],
       "shape": {
        "columns": 3,
        "rows": 8
       }
      },
      "text/html": [
       "<div>\n",
       "<style scoped>\n",
       "    .dataframe tbody tr th:only-of-type {\n",
       "        vertical-align: middle;\n",
       "    }\n",
       "\n",
       "    .dataframe tbody tr th {\n",
       "        vertical-align: top;\n",
       "    }\n",
       "\n",
       "    .dataframe thead th {\n",
       "        text-align: right;\n",
       "    }\n",
       "</style>\n",
       "<table border=\"1\" class=\"dataframe\">\n",
       "  <thead>\n",
       "    <tr style=\"text-align: right;\">\n",
       "      <th></th>\n",
       "      <th>empty_frames</th>\n",
       "      <th>total_frames</th>\n",
       "      <th>empty_ratio</th>\n",
       "    </tr>\n",
       "  </thead>\n",
       "  <tbody>\n",
       "    <tr>\n",
       "      <th>count</th>\n",
       "      <td>77.000000</td>\n",
       "      <td>77.000000</td>\n",
       "      <td>77.000000</td>\n",
       "    </tr>\n",
       "    <tr>\n",
       "      <th>mean</th>\n",
       "      <td>118.000000</td>\n",
       "      <td>1382.922078</td>\n",
       "      <td>0.086012</td>\n",
       "    </tr>\n",
       "    <tr>\n",
       "      <th>std</th>\n",
       "      <td>203.845788</td>\n",
       "      <td>1062.066144</td>\n",
       "      <td>0.122985</td>\n",
       "    </tr>\n",
       "    <tr>\n",
       "      <th>min</th>\n",
       "      <td>0.000000</td>\n",
       "      <td>175.000000</td>\n",
       "      <td>0.000000</td>\n",
       "    </tr>\n",
       "    <tr>\n",
       "      <th>25%</th>\n",
       "      <td>3.000000</td>\n",
       "      <td>526.000000</td>\n",
       "      <td>0.003506</td>\n",
       "    </tr>\n",
       "    <tr>\n",
       "      <th>50%</th>\n",
       "      <td>40.000000</td>\n",
       "      <td>925.000000</td>\n",
       "      <td>0.046698</td>\n",
       "    </tr>\n",
       "    <tr>\n",
       "      <th>75%</th>\n",
       "      <td>132.000000</td>\n",
       "      <td>1576.000000</td>\n",
       "      <td>0.101498</td>\n",
       "    </tr>\n",
       "    <tr>\n",
       "      <th>max</th>\n",
       "      <td>1103.000000</td>\n",
       "      <td>4612.000000</td>\n",
       "      <td>0.735333</td>\n",
       "    </tr>\n",
       "  </tbody>\n",
       "</table>\n",
       "</div>"
      ],
      "text/plain": [
       "       empty_frames  total_frames  empty_ratio\n",
       "count     77.000000     77.000000    77.000000\n",
       "mean     118.000000   1382.922078     0.086012\n",
       "std      203.845788   1062.066144     0.122985\n",
       "min        0.000000    175.000000     0.000000\n",
       "25%        3.000000    526.000000     0.003506\n",
       "50%       40.000000    925.000000     0.046698\n",
       "75%      132.000000   1576.000000     0.101498\n",
       "max     1103.000000   4612.000000     0.735333"
      ]
     },
     "execution_count": 4,
     "metadata": {},
     "output_type": "execute_result"
    }
   ],
   "source": [
    "# Describe the overview dataframe\n",
    "overview_df.describe()"
   ]
  },
  {
   "cell_type": "code",
   "execution_count": 5,
   "id": "c5663ed6",
   "metadata": {},
   "outputs": [
    {
     "name": "stdout",
     "output_type": "stream",
     "text": [
      "Total number of frames: 106485\n",
      "Total number of empty frames: 9086\n"
     ]
    }
   ],
   "source": [
    "print(f\"Total number of frames: {overview_df['total_frames'].sum()}\")\n",
    "print(f\"Total number of empty frames: {overview_df['empty_frames'].sum()}\")"
   ]
  },
  {
   "cell_type": "markdown",
   "id": "08c28172",
   "metadata": {},
   "source": [
    "From the description statistics we can see that we have a total of 106,485 images, so for a test dataset of 10% we would ideally have around 10,648 images. These images must come from the same videos so there is no data leakage between the training and testing sets.\n",
    "\n",
    "We can also see that there is an average of about 8% empty frames (frames with no annotated objects) which would be useful to match for the testing set, but having a higher percentage in the test set may be acceptable to have a better measure of false-positive results from the final test. However, having some sparsely populated images is helpful to have in the training set as well."
   ]
  },
  {
   "cell_type": "code",
   "execution_count": 3,
   "id": "7eed1496",
   "metadata": {},
   "outputs": [],
   "source": [
    "# Check the extracted images to see if any are blank (all black)\n",
    "\n",
    "black_images = []\n",
    "\n",
    "image_list = utils.image_data.get_image_files(os.path.join(utils.INTERIM_DATA_DIR, 'drone_vs_bird_data'))\n",
    "\n",
    "# Check each image to see if it is black\n",
    "for image in image_list:\n",
    "    if utils.image_data.is_blank_image(image):\n",
    "        black_images.append(image)"
   ]
  },
  {
   "cell_type": "code",
   "execution_count": 4,
   "id": "dc2e0ae0",
   "metadata": {},
   "outputs": [],
   "source": [
    "# Create a dataframe from the list of black images\n",
    "black_images_df = pd.DataFrame(black_images, columns=['file_name'])\n",
    "\n",
    "# Save the dataframe to the metadata folder\n",
    "black_images_df.to_csv(os.path.join(utils.METADATA_DIR, 'dvb_black_images.csv'), index=False)"
   ]
  },
  {
   "cell_type": "code",
   "execution_count": 2,
   "id": "61d0b11f",
   "metadata": {},
   "outputs": [],
   "source": [
    "# Re-read the dataframe from the csv file\n",
    "black_images_df = pd.read_csv(os.path.join(utils.METADATA_DIR, 'dvb_black_images.csv'))"
   ]
  },
  {
   "cell_type": "code",
   "execution_count": 3,
   "id": "4458883e",
   "metadata": {},
   "outputs": [
    {
     "data": {
      "application/vnd.microsoft.datawrangler.viewer.v0+json": {
       "columns": [
        {
         "name": "index",
         "rawType": "int64",
         "type": "integer"
        },
        {
         "name": "file_name",
         "rawType": "object",
         "type": "string"
        }
       ],
       "ref": "aefee281-d0ea-4230-bc59-1437d6972bdb",
       "rows": [
        [
         "0",
         "data\\interim\\drone_vs_bird_data\\distant_parrot_2_frame_0840.png"
        ],
        [
         "1",
         "data\\interim\\drone_vs_bird_data\\distant_parrot_with_birds_frame_0840.png"
        ],
        [
         "2",
         "data\\interim\\drone_vs_bird_data\\dji_mavick_hillside_off_focus_frame_0000.png"
        ],
        [
         "3",
         "data\\interim\\drone_vs_bird_data\\dji_mavick_mountain_frame_0000.png"
        ],
        [
         "4",
         "data\\interim\\drone_vs_bird_data\\dji_phantom_4_hillside_cross_frame_0000.png"
        ],
        [
         "5",
         "data\\interim\\drone_vs_bird_data\\dji_phantom_4_long_takeoff_frame_0000.png"
        ],
        [
         "6",
         "data\\interim\\drone_vs_bird_data\\dji_phantom_4_mountain_hover_frame_0000.png"
        ],
        [
         "7",
         "data\\interim\\drone_vs_bird_data\\dji_phantom_mountain_cross_frame_0000.png"
        ],
        [
         "8",
         "data\\interim\\drone_vs_bird_data\\fixed_wing_over_hill_1_frame_0000.png"
        ],
        [
         "9",
         "data\\interim\\drone_vs_bird_data\\fixed_wing_over_hill_2_frame_0000.png"
        ],
        [
         "10",
         "data\\interim\\drone_vs_bird_data\\fixed_wing_over_hill_2_frame_0330.png"
        ],
        [
         "11",
         "data\\interim\\drone_vs_bird_data\\off_focus_parrot_birds_frame_0000.png"
        ],
        [
         "12",
         "data\\interim\\drone_vs_bird_data\\parot_disco_takeoff_frame_0000.png"
        ],
        [
         "13",
         "data\\interim\\drone_vs_bird_data\\parrot_clear_birds_frame_0840.png"
        ],
        [
         "14",
         "data\\interim\\drone_vs_bird_data\\parrot_clear_birds_med_range_frame_0840.png"
        ],
        [
         "15",
         "data\\interim\\drone_vs_bird_data\\parrot_disco_zoomin_zoomout_frame_0840.png"
        ],
        [
         "16",
         "data\\interim\\drone_vs_bird_data\\two_uavs_plus_airplane_frame_0000.png"
        ]
       ],
       "shape": {
        "columns": 1,
        "rows": 17
       }
      },
      "text/html": [
       "<div>\n",
       "<style scoped>\n",
       "    .dataframe tbody tr th:only-of-type {\n",
       "        vertical-align: middle;\n",
       "    }\n",
       "\n",
       "    .dataframe tbody tr th {\n",
       "        vertical-align: top;\n",
       "    }\n",
       "\n",
       "    .dataframe thead th {\n",
       "        text-align: right;\n",
       "    }\n",
       "</style>\n",
       "<table border=\"1\" class=\"dataframe\">\n",
       "  <thead>\n",
       "    <tr style=\"text-align: right;\">\n",
       "      <th></th>\n",
       "      <th>file_name</th>\n",
       "    </tr>\n",
       "  </thead>\n",
       "  <tbody>\n",
       "    <tr>\n",
       "      <th>0</th>\n",
       "      <td>data\\interim\\drone_vs_bird_data\\distant_parrot...</td>\n",
       "    </tr>\n",
       "    <tr>\n",
       "      <th>1</th>\n",
       "      <td>data\\interim\\drone_vs_bird_data\\distant_parrot...</td>\n",
       "    </tr>\n",
       "    <tr>\n",
       "      <th>2</th>\n",
       "      <td>data\\interim\\drone_vs_bird_data\\dji_mavick_hil...</td>\n",
       "    </tr>\n",
       "    <tr>\n",
       "      <th>3</th>\n",
       "      <td>data\\interim\\drone_vs_bird_data\\dji_mavick_mou...</td>\n",
       "    </tr>\n",
       "    <tr>\n",
       "      <th>4</th>\n",
       "      <td>data\\interim\\drone_vs_bird_data\\dji_phantom_4_...</td>\n",
       "    </tr>\n",
       "    <tr>\n",
       "      <th>5</th>\n",
       "      <td>data\\interim\\drone_vs_bird_data\\dji_phantom_4_...</td>\n",
       "    </tr>\n",
       "    <tr>\n",
       "      <th>6</th>\n",
       "      <td>data\\interim\\drone_vs_bird_data\\dji_phantom_4_...</td>\n",
       "    </tr>\n",
       "    <tr>\n",
       "      <th>7</th>\n",
       "      <td>data\\interim\\drone_vs_bird_data\\dji_phantom_mo...</td>\n",
       "    </tr>\n",
       "    <tr>\n",
       "      <th>8</th>\n",
       "      <td>data\\interim\\drone_vs_bird_data\\fixed_wing_ove...</td>\n",
       "    </tr>\n",
       "    <tr>\n",
       "      <th>9</th>\n",
       "      <td>data\\interim\\drone_vs_bird_data\\fixed_wing_ove...</td>\n",
       "    </tr>\n",
       "    <tr>\n",
       "      <th>10</th>\n",
       "      <td>data\\interim\\drone_vs_bird_data\\fixed_wing_ove...</td>\n",
       "    </tr>\n",
       "    <tr>\n",
       "      <th>11</th>\n",
       "      <td>data\\interim\\drone_vs_bird_data\\off_focus_parr...</td>\n",
       "    </tr>\n",
       "    <tr>\n",
       "      <th>12</th>\n",
       "      <td>data\\interim\\drone_vs_bird_data\\parot_disco_ta...</td>\n",
       "    </tr>\n",
       "    <tr>\n",
       "      <th>13</th>\n",
       "      <td>data\\interim\\drone_vs_bird_data\\parrot_clear_b...</td>\n",
       "    </tr>\n",
       "    <tr>\n",
       "      <th>14</th>\n",
       "      <td>data\\interim\\drone_vs_bird_data\\parrot_clear_b...</td>\n",
       "    </tr>\n",
       "    <tr>\n",
       "      <th>15</th>\n",
       "      <td>data\\interim\\drone_vs_bird_data\\parrot_disco_z...</td>\n",
       "    </tr>\n",
       "    <tr>\n",
       "      <th>16</th>\n",
       "      <td>data\\interim\\drone_vs_bird_data\\two_uavs_plus_...</td>\n",
       "    </tr>\n",
       "  </tbody>\n",
       "</table>\n",
       "</div>"
      ],
      "text/plain": [
       "                                            file_name\n",
       "0   data\\interim\\drone_vs_bird_data\\distant_parrot...\n",
       "1   data\\interim\\drone_vs_bird_data\\distant_parrot...\n",
       "2   data\\interim\\drone_vs_bird_data\\dji_mavick_hil...\n",
       "3   data\\interim\\drone_vs_bird_data\\dji_mavick_mou...\n",
       "4   data\\interim\\drone_vs_bird_data\\dji_phantom_4_...\n",
       "5   data\\interim\\drone_vs_bird_data\\dji_phantom_4_...\n",
       "6   data\\interim\\drone_vs_bird_data\\dji_phantom_4_...\n",
       "7   data\\interim\\drone_vs_bird_data\\dji_phantom_mo...\n",
       "8   data\\interim\\drone_vs_bird_data\\fixed_wing_ove...\n",
       "9   data\\interim\\drone_vs_bird_data\\fixed_wing_ove...\n",
       "10  data\\interim\\drone_vs_bird_data\\fixed_wing_ove...\n",
       "11  data\\interim\\drone_vs_bird_data\\off_focus_parr...\n",
       "12  data\\interim\\drone_vs_bird_data\\parot_disco_ta...\n",
       "13  data\\interim\\drone_vs_bird_data\\parrot_clear_b...\n",
       "14  data\\interim\\drone_vs_bird_data\\parrot_clear_b...\n",
       "15  data\\interim\\drone_vs_bird_data\\parrot_disco_z...\n",
       "16  data\\interim\\drone_vs_bird_data\\two_uavs_plus_..."
      ]
     },
     "execution_count": 3,
     "metadata": {},
     "output_type": "execute_result"
    }
   ],
   "source": [
    "# Print the full list of black images\n",
    "black_images_df"
   ]
  },
  {
   "cell_type": "markdown",
   "id": "bcc5ef8f",
   "metadata": {},
   "source": [
    "These completely blank images won't provide any specific benefit to the model, so they should be excluded."
   ]
  },
  {
   "cell_type": "code",
   "execution_count": null,
   "id": "c748190f",
   "metadata": {},
   "outputs": [],
   "source": []
  },
  {
   "cell_type": "markdown",
   "id": "68db7100",
   "metadata": {},
   "source": [
    "## 2. Video Investigation"
   ]
  },
  {
   "cell_type": "markdown",
   "id": "4c956f79",
   "metadata": {},
   "source": []
  },
  {
   "cell_type": "code",
   "execution_count": 4,
   "id": "daf79e42",
   "metadata": {},
   "outputs": [],
   "source": [
    "test_files = [\n",
    "    '2019_09_02_GOPR5871_1058_solo',\n",
    "    'dji_matrice_210_off_focus',\n",
    "    'dji_mavick_hillside_off_focus',\n",
    "    'GOPR5843_002',\n",
    "    'GOPR5843_005',\n",
    "    'GOPR5847_003',\n",
    "    'GOPR5847_004',\n",
    "    'gopro_000',\n",
    "    'gopro_001',\n",
    "    'gopro_002',\n",
    "    'gopro_003',\n",
    "    'off_focus_parrot_birds',\n",
    "    'two_uavs_plus_airplane'\n",
    "]"
   ]
  },
  {
   "cell_type": "code",
   "execution_count": null,
   "id": "a2a57b93",
   "metadata": {},
   "outputs": [],
   "source": []
  },
  {
   "cell_type": "markdown",
   "id": "fa93bdaa",
   "metadata": {},
   "source": [
    "## 3. Saving Resulting Data"
   ]
  },
  {
   "cell_type": "markdown",
   "id": "5d3a3e1f",
   "metadata": {},
   "source": []
  },
  {
   "cell_type": "code",
   "execution_count": 5,
   "id": "9441709d",
   "metadata": {},
   "outputs": [
    {
     "name": "stdout",
     "output_type": "stream",
     "text": [
      "Total number of images: 106460\n"
     ]
    }
   ],
   "source": [
    "# Collect a list of all image files\n",
    "\n",
    "image_list = utils.image_data.get_image_files(os.path.join(utils.INTERIM_DATA_DIR, 'drone_vs_bird_data'))\n",
    "\n",
    "length_initial = len(image_list)\n",
    "\n",
    "print(f\"Total number of images: {length_initial}\")"
   ]
  },
  {
   "cell_type": "code",
   "execution_count": 6,
   "id": "d65a9c58",
   "metadata": {},
   "outputs": [
    {
     "name": "stdout",
     "output_type": "stream",
     "text": [
      "Total number of images after removing blank images: 106443\n",
      "Total removed: 17\n",
      "Total identified blank images: 17\n"
     ]
    }
   ],
   "source": [
    "# Remove all blank images this should be 17 less than the previous total\n",
    "\n",
    "image_list = [img for img in image_list if img not in black_images_df['file_name'].values]\n",
    "\n",
    "length_remove_blanks = len(image_list)\n",
    "\n",
    "print(f\"Total number of images after removing blank images: {length_remove_blanks}\")\n",
    "print(f\"Total removed: {length_initial - length_remove_blanks}\")\n",
    "print(f\"Total identified blank images: {len(black_images_df)}\")"
   ]
  },
  {
   "cell_type": "code",
   "execution_count": 7,
   "id": "738dfcc8",
   "metadata": {},
   "outputs": [],
   "source": [
    "# If the image contains the test file name move it from the list to a new list\n",
    "test_images = [img for img in image_list if utils.files.file_contains_name(img, test_files)]\n",
    "training_images = [img for img in image_list if img not in test_images]"
   ]
  },
  {
   "cell_type": "code",
   "execution_count": 8,
   "id": "334ccead",
   "metadata": {},
   "outputs": [
    {
     "name": "stdout",
     "output_type": "stream",
     "text": [
      "Total number of test images: 10725\n",
      "Total number of training images: 95718\n"
     ]
    }
   ],
   "source": [
    "# Check list sizes\n",
    "\n",
    "print(f\"Total number of test images: {len(test_images)}\")\n",
    "print(f\"Total number of training images: {len(training_images)}\")"
   ]
  },
  {
   "cell_type": "code",
   "execution_count": 10,
   "id": "ecebfcdf",
   "metadata": {},
   "outputs": [],
   "source": [
    "# Duplicate the lists for the annotation files\n",
    "\n",
    "test_annotations = test_images.copy()\n",
    "training_annotations = training_images.copy()\n",
    "\n",
    "# Change file extensions for each line to .txt\n",
    "test_annotations = [os.path.splitext(ann)[0] + '.txt' for ann in test_annotations]\n",
    "training_annotations = [os.path.splitext(ann)[0] + '.txt' for ann in training_annotations]"
   ]
  },
  {
   "cell_type": "code",
   "execution_count": 11,
   "id": "22c36782",
   "metadata": {},
   "outputs": [
    {
     "name": "stdout",
     "output_type": "stream",
     "text": [
      "Test image: data\\interim\\drone_vs_bird_data\\dji_matrice_210_off_focus_frame_0232.png\n",
      "Test annotation: data\\interim\\drone_vs_bird_data\\dji_matrice_210_off_focus_frame_0232.txt\n",
      "Training image: data\\interim\\drone_vs_bird_data\\parrot_disco_distant_cross_frame_1991.png\n",
      "Training annotation: data\\interim\\drone_vs_bird_data\\parrot_disco_distant_cross_frame_1991.txt\n"
     ]
    }
   ],
   "source": [
    "# Set random seed for reproducibility\n",
    "rng = np.random.default_rng(42)\n",
    "\n",
    "# Get a random number in the range of the test set\n",
    "random_test_index = rng.integers(0, len(test_images))\n",
    "\n",
    "# Get a random number in the range of the training set\n",
    "random_training_index = rng.integers(0, len(training_images))\n",
    "\n",
    "# Ensure that the test index gives matching image and annotations\n",
    "print(f\"Test image: {test_images[random_test_index]}\")\n",
    "print(f\"Test annotation: {test_annotations[random_test_index]}\")\n",
    "\n",
    "# Ensure that the training index gives matching image and annotations\n",
    "print(f\"Training image: {training_images[random_training_index]}\")\n",
    "print(f\"Training annotation: {training_annotations[random_training_index]}\")\n"
   ]
  },
  {
   "cell_type": "code",
   "execution_count": 13,
   "id": "b4a1c49e",
   "metadata": {},
   "outputs": [],
   "source": [
    "# Test folder\n",
    "testing_folder = os.path.join(utils.PROCESSED_DATA_DIR, \"test\")\n",
    "\n",
    "# Copy the test annotations and images to the testing folder\n",
    "for img, ann in zip(test_images, test_annotations):\n",
    "    shutil.copy(img, os.path.join(testing_folder, os.path.basename(img)))\n",
    "    shutil.copy(ann, os.path.join(testing_folder, os.path.basename(ann)))\n"
   ]
  },
  {
   "cell_type": "code",
   "execution_count": 14,
   "id": "622526aa",
   "metadata": {},
   "outputs": [],
   "source": [
    "# Training folder\n",
    "training_folder = os.path.join(utils.PROCESSED_DATA_DIR, \"train\")\n",
    "\n",
    "# Copy the training annotations and images to the training folder\n",
    "for img, ann in zip(training_images, training_annotations):\n",
    "    shutil.copy(img, os.path.join(training_folder, os.path.basename(img)))\n",
    "    shutil.copy(ann, os.path.join(training_folder, os.path.basename(ann)))\n"
   ]
  }
 ],
 "metadata": {
  "kernelspec": {
   "display_name": "sydrone",
   "language": "python",
   "name": "python3"
  },
  "language_info": {
   "codemirror_mode": {
    "name": "ipython",
    "version": 3
   },
   "file_extension": ".py",
   "mimetype": "text/x-python",
   "name": "python",
   "nbconvert_exporter": "python",
   "pygments_lexer": "ipython3",
   "version": "3.13.5"
  }
 },
 "nbformat": 4,
 "nbformat_minor": 5
}
