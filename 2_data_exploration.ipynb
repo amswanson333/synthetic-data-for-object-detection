{
 "cells": [
  {
   "cell_type": "markdown",
   "id": "aaf19abe",
   "metadata": {},
   "source": [
    "# 🔎 Data Exploration"
   ]
  },
  {
   "cell_type": "markdown",
   "id": "4a99b7c4",
   "metadata": {},
   "source": [
    "To have a good understanding of the underlying dataset, and set up for train/validation/test splits some data exploration is necessary."
   ]
  },
  {
   "cell_type": "code",
   "execution_count": 1,
   "id": "19e44760",
   "metadata": {},
   "outputs": [],
   "source": [
    "import os\n",
    "import pandas as pd\n",
    "import numpy as np\n",
    "import shutil\n",
    "\n",
    "from src import utils"
   ]
  },
  {
   "cell_type": "markdown",
   "id": "cb948037",
   "metadata": {},
   "source": [
    "## 1. Data Overview"
   ]
  },
  {
   "cell_type": "markdown",
   "id": "595fa005",
   "metadata": {},
   "source": []
  },
  {
   "cell_type": "code",
   "execution_count": 2,
   "id": "3b09e148",
   "metadata": {},
   "outputs": [],
   "source": [
    "# Get an overview of the videos from the original annotation files\n",
    "\n",
    "file_names, empty_frames, frames = utils.label_data.frame_overview(os.path.join(utils.RAW_DATA_DIR, 'drone_vs_bird_competition'))\n",
    "\n",
    "empty_frames = np.array(empty_frames)\n",
    "frames = np.array(frames)\n",
    "empty_ratio = np.divide(empty_frames, frames)\n",
    "\n",
    "# Combine the data into a DataFrame\n",
    "overview_df = pd.DataFrame({\n",
    "    'file_name': file_names,\n",
    "    'empty_frames': empty_frames,\n",
    "    'total_frames': frames,\n",
    "    'empty_ratio': empty_ratio\n",
    "})\n",
    "\n",
    "# Save the dataframe to the metadata folder\n",
    "overview_df.to_csv(os.path.join(utils.METADATA_DIR, 'dvb_video_overview.csv'), index=False)"
   ]
  },
  {
   "cell_type": "code",
   "execution_count": 2,
   "id": "e19d4fc2",
   "metadata": {},
   "outputs": [],
   "source": [
    "# Re-read the csv to a dataframe (so the previous step can be skipped in the future)\n",
    "overview_df = pd.read_csv(os.path.join(utils.METADATA_DIR, 'dvb_video_overview.csv'))"
   ]
  },
  {
   "cell_type": "code",
   "execution_count": 3,
   "id": "0a9bf85c",
   "metadata": {},
   "outputs": [
    {
     "data": {
      "application/vnd.microsoft.datawrangler.viewer.v0+json": {
       "columns": [
        {
         "name": "index",
         "rawType": "int64",
         "type": "integer"
        },
        {
         "name": "file_name",
         "rawType": "object",
         "type": "string"
        },
        {
         "name": "empty_frames",
         "rawType": "int64",
         "type": "integer"
        },
        {
         "name": "total_frames",
         "rawType": "int64",
         "type": "integer"
        },
        {
         "name": "empty_ratio",
         "rawType": "float64",
         "type": "float"
        }
       ],
       "ref": "de73668a-d92c-44ad-a45c-41e61b297f28",
       "rows": [
        [
         "0",
         "00_01_52_to_00_01_58.txt",
         "53",
         "175",
         "0.3028571428571429"
        ],
        [
         "1",
         "00_02_45_to_00_03_10_cut.txt",
         "1",
         "400",
         "0.0025"
        ],
        [
         "2",
         "00_06_10_to_00_06_27.txt",
         "272",
         "499",
         "0.5450901803607214"
        ],
        [
         "3",
         "00_09_30_to_00_10_09.txt",
         "80",
         "1165",
         "0.0686695278969957"
        ],
        [
         "4",
         "00_10_09_to_00_10_40.txt",
         "31",
         "925",
         "0.0335135135135135"
        ]
       ],
       "shape": {
        "columns": 4,
        "rows": 5
       }
      },
      "text/html": [
       "<div>\n",
       "<style scoped>\n",
       "    .dataframe tbody tr th:only-of-type {\n",
       "        vertical-align: middle;\n",
       "    }\n",
       "\n",
       "    .dataframe tbody tr th {\n",
       "        vertical-align: top;\n",
       "    }\n",
       "\n",
       "    .dataframe thead th {\n",
       "        text-align: right;\n",
       "    }\n",
       "</style>\n",
       "<table border=\"1\" class=\"dataframe\">\n",
       "  <thead>\n",
       "    <tr style=\"text-align: right;\">\n",
       "      <th></th>\n",
       "      <th>file_name</th>\n",
       "      <th>empty_frames</th>\n",
       "      <th>total_frames</th>\n",
       "      <th>empty_ratio</th>\n",
       "    </tr>\n",
       "  </thead>\n",
       "  <tbody>\n",
       "    <tr>\n",
       "      <th>0</th>\n",
       "      <td>00_01_52_to_00_01_58.txt</td>\n",
       "      <td>53</td>\n",
       "      <td>175</td>\n",
       "      <td>0.302857</td>\n",
       "    </tr>\n",
       "    <tr>\n",
       "      <th>1</th>\n",
       "      <td>00_02_45_to_00_03_10_cut.txt</td>\n",
       "      <td>1</td>\n",
       "      <td>400</td>\n",
       "      <td>0.002500</td>\n",
       "    </tr>\n",
       "    <tr>\n",
       "      <th>2</th>\n",
       "      <td>00_06_10_to_00_06_27.txt</td>\n",
       "      <td>272</td>\n",
       "      <td>499</td>\n",
       "      <td>0.545090</td>\n",
       "    </tr>\n",
       "    <tr>\n",
       "      <th>3</th>\n",
       "      <td>00_09_30_to_00_10_09.txt</td>\n",
       "      <td>80</td>\n",
       "      <td>1165</td>\n",
       "      <td>0.068670</td>\n",
       "    </tr>\n",
       "    <tr>\n",
       "      <th>4</th>\n",
       "      <td>00_10_09_to_00_10_40.txt</td>\n",
       "      <td>31</td>\n",
       "      <td>925</td>\n",
       "      <td>0.033514</td>\n",
       "    </tr>\n",
       "  </tbody>\n",
       "</table>\n",
       "</div>"
      ],
      "text/plain": [
       "                      file_name  empty_frames  total_frames  empty_ratio\n",
       "0      00_01_52_to_00_01_58.txt            53           175     0.302857\n",
       "1  00_02_45_to_00_03_10_cut.txt             1           400     0.002500\n",
       "2      00_06_10_to_00_06_27.txt           272           499     0.545090\n",
       "3      00_09_30_to_00_10_09.txt            80          1165     0.068670\n",
       "4      00_10_09_to_00_10_40.txt            31           925     0.033514"
      ]
     },
     "execution_count": 3,
     "metadata": {},
     "output_type": "execute_result"
    }
   ],
   "source": [
    "# Display the overview dataframe\n",
    "overview_df.head()"
   ]
  },
  {
   "cell_type": "code",
   "execution_count": 4,
   "id": "5dc920f1",
   "metadata": {},
   "outputs": [
    {
     "data": {
      "application/vnd.microsoft.datawrangler.viewer.v0+json": {
       "columns": [
        {
         "name": "index",
         "rawType": "object",
         "type": "string"
        },
        {
         "name": "empty_frames",
         "rawType": "float64",
         "type": "float"
        },
        {
         "name": "total_frames",
         "rawType": "float64",
         "type": "float"
        },
        {
         "name": "empty_ratio",
         "rawType": "float64",
         "type": "float"
        }
       ],
       "ref": "e2be1631-5a09-4ef7-84de-8b1c94dee6bc",
       "rows": [
        [
         "count",
         "77.0",
         "77.0",
         "77.0"
        ],
        [
         "mean",
         "118.0",
         "1382.922077922078",
         "0.08601181384048182"
        ],
        [
         "std",
         "203.84578794558865",
         "1062.0661438197983",
         "0.12298492868618617"
        ],
        [
         "min",
         "0.0",
         "175.0",
         "0.0"
        ],
        [
         "25%",
         "3.0",
         "526.0",
         "0.0035063113604488"
        ],
        [
         "50%",
         "40.0",
         "925.0",
         "0.0466982852973367"
        ],
        [
         "75%",
         "132.0",
         "1576.0",
         "0.1014975041597337"
        ],
        [
         "max",
         "1103.0",
         "4612.0",
         "0.7353333333333333"
        ]
       ],
       "shape": {
        "columns": 3,
        "rows": 8
       }
      },
      "text/html": [
       "<div>\n",
       "<style scoped>\n",
       "    .dataframe tbody tr th:only-of-type {\n",
       "        vertical-align: middle;\n",
       "    }\n",
       "\n",
       "    .dataframe tbody tr th {\n",
       "        vertical-align: top;\n",
       "    }\n",
       "\n",
       "    .dataframe thead th {\n",
       "        text-align: right;\n",
       "    }\n",
       "</style>\n",
       "<table border=\"1\" class=\"dataframe\">\n",
       "  <thead>\n",
       "    <tr style=\"text-align: right;\">\n",
       "      <th></th>\n",
       "      <th>empty_frames</th>\n",
       "      <th>total_frames</th>\n",
       "      <th>empty_ratio</th>\n",
       "    </tr>\n",
       "  </thead>\n",
       "  <tbody>\n",
       "    <tr>\n",
       "      <th>count</th>\n",
       "      <td>77.000000</td>\n",
       "      <td>77.000000</td>\n",
       "      <td>77.000000</td>\n",
       "    </tr>\n",
       "    <tr>\n",
       "      <th>mean</th>\n",
       "      <td>118.000000</td>\n",
       "      <td>1382.922078</td>\n",
       "      <td>0.086012</td>\n",
       "    </tr>\n",
       "    <tr>\n",
       "      <th>std</th>\n",
       "      <td>203.845788</td>\n",
       "      <td>1062.066144</td>\n",
       "      <td>0.122985</td>\n",
       "    </tr>\n",
       "    <tr>\n",
       "      <th>min</th>\n",
       "      <td>0.000000</td>\n",
       "      <td>175.000000</td>\n",
       "      <td>0.000000</td>\n",
       "    </tr>\n",
       "    <tr>\n",
       "      <th>25%</th>\n",
       "      <td>3.000000</td>\n",
       "      <td>526.000000</td>\n",
       "      <td>0.003506</td>\n",
       "    </tr>\n",
       "    <tr>\n",
       "      <th>50%</th>\n",
       "      <td>40.000000</td>\n",
       "      <td>925.000000</td>\n",
       "      <td>0.046698</td>\n",
       "    </tr>\n",
       "    <tr>\n",
       "      <th>75%</th>\n",
       "      <td>132.000000</td>\n",
       "      <td>1576.000000</td>\n",
       "      <td>0.101498</td>\n",
       "    </tr>\n",
       "    <tr>\n",
       "      <th>max</th>\n",
       "      <td>1103.000000</td>\n",
       "      <td>4612.000000</td>\n",
       "      <td>0.735333</td>\n",
       "    </tr>\n",
       "  </tbody>\n",
       "</table>\n",
       "</div>"
      ],
      "text/plain": [
       "       empty_frames  total_frames  empty_ratio\n",
       "count     77.000000     77.000000    77.000000\n",
       "mean     118.000000   1382.922078     0.086012\n",
       "std      203.845788   1062.066144     0.122985\n",
       "min        0.000000    175.000000     0.000000\n",
       "25%        3.000000    526.000000     0.003506\n",
       "50%       40.000000    925.000000     0.046698\n",
       "75%      132.000000   1576.000000     0.101498\n",
       "max     1103.000000   4612.000000     0.735333"
      ]
     },
     "execution_count": 4,
     "metadata": {},
     "output_type": "execute_result"
    }
   ],
   "source": [
    "# Describe the overview dataframe\n",
    "overview_df.describe()"
   ]
  },
  {
   "cell_type": "code",
   "execution_count": 5,
   "id": "c5663ed6",
   "metadata": {},
   "outputs": [
    {
     "name": "stdout",
     "output_type": "stream",
     "text": [
      "Total number of frames: 106485\n",
      "Total number of empty frames: 9086\n"
     ]
    }
   ],
   "source": [
    "print(f\"Total number of frames: {overview_df['total_frames'].sum()}\")\n",
    "print(f\"Total number of empty frames: {overview_df['empty_frames'].sum()}\")"
   ]
  },
  {
   "cell_type": "markdown",
   "id": "08c28172",
   "metadata": {},
   "source": [
    "From the description statistics we can see that we have a total of 106,485 images, so for a test dataset of 10% we would ideally have around 10,648 images. These images must come from the same videos so there is no data leakage between the training and testing sets.\n",
    "\n",
    "We can also see that there is an average of about 8% empty frames (frames with no annotated objects) which would be useful to match for the testing set, but having a higher percentage in the test set may be acceptable to have a better measure of false-positive results from the final test. However, having some sparsely populated images is helpful to have in the training set as well."
   ]
  },
  {
   "cell_type": "code",
   "execution_count": null,
   "id": "7eed1496",
   "metadata": {},
   "outputs": [],
   "source": [
    "# Check the extracted images to see if any are blank (all black)\n",
    "\n",
    "black_images = []\n",
    "\n",
    "image_list = utils.files.get_image_files(os.path.join(utils.INTERIM_DATA_DIR, 'drone_vs_bird_data'))\n",
    "\n",
    "# Check each image to see if it is black\n",
    "for image in image_list:\n",
    "    if utils.image_data.is_blank_image(image):\n",
    "        black_images.append(image)"
   ]
  },
  {
   "cell_type": "code",
   "execution_count": 4,
   "id": "dc2e0ae0",
   "metadata": {},
   "outputs": [],
   "source": [
    "# Create a dataframe from the list of black images\n",
    "black_images_df = pd.DataFrame(black_images, columns=['file_name'])\n",
    "\n",
    "# Save the dataframe to the metadata folder\n",
    "black_images_df.to_csv(os.path.join(utils.METADATA_DIR, 'dvb_black_images.csv'), index=False)"
   ]
  },
  {
   "cell_type": "code",
   "execution_count": 4,
   "id": "61d0b11f",
   "metadata": {},
   "outputs": [],
   "source": [
    "# Re-read the dataframe from the csv file\n",
    "black_images_df = pd.read_csv(os.path.join(utils.METADATA_DIR, 'dvb_black_images.csv'))"
   ]
  },
  {
   "cell_type": "code",
   "execution_count": 5,
   "id": "4458883e",
   "metadata": {},
   "outputs": [
    {
     "data": {
      "application/vnd.microsoft.datawrangler.viewer.v0+json": {
       "columns": [
        {
         "name": "index",
         "rawType": "int64",
         "type": "integer"
        },
        {
         "name": "file_name",
         "rawType": "object",
         "type": "string"
        }
       ],
       "ref": "a95ae760-5e7a-48b2-9ad2-9b7ded4a7149",
       "rows": [
        [
         "0",
         "data\\interim\\drone_vs_bird_data\\distant_parrot_2_frame_0840.png"
        ],
        [
         "1",
         "data\\interim\\drone_vs_bird_data\\distant_parrot_with_birds_frame_0840.png"
        ],
        [
         "2",
         "data\\interim\\drone_vs_bird_data\\dji_mavick_hillside_off_focus_frame_0000.png"
        ],
        [
         "3",
         "data\\interim\\drone_vs_bird_data\\dji_mavick_mountain_frame_0000.png"
        ],
        [
         "4",
         "data\\interim\\drone_vs_bird_data\\dji_phantom_4_hillside_cross_frame_0000.png"
        ],
        [
         "5",
         "data\\interim\\drone_vs_bird_data\\dji_phantom_4_long_takeoff_frame_0000.png"
        ],
        [
         "6",
         "data\\interim\\drone_vs_bird_data\\dji_phantom_4_mountain_hover_frame_0000.png"
        ],
        [
         "7",
         "data\\interim\\drone_vs_bird_data\\dji_phantom_mountain_cross_frame_0000.png"
        ],
        [
         "8",
         "data\\interim\\drone_vs_bird_data\\fixed_wing_over_hill_1_frame_0000.png"
        ],
        [
         "9",
         "data\\interim\\drone_vs_bird_data\\fixed_wing_over_hill_2_frame_0000.png"
        ],
        [
         "10",
         "data\\interim\\drone_vs_bird_data\\fixed_wing_over_hill_2_frame_0330.png"
        ],
        [
         "11",
         "data\\interim\\drone_vs_bird_data\\off_focus_parrot_birds_frame_0000.png"
        ],
        [
         "12",
         "data\\interim\\drone_vs_bird_data\\parot_disco_takeoff_frame_0000.png"
        ],
        [
         "13",
         "data\\interim\\drone_vs_bird_data\\parrot_clear_birds_frame_0840.png"
        ],
        [
         "14",
         "data\\interim\\drone_vs_bird_data\\parrot_clear_birds_med_range_frame_0840.png"
        ],
        [
         "15",
         "data\\interim\\drone_vs_bird_data\\parrot_disco_zoomin_zoomout_frame_0840.png"
        ],
        [
         "16",
         "data\\interim\\drone_vs_bird_data\\two_uavs_plus_airplane_frame_0000.png"
        ]
       ],
       "shape": {
        "columns": 1,
        "rows": 17
       }
      },
      "text/html": [
       "<div>\n",
       "<style scoped>\n",
       "    .dataframe tbody tr th:only-of-type {\n",
       "        vertical-align: middle;\n",
       "    }\n",
       "\n",
       "    .dataframe tbody tr th {\n",
       "        vertical-align: top;\n",
       "    }\n",
       "\n",
       "    .dataframe thead th {\n",
       "        text-align: right;\n",
       "    }\n",
       "</style>\n",
       "<table border=\"1\" class=\"dataframe\">\n",
       "  <thead>\n",
       "    <tr style=\"text-align: right;\">\n",
       "      <th></th>\n",
       "      <th>file_name</th>\n",
       "    </tr>\n",
       "  </thead>\n",
       "  <tbody>\n",
       "    <tr>\n",
       "      <th>0</th>\n",
       "      <td>data\\interim\\drone_vs_bird_data\\distant_parrot...</td>\n",
       "    </tr>\n",
       "    <tr>\n",
       "      <th>1</th>\n",
       "      <td>data\\interim\\drone_vs_bird_data\\distant_parrot...</td>\n",
       "    </tr>\n",
       "    <tr>\n",
       "      <th>2</th>\n",
       "      <td>data\\interim\\drone_vs_bird_data\\dji_mavick_hil...</td>\n",
       "    </tr>\n",
       "    <tr>\n",
       "      <th>3</th>\n",
       "      <td>data\\interim\\drone_vs_bird_data\\dji_mavick_mou...</td>\n",
       "    </tr>\n",
       "    <tr>\n",
       "      <th>4</th>\n",
       "      <td>data\\interim\\drone_vs_bird_data\\dji_phantom_4_...</td>\n",
       "    </tr>\n",
       "    <tr>\n",
       "      <th>5</th>\n",
       "      <td>data\\interim\\drone_vs_bird_data\\dji_phantom_4_...</td>\n",
       "    </tr>\n",
       "    <tr>\n",
       "      <th>6</th>\n",
       "      <td>data\\interim\\drone_vs_bird_data\\dji_phantom_4_...</td>\n",
       "    </tr>\n",
       "    <tr>\n",
       "      <th>7</th>\n",
       "      <td>data\\interim\\drone_vs_bird_data\\dji_phantom_mo...</td>\n",
       "    </tr>\n",
       "    <tr>\n",
       "      <th>8</th>\n",
       "      <td>data\\interim\\drone_vs_bird_data\\fixed_wing_ove...</td>\n",
       "    </tr>\n",
       "    <tr>\n",
       "      <th>9</th>\n",
       "      <td>data\\interim\\drone_vs_bird_data\\fixed_wing_ove...</td>\n",
       "    </tr>\n",
       "    <tr>\n",
       "      <th>10</th>\n",
       "      <td>data\\interim\\drone_vs_bird_data\\fixed_wing_ove...</td>\n",
       "    </tr>\n",
       "    <tr>\n",
       "      <th>11</th>\n",
       "      <td>data\\interim\\drone_vs_bird_data\\off_focus_parr...</td>\n",
       "    </tr>\n",
       "    <tr>\n",
       "      <th>12</th>\n",
       "      <td>data\\interim\\drone_vs_bird_data\\parot_disco_ta...</td>\n",
       "    </tr>\n",
       "    <tr>\n",
       "      <th>13</th>\n",
       "      <td>data\\interim\\drone_vs_bird_data\\parrot_clear_b...</td>\n",
       "    </tr>\n",
       "    <tr>\n",
       "      <th>14</th>\n",
       "      <td>data\\interim\\drone_vs_bird_data\\parrot_clear_b...</td>\n",
       "    </tr>\n",
       "    <tr>\n",
       "      <th>15</th>\n",
       "      <td>data\\interim\\drone_vs_bird_data\\parrot_disco_z...</td>\n",
       "    </tr>\n",
       "    <tr>\n",
       "      <th>16</th>\n",
       "      <td>data\\interim\\drone_vs_bird_data\\two_uavs_plus_...</td>\n",
       "    </tr>\n",
       "  </tbody>\n",
       "</table>\n",
       "</div>"
      ],
      "text/plain": [
       "                                            file_name\n",
       "0   data\\interim\\drone_vs_bird_data\\distant_parrot...\n",
       "1   data\\interim\\drone_vs_bird_data\\distant_parrot...\n",
       "2   data\\interim\\drone_vs_bird_data\\dji_mavick_hil...\n",
       "3   data\\interim\\drone_vs_bird_data\\dji_mavick_mou...\n",
       "4   data\\interim\\drone_vs_bird_data\\dji_phantom_4_...\n",
       "5   data\\interim\\drone_vs_bird_data\\dji_phantom_4_...\n",
       "6   data\\interim\\drone_vs_bird_data\\dji_phantom_4_...\n",
       "7   data\\interim\\drone_vs_bird_data\\dji_phantom_mo...\n",
       "8   data\\interim\\drone_vs_bird_data\\fixed_wing_ove...\n",
       "9   data\\interim\\drone_vs_bird_data\\fixed_wing_ove...\n",
       "10  data\\interim\\drone_vs_bird_data\\fixed_wing_ove...\n",
       "11  data\\interim\\drone_vs_bird_data\\off_focus_parr...\n",
       "12  data\\interim\\drone_vs_bird_data\\parot_disco_ta...\n",
       "13  data\\interim\\drone_vs_bird_data\\parrot_clear_b...\n",
       "14  data\\interim\\drone_vs_bird_data\\parrot_clear_b...\n",
       "15  data\\interim\\drone_vs_bird_data\\parrot_disco_z...\n",
       "16  data\\interim\\drone_vs_bird_data\\two_uavs_plus_..."
      ]
     },
     "execution_count": 5,
     "metadata": {},
     "output_type": "execute_result"
    }
   ],
   "source": [
    "# Print the full list of black images\n",
    "black_images_df"
   ]
  },
  {
   "cell_type": "markdown",
   "id": "bcc5ef8f",
   "metadata": {},
   "source": [
    "These completely blank images won't provide any specific benefit to the model, so they should be excluded."
   ]
  },
  {
   "cell_type": "code",
   "execution_count": 2,
   "id": "c748190f",
   "metadata": {},
   "outputs": [],
   "source": [
    "# Collect a list of the video files\n",
    "video_files = utils.files.get_video_files(os.path.join(utils.RAW_DATA_DIR, 'drone_vs_bird_competition'))"
   ]
  },
  {
   "cell_type": "code",
   "execution_count": 3,
   "id": "c1810c6b",
   "metadata": {},
   "outputs": [],
   "source": [
    "# Get the video resolutions for each video\n",
    "vid_widths = []\n",
    "vid_heights = []\n",
    "for video_file in video_files:\n",
    "    width, height = utils.video_data.get_resolution(video_file, os.path.join(utils.RAW_DATA_DIR, 'drone_vs_bird_competition'))\n",
    "    vid_widths.append(width)\n",
    "    vid_heights.append(height)"
   ]
  },
  {
   "cell_type": "code",
   "execution_count": 4,
   "id": "d248ea04",
   "metadata": {},
   "outputs": [],
   "source": [
    "# Get the video durations for each video\n",
    "vid_durations = []\n",
    "for video_file in video_files:\n",
    "    duration = utils.video_data.get_duration(video_file, os.path.join(utils.RAW_DATA_DIR, 'drone_vs_bird_competition'))\n",
    "    vid_durations.append(duration)"
   ]
  },
  {
   "cell_type": "code",
   "execution_count": 8,
   "id": "945829f3",
   "metadata": {},
   "outputs": [],
   "source": [
    "# Save metadata\n",
    "video_info = {\n",
    "    \"file\": video_files,\n",
    "    \"width\": vid_widths,\n",
    "    \"height\": vid_heights,\n",
    "    \"duration\": vid_durations\n",
    "}\n",
    "\n",
    "video_info_df = pd.DataFrame(video_info)\n",
    "video_info_df.to_csv(os.path.join(utils.METADATA_DIR, 'video_info.csv'), index=False)"
   ]
  },
  {
   "cell_type": "code",
   "execution_count": 9,
   "id": "7e6d7e6a",
   "metadata": {},
   "outputs": [],
   "source": [
    "# Re-read the dataframe from the csv\n",
    "video_info_df = pd.read_csv(os.path.join(utils.METADATA_DIR, 'video_info.csv'))"
   ]
  },
  {
   "cell_type": "code",
   "execution_count": 10,
   "id": "fe4fe85a",
   "metadata": {},
   "outputs": [
    {
     "data": {
      "application/vnd.microsoft.datawrangler.viewer.v0+json": {
       "columns": [
        {
         "name": "index",
         "rawType": "int64",
         "type": "integer"
        },
        {
         "name": "file",
         "rawType": "object",
         "type": "string"
        },
        {
         "name": "width",
         "rawType": "int64",
         "type": "integer"
        },
        {
         "name": "height",
         "rawType": "int64",
         "type": "integer"
        },
        {
         "name": "duration",
         "rawType": "int64",
         "type": "integer"
        }
       ],
       "ref": "a407cfd3-60c2-4a3c-a39c-fda26e073f19",
       "rows": [
        [
         "0",
         "00_01_52_to_00_01_58.mp4",
         "1920",
         "1080",
         "5"
        ],
        [
         "1",
         "00_02_45_to_00_03_10_cut.mpg",
         "1920",
         "1080",
         "7"
        ],
        [
         "2",
         "00_06_10_to_00_06_27.mp4",
         "1920",
         "1080",
         "16"
        ],
        [
         "3",
         "00_09_30_to_00_10_09.mp4",
         "1920",
         "1080",
         "38"
        ],
        [
         "4",
         "00_10_09_to_00_10_40.mp4",
         "1920",
         "1080",
         "30"
        ],
        [
         "5",
         "2019_08_19_C0001_5319_phantom.mp4",
         "3840",
         "2160",
         "118"
        ],
        [
         "6",
         "2019_08_19_GOPR5869_1530_phantom.mp4",
         "1920",
         "1080",
         "40"
        ],
        [
         "7",
         "2019_08_19_GP015869_1520_inspire.mp4",
         "1920",
         "1080",
         "35"
        ],
        [
         "8",
         "2019_09_02_C0002_2527_inspire.mp4",
         "3840",
         "2160",
         "20"
        ],
        [
         "9",
         "2019_09_02_C0002_3700_mavic.mp4",
         "3840",
         "2160",
         "37"
        ],
        [
         "10",
         "2019_09_02_GOPR5871_1058_solo.mp4",
         "1920",
         "1080",
         "29"
        ],
        [
         "11",
         "2019_10_16_C0003_1700_matrice.mp4",
         "3840",
         "2160",
         "63"
        ],
        [
         "12",
         "2019_10_16_C0003_3633_inspire.MP4",
         "3840",
         "2160",
         "56"
        ],
        [
         "13",
         "2019_10_16_C0003_4613_mavic.mp4",
         "3840",
         "2160",
         "17"
        ],
        [
         "14",
         "2019_10_16_C0003_5043_mavic.mp4",
         "3840",
         "2160",
         "17"
        ],
        [
         "15",
         "2019_11_14_C0001_3922_matrice.mp4",
         "3840",
         "2160",
         "104"
        ],
        [
         "16",
         "custom_fixed_wing_1.avi",
         "720",
         "576",
         "30"
        ],
        [
         "17",
         "custom_fixed_wing_2.avi",
         "720",
         "576",
         "36"
        ],
        [
         "18",
         "distant_parrot_2.avi",
         "1920",
         "1080",
         "60"
        ],
        [
         "19",
         "distant_parrot_with_birds.avi",
         "1920",
         "1080",
         "60"
        ],
        [
         "20",
         "dji_matrice_210_hillside.avi",
         "1920",
         "1080",
         "60"
        ],
        [
         "21",
         "dji_matrice_210_mountain.avi",
         "1920",
         "1080",
         "60"
        ],
        [
         "22",
         "dji_matrice_210_off_focus.avi",
         "1920",
         "1080",
         "61"
        ],
        [
         "23",
         "dji_matrice_210_sky.avi",
         "1920",
         "1080",
         "60"
        ],
        [
         "24",
         "dji_mavick_close_buildings.avi",
         "1920",
         "1080",
         "60"
        ],
        [
         "25",
         "dji_mavick_distant_hillside.avi",
         "1920",
         "1080",
         "60"
        ],
        [
         "26",
         "dji_mavick_hillside_off_focus.avi",
         "1920",
         "1080",
         "83"
        ],
        [
         "27",
         "dji_mavick_mountain.avi",
         "1920",
         "1080",
         "59"
        ],
        [
         "28",
         "dji_mavick_mountain_cruise.avi",
         "1920",
         "1080",
         "61"
        ],
        [
         "29",
         "dji_pantom_landing_custom_fixed_takeoff.avi",
         "720",
         "576",
         "54"
        ],
        [
         "30",
         "dji_phantom_4_hillside_cross.avi",
         "1920",
         "1080",
         "110"
        ],
        [
         "31",
         "dji_phantom_4_long_takeoff.avi",
         "1920",
         "1080",
         "60"
        ],
        [
         "32",
         "dji_phantom_4_mountain_hover.avi",
         "1920",
         "1080",
         "60"
        ],
        [
         "33",
         "dji_phantom_4_swarm_noon.avi",
         "720",
         "576",
         "60"
        ],
        [
         "34",
         "dji_phantom_mountain_cross.avi",
         "1920",
         "1080",
         "155"
        ],
        [
         "35",
         "fixed_wing_over_hill_1.avi",
         "1920",
         "1080",
         "10"
        ],
        [
         "36",
         "fixed_wing_over_hill_2.avi",
         "1920",
         "1080",
         "15"
        ],
        [
         "37",
         "GOPR5842_002.mp4",
         "1920",
         "1080",
         "20"
        ],
        [
         "38",
         "GOPR5842_005.mp4",
         "1920",
         "1080",
         "17"
        ],
        [
         "39",
         "GOPR5842_007.mp4",
         "1920",
         "1080",
         "17"
        ],
        [
         "40",
         "GOPR5843_002.mp4",
         "1920",
         "1080",
         "14"
        ],
        [
         "41",
         "GOPR5843_005.mp4",
         "1920",
         "1080",
         "19"
        ],
        [
         "42",
         "GOPR5844_002.mp4",
         "1920",
         "1080",
         "16"
        ],
        [
         "43",
         "GOPR5844_004.mp4",
         "1920",
         "1080",
         "13"
        ],
        [
         "44",
         "GOPR5845_001.mp4",
         "1920",
         "1080",
         "20"
        ],
        [
         "45",
         "GOPR5845_004.mp4",
         "1920",
         "1080",
         "13"
        ],
        [
         "46",
         "GOPR5846_002.mp4",
         "1920",
         "1080",
         "22"
        ],
        [
         "47",
         "GOPR5846_005.mp4",
         "1920",
         "1080",
         "15"
        ],
        [
         "48",
         "GOPR5847_003.mp4",
         "1920",
         "1080",
         "16"
        ],
        [
         "49",
         "GOPR5847_004.mp4",
         "1920",
         "1080",
         "24"
        ]
       ],
       "shape": {
        "columns": 4,
        "rows": 77
       }
      },
      "text/html": [
       "<div>\n",
       "<style scoped>\n",
       "    .dataframe tbody tr th:only-of-type {\n",
       "        vertical-align: middle;\n",
       "    }\n",
       "\n",
       "    .dataframe tbody tr th {\n",
       "        vertical-align: top;\n",
       "    }\n",
       "\n",
       "    .dataframe thead th {\n",
       "        text-align: right;\n",
       "    }\n",
       "</style>\n",
       "<table border=\"1\" class=\"dataframe\">\n",
       "  <thead>\n",
       "    <tr style=\"text-align: right;\">\n",
       "      <th></th>\n",
       "      <th>file</th>\n",
       "      <th>width</th>\n",
       "      <th>height</th>\n",
       "      <th>duration</th>\n",
       "    </tr>\n",
       "  </thead>\n",
       "  <tbody>\n",
       "    <tr>\n",
       "      <th>0</th>\n",
       "      <td>00_01_52_to_00_01_58.mp4</td>\n",
       "      <td>1920</td>\n",
       "      <td>1080</td>\n",
       "      <td>5</td>\n",
       "    </tr>\n",
       "    <tr>\n",
       "      <th>1</th>\n",
       "      <td>00_02_45_to_00_03_10_cut.mpg</td>\n",
       "      <td>1920</td>\n",
       "      <td>1080</td>\n",
       "      <td>7</td>\n",
       "    </tr>\n",
       "    <tr>\n",
       "      <th>2</th>\n",
       "      <td>00_06_10_to_00_06_27.mp4</td>\n",
       "      <td>1920</td>\n",
       "      <td>1080</td>\n",
       "      <td>16</td>\n",
       "    </tr>\n",
       "    <tr>\n",
       "      <th>3</th>\n",
       "      <td>00_09_30_to_00_10_09.mp4</td>\n",
       "      <td>1920</td>\n",
       "      <td>1080</td>\n",
       "      <td>38</td>\n",
       "    </tr>\n",
       "    <tr>\n",
       "      <th>4</th>\n",
       "      <td>00_10_09_to_00_10_40.mp4</td>\n",
       "      <td>1920</td>\n",
       "      <td>1080</td>\n",
       "      <td>30</td>\n",
       "    </tr>\n",
       "    <tr>\n",
       "      <th>...</th>\n",
       "      <td>...</td>\n",
       "      <td>...</td>\n",
       "      <td>...</td>\n",
       "      <td>...</td>\n",
       "    </tr>\n",
       "    <tr>\n",
       "      <th>72</th>\n",
       "      <td>swarm_dji_phantom.avi</td>\n",
       "      <td>720</td>\n",
       "      <td>576</td>\n",
       "      <td>78</td>\n",
       "    </tr>\n",
       "    <tr>\n",
       "      <th>73</th>\n",
       "      <td>swarm_dji_phantom4_2.avi</td>\n",
       "      <td>720</td>\n",
       "      <td>576</td>\n",
       "      <td>60</td>\n",
       "    </tr>\n",
       "    <tr>\n",
       "      <th>74</th>\n",
       "      <td>two_distant_phantom.avi</td>\n",
       "      <td>1280</td>\n",
       "      <td>720</td>\n",
       "      <td>59</td>\n",
       "    </tr>\n",
       "    <tr>\n",
       "      <th>75</th>\n",
       "      <td>two_parrot_disco_1.avi</td>\n",
       "      <td>720</td>\n",
       "      <td>576</td>\n",
       "      <td>70</td>\n",
       "    </tr>\n",
       "    <tr>\n",
       "      <th>76</th>\n",
       "      <td>two_uavs_plus_airplane.avi</td>\n",
       "      <td>1920</td>\n",
       "      <td>1080</td>\n",
       "      <td>60</td>\n",
       "    </tr>\n",
       "  </tbody>\n",
       "</table>\n",
       "<p>77 rows × 4 columns</p>\n",
       "</div>"
      ],
      "text/plain": [
       "                            file  width  height  duration\n",
       "0       00_01_52_to_00_01_58.mp4   1920    1080         5\n",
       "1   00_02_45_to_00_03_10_cut.mpg   1920    1080         7\n",
       "2       00_06_10_to_00_06_27.mp4   1920    1080        16\n",
       "3       00_09_30_to_00_10_09.mp4   1920    1080        38\n",
       "4       00_10_09_to_00_10_40.mp4   1920    1080        30\n",
       "..                           ...    ...     ...       ...\n",
       "72         swarm_dji_phantom.avi    720     576        78\n",
       "73      swarm_dji_phantom4_2.avi    720     576        60\n",
       "74       two_distant_phantom.avi   1280     720        59\n",
       "75        two_parrot_disco_1.avi    720     576        70\n",
       "76    two_uavs_plus_airplane.avi   1920    1080        60\n",
       "\n",
       "[77 rows x 4 columns]"
      ]
     },
     "execution_count": 10,
     "metadata": {},
     "output_type": "execute_result"
    }
   ],
   "source": [
    "video_info_df"
   ]
  },
  {
   "cell_type": "code",
   "execution_count": 11,
   "id": "437d8705",
   "metadata": {},
   "outputs": [
    {
     "data": {
      "application/vnd.microsoft.datawrangler.viewer.v0+json": {
       "columns": [
        {
         "name": "index",
         "rawType": "object",
         "type": "string"
        },
        {
         "name": "width",
         "rawType": "float64",
         "type": "float"
        },
        {
         "name": "height",
         "rawType": "float64",
         "type": "float"
        },
        {
         "name": "duration",
         "rawType": "float64",
         "type": "float"
        }
       ],
       "ref": "65ef5121-8977-4881-a7aa-131bdf5d46e8",
       "rows": [
        [
         "count",
         "77.0",
         "77.0",
         "77.0"
        ],
        [
         "mean",
         "1924.155844155844",
         "1108.987012987013",
         "48.58441558441559"
        ],
        [
         "std",
         "787.8975198011592",
         "404.6488566615995",
         "43.54923126076929"
        ],
        [
         "min",
         "720.0",
         "576.0",
         "5.0"
        ],
        [
         "25%",
         "1920.0",
         "1080.0",
         "19.0"
        ],
        [
         "50%",
         "1920.0",
         "1080.0",
         "45.0"
        ],
        [
         "75%",
         "1920.0",
         "1080.0",
         "60.0"
        ],
        [
         "max",
         "3840.0",
         "2160.0",
         "329.0"
        ]
       ],
       "shape": {
        "columns": 3,
        "rows": 8
       }
      },
      "text/html": [
       "<div>\n",
       "<style scoped>\n",
       "    .dataframe tbody tr th:only-of-type {\n",
       "        vertical-align: middle;\n",
       "    }\n",
       "\n",
       "    .dataframe tbody tr th {\n",
       "        vertical-align: top;\n",
       "    }\n",
       "\n",
       "    .dataframe thead th {\n",
       "        text-align: right;\n",
       "    }\n",
       "</style>\n",
       "<table border=\"1\" class=\"dataframe\">\n",
       "  <thead>\n",
       "    <tr style=\"text-align: right;\">\n",
       "      <th></th>\n",
       "      <th>width</th>\n",
       "      <th>height</th>\n",
       "      <th>duration</th>\n",
       "    </tr>\n",
       "  </thead>\n",
       "  <tbody>\n",
       "    <tr>\n",
       "      <th>count</th>\n",
       "      <td>77.000000</td>\n",
       "      <td>77.000000</td>\n",
       "      <td>77.000000</td>\n",
       "    </tr>\n",
       "    <tr>\n",
       "      <th>mean</th>\n",
       "      <td>1924.155844</td>\n",
       "      <td>1108.987013</td>\n",
       "      <td>48.584416</td>\n",
       "    </tr>\n",
       "    <tr>\n",
       "      <th>std</th>\n",
       "      <td>787.897520</td>\n",
       "      <td>404.648857</td>\n",
       "      <td>43.549231</td>\n",
       "    </tr>\n",
       "    <tr>\n",
       "      <th>min</th>\n",
       "      <td>720.000000</td>\n",
       "      <td>576.000000</td>\n",
       "      <td>5.000000</td>\n",
       "    </tr>\n",
       "    <tr>\n",
       "      <th>25%</th>\n",
       "      <td>1920.000000</td>\n",
       "      <td>1080.000000</td>\n",
       "      <td>19.000000</td>\n",
       "    </tr>\n",
       "    <tr>\n",
       "      <th>50%</th>\n",
       "      <td>1920.000000</td>\n",
       "      <td>1080.000000</td>\n",
       "      <td>45.000000</td>\n",
       "    </tr>\n",
       "    <tr>\n",
       "      <th>75%</th>\n",
       "      <td>1920.000000</td>\n",
       "      <td>1080.000000</td>\n",
       "      <td>60.000000</td>\n",
       "    </tr>\n",
       "    <tr>\n",
       "      <th>max</th>\n",
       "      <td>3840.000000</td>\n",
       "      <td>2160.000000</td>\n",
       "      <td>329.000000</td>\n",
       "    </tr>\n",
       "  </tbody>\n",
       "</table>\n",
       "</div>"
      ],
      "text/plain": [
       "             width       height    duration\n",
       "count    77.000000    77.000000   77.000000\n",
       "mean   1924.155844  1108.987013   48.584416\n",
       "std     787.897520   404.648857   43.549231\n",
       "min     720.000000   576.000000    5.000000\n",
       "25%    1920.000000  1080.000000   19.000000\n",
       "50%    1920.000000  1080.000000   45.000000\n",
       "75%    1920.000000  1080.000000   60.000000\n",
       "max    3840.000000  2160.000000  329.000000"
      ]
     },
     "execution_count": 11,
     "metadata": {},
     "output_type": "execute_result"
    }
   ],
   "source": [
    "video_info_df.describe()"
   ]
  },
  {
   "cell_type": "markdown",
   "id": "653bb2c5",
   "metadata": {},
   "source": [
    "Some basic observations of the video information shows that most of them 1920x1080, with an average length of 48 seconds (median is 45). The largest resolutions are 3840x2160 which may prove problematic for training due to their size."
   ]
  },
  {
   "cell_type": "markdown",
   "id": "68db7100",
   "metadata": {},
   "source": [
    "## 2. Video Investigation"
   ]
  },
  {
   "cell_type": "markdown",
   "id": "4c956f79",
   "metadata": {},
   "source": []
  },
  {
   "cell_type": "code",
   "execution_count": 13,
   "id": "47f88363",
   "metadata": {},
   "outputs": [],
   "source": [
    "# Get list of the video files\n",
    "video_files = utils.files.get_video_files(os.path.join(utils.RAW_DATA_DIR, 'drone_vs_bird_competition'))"
   ]
  },
  {
   "cell_type": "code",
   "execution_count": 14,
   "id": "6f4799a8",
   "metadata": {},
   "outputs": [],
   "source": [
    "# Get list of the image files\n",
    "image_files = utils.files.get_image_files(os.path.join(utils.INTERIM_DATA_DIR, 'drone_vs_bird_data'))"
   ]
  },
  {
   "cell_type": "code",
   "execution_count": null,
   "id": "8bfc438d",
   "metadata": {},
   "outputs": [],
   "source": [
    "# Loop through the video files\n",
    "for video_file in video_files:\n",
    "    # Get video information\n",
    "    video_width, video_height = utils.video_data.get_resolution(video_file, utils.RAW_DATA_DIR)\n",
    "    \n",
    "    # Get base name of the video\n",
    "    base_name = os.path.splitext(video_file)[0]\n",
    "\n",
    "    # Filter the list of images down to just those that correspond to the current video\n",
    "    video_images = [img for img in image_files if base_name in img]\n",
    "    \n",
    "    # Get the corresponding list of annotation files\n",
    "    ann_files = [os.path.splitext(img)[0] + \".txt\" for img in video_images]\n",
    "    \n",
    "    # Create empty list for the processed images\n",
    "    processed_images = []\n",
    "\n",
    "    for img, ann in zip(video_images, ann_files):\n",
    "        # Get the image dimensions\n",
    "        img_width, img_height = utils.image_data.get_image_size(img, utils.INTERIM_DATA_DIR)\n",
    "        \n",
    "        # Get the bounding boxes\n",
    "        bboxes = utils.label_data.read_bbox_file(ann)\n",
    "        \n",
    "        # Draw the bounding boxes on the image\n",
    "        img_with_bboxes = utils.image_data.draw_bbox(img, bboxes)\n",
    "        \n",
    "        # Save the image to the list\n",
    "        processed_images.append(img_with_bboxes)\n",
    "        \n",
    "    # Combine the processed images into a video\n",
    "    output_path = os.path.join(utils.RAW_DATA_DIR, 'drone_vs_bird_annotated_vids', f\"{base_name}_annotated.mp4\")\n",
    "    utils.video_data.create_video(processed_images, video_width, video_height, output_path)"
   ]
  },
  {
   "cell_type": "markdown",
   "id": "fa93bdaa",
   "metadata": {},
   "source": [
    "## 3. Saving Resulting Data"
   ]
  },
  {
   "cell_type": "markdown",
   "id": "5d3a3e1f",
   "metadata": {},
   "source": []
  },
  {
   "cell_type": "code",
   "execution_count": 8,
   "id": "9441709d",
   "metadata": {},
   "outputs": [
    {
     "name": "stdout",
     "output_type": "stream",
     "text": [
      "Total number of images: 106460\n"
     ]
    }
   ],
   "source": [
    "# Collect a list of all image files\n",
    "\n",
    "image_list = utils.image_data.get_image_files(os.path.join(utils.INTERIM_DATA_DIR, 'drone_vs_bird_data'))\n",
    "\n",
    "length_initial = len(image_list)\n",
    "\n",
    "print(f\"Total number of images: {length_initial}\")"
   ]
  },
  {
   "cell_type": "code",
   "execution_count": 9,
   "id": "d65a9c58",
   "metadata": {},
   "outputs": [
    {
     "name": "stdout",
     "output_type": "stream",
     "text": [
      "Total number of images after removing blank images: 106443\n",
      "Total removed: 17\n",
      "Total identified blank images: 17\n"
     ]
    }
   ],
   "source": [
    "# Remove all blank images this should be 17 less than the previous total\n",
    "\n",
    "image_list = [img for img in image_list if img not in black_images_df['file_name'].values]\n",
    "\n",
    "length_remove_blanks = len(image_list)\n",
    "\n",
    "print(f\"Total number of images after removing blank images: {length_remove_blanks}\")\n",
    "print(f\"Total removed: {length_initial - length_remove_blanks}\")\n",
    "print(f\"Total identified blank images: {len(black_images_df)}\")"
   ]
  },
  {
   "cell_type": "code",
   "execution_count": 10,
   "id": "738dfcc8",
   "metadata": {},
   "outputs": [],
   "source": [
    "# If the image contains the test file name move it from the list to a new list\n",
    "test_images = [img for img in image_list if utils.files.file_contains_name(img, test_files)]\n",
    "training_images = [img for img in image_list if img not in test_images]"
   ]
  },
  {
   "cell_type": "code",
   "execution_count": 11,
   "id": "7ae753e5",
   "metadata": {},
   "outputs": [],
   "source": [
    "# Do the same, splitting training into training and validation\n",
    "val_images = [img for img in training_images if utils.files.file_contains_name(img, val_files)]\n",
    "training_images = [img for img in training_images if img not in val_images]"
   ]
  },
  {
   "cell_type": "code",
   "execution_count": 12,
   "id": "334ccead",
   "metadata": {},
   "outputs": [
    {
     "name": "stdout",
     "output_type": "stream",
     "text": [
      "Total number of test images: 10725\n",
      "Total number of validation images: 10723\n",
      "Total number of training images: 84995\n"
     ]
    }
   ],
   "source": [
    "# Check list sizes\n",
    "\n",
    "print(f\"Total number of test images: {len(test_images)}\")\n",
    "print(f\"Total number of validation images: {len(val_images)}\")\n",
    "print(f\"Total number of training images: {len(training_images)}\")"
   ]
  },
  {
   "cell_type": "code",
   "execution_count": 13,
   "id": "ecebfcdf",
   "metadata": {},
   "outputs": [],
   "source": [
    "# Duplicate the lists for the annotation files\n",
    "\n",
    "test_annotations = test_images.copy()\n",
    "val_annotations = val_images.copy()\n",
    "training_annotations = training_images.copy()\n",
    "\n",
    "# Change file extensions for each line to .txt\n",
    "test_annotations = [os.path.splitext(ann)[0] + '.txt' for ann in test_annotations]\n",
    "val_annotations = [os.path.splitext(ann)[0] + '.txt' for ann in val_annotations]\n",
    "training_annotations = [os.path.splitext(ann)[0] + '.txt' for ann in training_annotations]"
   ]
  },
  {
   "cell_type": "code",
   "execution_count": 14,
   "id": "22c36782",
   "metadata": {},
   "outputs": [
    {
     "name": "stdout",
     "output_type": "stream",
     "text": [
      "Test image: data\\interim\\drone_vs_bird_data\\dji_matrice_210_off_focus_frame_0232.png\n",
      "Test annotation: data\\interim\\drone_vs_bird_data\\dji_matrice_210_off_focus_frame_0232.txt\n",
      "Validation image: data\\interim\\drone_vs_bird_data\\GOPR5844_002_frame_0466.png\n",
      "Validation annotation: data\\interim\\drone_vs_bird_data\\GOPR5844_002_frame_0466.txt\n",
      "Training image: data\\interim\\drone_vs_bird_data\\matrice_600_3_frame_1949.png\n",
      "Training annotation: data\\interim\\drone_vs_bird_data\\matrice_600_3_frame_1949.txt\n"
     ]
    }
   ],
   "source": [
    "# Set random seed for reproducibility\n",
    "rng = np.random.default_rng(42)\n",
    "\n",
    "# Get a random number in the range of the test set\n",
    "random_test_index = rng.integers(0, len(test_images))\n",
    "\n",
    "# Get a random number in the range of the validation set\n",
    "random_validation_index = rng.integers(0, len(val_images))\n",
    "\n",
    "# Get a random number in the range of the training set\n",
    "random_training_index = rng.integers(0, len(training_images))\n",
    "\n",
    "# Ensure that the test index gives matching image and annotations\n",
    "print(f\"Test image: {test_images[random_test_index]}\")\n",
    "print(f\"Test annotation: {test_annotations[random_test_index]}\")\n",
    "\n",
    "# Ensure that the validation index gives matching image and annotations\n",
    "print(f\"Validation image: {val_images[random_validation_index]}\")\n",
    "print(f\"Validation annotation: {val_annotations[random_validation_index]}\")\n",
    "\n",
    "# Ensure that the training index gives matching image and annotations\n",
    "print(f\"Training image: {training_images[random_training_index]}\")\n",
    "print(f\"Training annotation: {training_annotations[random_training_index]}\")\n"
   ]
  },
  {
   "cell_type": "code",
   "execution_count": 16,
   "id": "b4a1c49e",
   "metadata": {},
   "outputs": [],
   "source": [
    "# Test folder\n",
    "testing_folder = os.path.join(utils.INTERIM_DATA_DIR, \"drone_vs_bird_shrunk\", \"test\")\n",
    "\n",
    "# Copy the test annotations and images to the testing folder\n",
    "for img, ann in zip(test_images, test_annotations):\n",
    "    shutil.copy(img, os.path.join(testing_folder, \"images\", os.path.basename(img)))\n",
    "    shutil.copy(ann, os.path.join(testing_folder, \"labels\", os.path.basename(ann)))\n"
   ]
  },
  {
   "cell_type": "code",
   "execution_count": 17,
   "id": "71ceb9eb",
   "metadata": {},
   "outputs": [],
   "source": [
    "# Validation folder\n",
    "val_folder = os.path.join(utils.INTERIM_DATA_DIR, \"drone_vs_bird_shrunk\", \"val\")\n",
    "\n",
    "# Copy the validation annotations and images to the validation folder\n",
    "for img, ann in zip(val_images, val_annotations):\n",
    "    shutil.copy(img, os.path.join(val_folder, \"images\", os.path.basename(img)))\n",
    "    shutil.copy(ann, os.path.join(val_folder, \"labels\", os.path.basename(ann)))"
   ]
  },
  {
   "cell_type": "code",
   "execution_count": 18,
   "id": "622526aa",
   "metadata": {},
   "outputs": [],
   "source": [
    "# Training folder\n",
    "training_folder = os.path.join(utils.INTERIM_DATA_DIR, \"drone_vs_bird_shrunk\", \"train\")\n",
    "\n",
    "# Copy the training annotations and images to the training folder\n",
    "for img, ann in zip(training_images, training_annotations):\n",
    "    shutil.copy(img, os.path.join(training_folder, \"images\", os.path.basename(img)))\n",
    "    shutil.copy(ann, os.path.join(training_folder, \"labels\", os.path.basename(ann)))\n"
   ]
  },
  {
   "cell_type": "code",
   "execution_count": 19,
   "id": "0e2570f4",
   "metadata": {},
   "outputs": [],
   "source": [
    "# Get a list of each image file in the training, validation, and testing folders\n",
    "training_folder = os.path.join(utils.INTERIM_DATA_DIR, \"drone_vs_bird_shrunk\", \"train\", \"images\")\n",
    "val_folder = os.path.join(utils.INTERIM_DATA_DIR, \"drone_vs_bird_shrunk\", \"val\", \"images\")\n",
    "testing_folder = os.path.join(utils.INTERIM_DATA_DIR, \"drone_vs_bird_shrunk\", \"test\", \"images\")\n",
    "\n",
    "train_images = utils.image_data.get_image_files(training_folder)\n",
    "val_images = utils.image_data.get_image_files(val_folder)\n",
    "test_images = utils.image_data.get_image_files(testing_folder)\n"
   ]
  },
  {
   "cell_type": "code",
   "execution_count": 20,
   "id": "aa797c91",
   "metadata": {},
   "outputs": [],
   "source": [
    "# Set max image size\n",
    "max_image_size = (640, 640)\n"
   ]
  },
  {
   "cell_type": "code",
   "execution_count": 22,
   "id": "361507e2",
   "metadata": {},
   "outputs": [],
   "source": [
    "# For all images in the training folder apply the scale_image_down function\n",
    "for img in train_images:\n",
    "    utils.image_data.scale_image_down(img, max_image_size)\n",
    "# For all images in the validation folder apply the scale_image_down function\n",
    "for img in val_images:\n",
    "    utils.image_data.scale_image_down(img, max_image_size)"
   ]
  },
  {
   "cell_type": "code",
   "execution_count": 4,
   "id": "193aaf1a",
   "metadata": {},
   "outputs": [],
   "source": [
    "# For all images in the validation folder apply the scale_image_down function\n",
    "for img in val_images:\n",
    "    utils.image_data.scale_image_down(img, max_image_size)\n"
   ]
  },
  {
   "cell_type": "code",
   "execution_count": 21,
   "id": "4642daa1",
   "metadata": {},
   "outputs": [],
   "source": [
    "# For all images in the test folder apply the scale_image_down function\n",
    "for img in test_images:\n",
    "    utils.image_data.scale_image_down(img, max_image_size)\n"
   ]
  }
 ],
 "metadata": {
  "kernelspec": {
   "display_name": "sydrone",
   "language": "python",
   "name": "python3"
  },
  "language_info": {
   "codemirror_mode": {
    "name": "ipython",
    "version": 3
   },
   "file_extension": ".py",
   "mimetype": "text/x-python",
   "name": "python",
   "nbconvert_exporter": "python",
   "pygments_lexer": "ipython3",
   "version": "3.13.5"
  }
 },
 "nbformat": 4,
 "nbformat_minor": 5
}
