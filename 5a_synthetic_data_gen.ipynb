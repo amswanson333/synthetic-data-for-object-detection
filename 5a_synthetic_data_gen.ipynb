{
 "cells": [
  {
   "cell_type": "markdown",
   "id": "13709c5e",
   "metadata": {},
   "source": [
    "# 🏗️ Synthetic Data Generation"
   ]
  },
  {
   "cell_type": "markdown",
   "id": "8ebb2ab6",
   "metadata": {},
   "source": [
    "The first dataset generated uses 3D models of drones (object) placed into a real background image (canvas)."
   ]
  },
  {
   "cell_type": "markdown",
   "id": "05639070",
   "metadata": {},
   "source": [
    "Number of images:\n",
    "- `Training = 20264`\n",
    "- `Validation = 4304`\n",
    "\n",
    "Test data will reuse the original data set for comparison."
   ]
  },
  {
   "cell_type": "code",
   "execution_count": 1,
   "id": "95c3bcef",
   "metadata": {},
   "outputs": [],
   "source": [
    "from PIL import Image\n",
    "import numpy as np\n",
    "import pandas as pd\n",
    "import os\n",
    "\n",
    "from src import utils"
   ]
  },
  {
   "cell_type": "markdown",
   "id": "ed16d7a9",
   "metadata": {},
   "source": [
    "## 1. Canvas Images"
   ]
  },
  {
   "cell_type": "markdown",
   "id": "d4197eeb",
   "metadata": {},
   "source": [
    "Select a set of canvas images to use for training and validation sets."
   ]
  },
  {
   "cell_type": "code",
   "execution_count": 3,
   "id": "98599968",
   "metadata": {},
   "outputs": [
    {
     "name": "stdout",
     "output_type": "stream",
     "text": [
      "There are 77 images.\n"
     ]
    }
   ],
   "source": [
    "# Get the list of images\n",
    "canvas_imgs = utils.files.get_image_files(os.path.join(utils.EXTERNAL_DATA_DIR, \"canvas\"))\n",
    "print(f\"There are {len(canvas_imgs)} images.\")"
   ]
  },
  {
   "cell_type": "code",
   "execution_count": 4,
   "id": "f5c5564c",
   "metadata": {},
   "outputs": [
    {
     "name": "stdout",
     "output_type": "stream",
     "text": [
      "61 training image canvases and 16 validation image canvases.\n"
     ]
    }
   ],
   "source": [
    "# Split the images into 80%/20% training/validation\n",
    "trn_amount = int(0.8 * 77)\n",
    "\n",
    "trn_canvases = np.random.choice(canvas_imgs, size=trn_amount, replace=False)\n",
    "\n",
    "val_canvases = [canvas for canvas in canvas_imgs if canvas not in trn_canvases]\n",
    "\n",
    "print(f\"{len(trn_canvases)} training image canvases and {len(val_canvases)} validation image canvases.\")"
   ]
  },
  {
   "cell_type": "code",
   "execution_count": 5,
   "id": "e4302eb0",
   "metadata": {},
   "outputs": [],
   "source": [
    "# Save the lists for later use\n",
    "trn_canvases = pd.Series(trn_canvases)\n",
    "val_canvases = pd.Series(val_canvases)\n",
    "\n",
    "trn_canvases.to_csv(os.path.join(utils.EXTERNAL_DATA_DIR, \"canvas\", \"trn_cache.csv\"), index=False)\n",
    "val_canvases.to_csv(os.path.join(utils.EXTERNAL_DATA_DIR, \"canvas\", \"val_cache.csv\"), index=False)"
   ]
  },
  {
   "cell_type": "code",
   "execution_count": null,
   "id": "8d0c79d6",
   "metadata": {},
   "outputs": [],
   "source": []
  },
  {
   "cell_type": "markdown",
   "id": "698cf723",
   "metadata": {},
   "source": []
  }
 ],
 "metadata": {
  "kernelspec": {
   "display_name": "sydrone",
   "language": "python",
   "name": "python3"
  },
  "language_info": {
   "codemirror_mode": {
    "name": "ipython",
    "version": 3
   },
   "file_extension": ".py",
   "mimetype": "text/x-python",
   "name": "python",
   "nbconvert_exporter": "python",
   "pygments_lexer": "ipython3",
   "version": "3.13.5"
  }
 },
 "nbformat": 4,
 "nbformat_minor": 5
}
