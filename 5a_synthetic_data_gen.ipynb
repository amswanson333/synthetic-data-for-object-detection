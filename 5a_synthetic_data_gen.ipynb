{
 "cells": [
  {
   "cell_type": "markdown",
   "id": "13709c5e",
   "metadata": {},
   "source": [
    "# 🏗️ Synthetic Data Generation"
   ]
  },
  {
   "cell_type": "markdown",
   "id": "8ebb2ab6",
   "metadata": {},
   "source": [
    "The first dataset generated uses 3D models of drones (object) placed into a real background image (canvas)."
   ]
  },
  {
   "cell_type": "markdown",
   "id": "05639070",
   "metadata": {},
   "source": [
    "Number of images:\n",
    "- `Training = 20264`\n",
    "- `Validation = 4304`\n",
    "\n",
    "Test data will reuse the original data set for comparison."
   ]
  },
  {
   "cell_type": "code",
   "execution_count": 1,
   "id": "95c3bcef",
   "metadata": {},
   "outputs": [],
   "source": [
    "from PIL import Image\n",
    "import numpy as np\n",
    "import pandas as pd\n",
    "import os\n",
    "\n",
    "from src import utils"
   ]
  },
  {
   "cell_type": "markdown",
   "id": "ed16d7a9",
   "metadata": {},
   "source": [
    "## 1. Canvas Images"
   ]
  },
  {
   "cell_type": "markdown",
   "id": "d4197eeb",
   "metadata": {},
   "source": [
    "Select a set of canvas images to use for training and validation sets."
   ]
  },
  {
   "cell_type": "code",
   "execution_count": 3,
   "id": "98599968",
   "metadata": {},
   "outputs": [
    {
     "name": "stdout",
     "output_type": "stream",
     "text": [
      "There are 77 images.\n"
     ]
    }
   ],
   "source": [
    "# Get the list of images\n",
    "canvas_imgs = utils.files.get_image_files(os.path.join(utils.EXTERNAL_DATA_DIR, \"canvas\"))\n",
    "print(f\"There are {len(canvas_imgs)} images.\")"
   ]
  },
  {
   "cell_type": "code",
   "execution_count": 4,
   "id": "f5c5564c",
   "metadata": {},
   "outputs": [
    {
     "name": "stdout",
     "output_type": "stream",
     "text": [
      "61 training image canvases and 16 validation image canvases.\n"
     ]
    }
   ],
   "source": [
    "# Split the images into 80%/20% training/validation\n",
    "trn_amount = int(0.8 * 77)\n",
    "\n",
    "trn_canvases = np.random.choice(canvas_imgs, size=trn_amount, replace=False)\n",
    "\n",
    "val_canvases = [canvas for canvas in canvas_imgs if canvas not in trn_canvases]\n",
    "\n",
    "print(f\"{len(trn_canvases)} training image canvases and {len(val_canvases)} validation image canvases.\")"
   ]
  },
  {
   "cell_type": "code",
   "execution_count": 5,
   "id": "e4302eb0",
   "metadata": {},
   "outputs": [],
   "source": [
    "# Save the lists for later use\n",
    "trn_canvases = pd.Series(trn_canvases)\n",
    "val_canvases = pd.Series(val_canvases)\n",
    "\n",
    "trn_canvases.to_csv(os.path.join(utils.EXTERNAL_DATA_DIR, \"canvas\", \"trn_cache.csv\"), index=False)\n",
    "val_canvases.to_csv(os.path.join(utils.EXTERNAL_DATA_DIR, \"canvas\", \"val_cache.csv\"), index=False)"
   ]
  },
  {
   "cell_type": "code",
   "execution_count": 6,
   "id": "8d0c79d6",
   "metadata": {},
   "outputs": [
    {
     "name": "stdout",
     "output_type": "stream",
     "text": [
      "61 training image canvases and 16 validation image canvases.\n"
     ]
    }
   ],
   "source": [
    "# Read the lists back in\n",
    "trn_canvases = pd.read_csv(os.path.join(utils.EXTERNAL_DATA_DIR, \"canvas\", \"trn_cache.csv\"))\n",
    "val_canvases = pd.read_csv(os.path.join(utils.EXTERNAL_DATA_DIR, \"canvas\", \"val_cache.csv\"))\n",
    "\n",
    "print(f\"{len(trn_canvases)} training image canvases and {len(val_canvases)} validation image canvases.\")"
   ]
  },
  {
   "cell_type": "markdown",
   "id": "cdd5aa4e",
   "metadata": {},
   "source": [
    "## 2. Objects"
   ]
  },
  {
   "cell_type": "markdown",
   "id": "49a28d98",
   "metadata": {},
   "source": [
    "Select the objects to use for the images."
   ]
  },
  {
   "cell_type": "code",
   "execution_count": null,
   "id": "68317385",
   "metadata": {},
   "outputs": [],
   "source": [
    "# Get the list of 3D model files\n",
    "model_paths = utils.files.get_3d_model_files(os.path.join(utils.EXTERNAL_DATA_DIR, \"3d_models\"))"
   ]
  },
  {
   "cell_type": "code",
   "execution_count": null,
   "id": "e44863d4",
   "metadata": {},
   "outputs": [],
   "source": [
    "# Load each of the model files into memory as a vtk object\n",
    "models_list = []\n",
    "for path in model_paths:\n",
    "    name = os.path.splitext(os.path.basename(path))[0]\n",
    "    model = utils.synth.load_3d_model(path)\n",
    "    models_list.append((name, model))"
   ]
  },
  {
   "cell_type": "markdown",
   "id": "60f505c0",
   "metadata": {},
   "source": [
    "Objects will be further manipulated at a later stage as they are placed onto the canvas."
   ]
  },
  {
   "cell_type": "markdown",
   "id": "698cf723",
   "metadata": {},
   "source": [
    "## 3. Data Generation"
   ]
  },
  {
   "cell_type": "markdown",
   "id": "4f23903b",
   "metadata": {},
   "source": [
    "Generate data for the training and validation sets."
   ]
  },
  {
   "cell_type": "markdown",
   "id": "112202fc",
   "metadata": {},
   "source": [
    "### a. Training Data"
   ]
  },
  {
   "cell_type": "markdown",
   "id": "3fbf14f5",
   "metadata": {},
   "source": []
  },
  {
   "cell_type": "code",
   "execution_count": null,
   "id": "1e4195f3",
   "metadata": {},
   "outputs": [],
   "source": [
    "# Set the number of training data images to create\n",
    "training_total = 20264"
   ]
  },
  {
   "cell_type": "code",
   "execution_count": null,
   "id": "8020284d",
   "metadata": {},
   "outputs": [],
   "source": [
    "# Set the data directory\n",
    "train_data_dir = os.path.join(utils.INTERIM_DATA_DIR, \"3d_model_data\", \"train\")\n",
    "\n",
    "# Create the folders if they don't exist\n",
    "os.makedirs(train_data_dir, exist_ok=True)"
   ]
  },
  {
   "cell_type": "code",
   "execution_count": null,
   "id": "0fa31a2d",
   "metadata": {},
   "outputs": [],
   "source": [
    "# Set a random number generator seed for reproducibility\n",
    "rng = np.random.default_rng(seed=42)\n",
    "\n",
    "# Loop to create training data equal to the total number specified\n",
    "for i in range(training_total):\n",
    "    if i % 100 == 0:\n",
    "        print(f\"Creating training image {i} of {training_total}\")\n",
    "\n",
    "    # Randomly select a canvas image\n",
    "    canvas_path = rng.choice(trn_canvases)[0]\n",
    "    canvas = Image.open(canvas_path)\n",
    "    canvas_size = canvas.size\n",
    "\n",
    "    # Select a random number of models to place in the canvas\n",
    "    num_models = rng.integers(low=1, high=6)\n",
    "\n",
    "    # Loop for each model to be placed\n",
    "    for _ in range(num_models):\n",
    "        # Randomly select a 3D model file\n",
    "        name, model = rng.choice(models_list)\n",
    "        \n",
    "        # Handle models with specific initial orientations\n",
    "        if \"shahed\" in name:\n",
    "            # Set initial orientation\n",
    "            init_pitch = -90\n",
    "            init_yaw = 0\n",
    "            init_roll = -90\n",
    "            \n",
    "        elif \"dji_m600\" in name:\n",
    "            # Set initial orientation\n",
    "            init_pitch = 0\n",
    "            init_yaw = 0\n",
    "            init_roll = 0\n",
    "            \n",
    "        else:\n",
    "            # Set initial (default) orientation\n",
    "            init_pitch = 0\n",
    "            init_yaw = -90\n",
    "            init_roll = 0\n",
    "\n",
    "        # Generate a synthetic image and its labels\n",
    "        img, labels = utils.synthetic_data.create_synthetic_image(canvas, model_path)\n",
    "\n",
    "        # Update the canvas for the next model\n",
    "        canvas = img\n",
    "\n",
    "    # Generate a synthetic image and its labels\n",
    "    img, labels = utils.synthetic_data.create_synthetic_image(canvas, model_path)\n",
    "\n",
    "    # Save the image\n",
    "    img.save(os.path.join(train_data_dir, f\"img_{i:05d}.png\"))\n",
    "\n",
    "    # Save the labels\n",
    "    labels_df = pd.DataFrame(labels, columns=[\"class\", \"x_center\", \"y_center\", \"width\", \"height\"])\n",
    "    labels_df.to_csv(os.path.join(train_data_dir, f\"img_{i:05d}.csv\"), index=False)"
   ]
  },
  {
   "cell_type": "markdown",
   "id": "3d439b4e",
   "metadata": {},
   "source": [
    "### b. Validation Data"
   ]
  },
  {
   "cell_type": "markdown",
   "id": "23b84def",
   "metadata": {},
   "source": []
  },
  {
   "cell_type": "code",
   "execution_count": null,
   "id": "9a8952fa",
   "metadata": {},
   "outputs": [],
   "source": [
    "# Set the number of validation data images to create\n",
    "validation_total = 4304"
   ]
  },
  {
   "cell_type": "code",
   "execution_count": null,
   "id": "9ba01d1f",
   "metadata": {},
   "outputs": [],
   "source": [
    "# Set the data directory\n",
    "val_data_dir = os.path.join(utils.INTERIM_DATA_DIR, \"3d_model_data\", \"val\")\n",
    "\n",
    "# Create the folders if they don't exist\n",
    "os.makedirs(val_data_dir, exist_ok=True)"
   ]
  }
 ],
 "metadata": {
  "kernelspec": {
   "display_name": "sydrone",
   "language": "python",
   "name": "python3"
  },
  "language_info": {
   "codemirror_mode": {
    "name": "ipython",
    "version": 3
   },
   "file_extension": ".py",
   "mimetype": "text/x-python",
   "name": "python",
   "nbconvert_exporter": "python",
   "pygments_lexer": "ipython3",
   "version": "3.13.5"
  }
 },
 "nbformat": 4,
 "nbformat_minor": 5
}
